{
 "cells": [
  {
   "cell_type": "code",
   "execution_count": null,
   "metadata": {},
   "outputs": [],
   "source": [
    "import requests\n",
    "from bs4 import BeautifulSoup\n",
    "\n",
    "class Crawler:\n",
    "    '''This is the main crawler for one full website. Maintain session after login.'''\n",
    "    def __init__(self, base_url, login_url=None, login_form_data=None):\n",
    "        self.base_url = base_url\n",
    "        self.session = requests.Session()\n",
    "        if login_url is not None:\n",
    "            self.session.post(login_url, login_form_data)\n",
    "    \n",
    "    def parseUrl(self, url, debug=False):\n",
    "        '''Return a BeautifulSoup from the URL'''\n",
    "        if (debug):\n",
    "            print('Downloading from:', url)\n",
    "            \n",
    "        html = self.session.get(url).content\n",
    "        return self.parseContent(html, debug)\n",
    "\n",
    "    def parseContent(self, html, debug=False):\n",
    "        '''Return a BeautifulSoup from an HTML content'''\n",
    "        soup = BeautifulSoup(html, \"html.parser\")\n",
    "        if (debug):\n",
    "            print(soup.prettify())\n",
    "        return soup"
   ]
  },
  {
   "cell_type": "code",
   "execution_count": null,
   "metadata": {},
   "outputs": [],
   "source": [
    "import os\n",
    "from urllib.parse import urlparse\n",
    "\n",
    "def getFilenameFromHeader(headers, url):\n",
    "    \"\"\"\n",
    "    Get filename from content-disposition, else parse from url basename\n",
    "    \"\"\"\n",
    "    cd = headers.get('content-disposition')\n",
    "    if cd:\n",
    "        fname = re.findall('filename=(.+)', cd)\n",
    "        if len(fname) != 0:\n",
    "            return fname[0]\n",
    "    \n",
    "    urlObj = urlparse(url)\n",
    "    return os.path.basename(urlObj.path)"
   ]
  },
  {
   "cell_type": "code",
   "execution_count": null,
   "metadata": {},
   "outputs": [],
   "source": [
    "from pathlib import Path\n",
    "import requests\n",
    "\n",
    "class Downloader:\n",
    "    '''Taking care of local storage'''\n",
    "    def __init__(self, root_path, debug=False):\n",
    "        self.root_folder = self.createFolder(root_path, debug)\n",
    "\n",
    "    def createFolder(self, folder_path, debug=False):\n",
    "        if (debug):\n",
    "            print(\"Create folder path:\", folder_path)\n",
    "\n",
    "        Path(folder_path).mkdir(parents=True, exist_ok=True)\n",
    "        return folder_path + \"/\"\n",
    "\n",
    "    def downloadFile(self, url, sub_folder_target, debug=False):\n",
    "        response = requests.get(url, allow_redirects=True, stream=True)\n",
    "        if response.status_code == 200:\n",
    "            filename = getFilenameFromHeader(response.headers, url)\n",
    "            \n",
    "            folder = self.createFolder(self.root_folder + sub_folder_target)\n",
    "            filepath = folder + filename\n",
    "            \n",
    "            if (debug):\n",
    "                print(\"Write file to :\", filepath)\n",
    "                \n",
    "            with open(filepath, 'wb') as f:\n",
    "                for chunk in response.iter_content(1024):\n",
    "                    f.write(chunk)\n",
    "                    \n",
    "        # TODO : HANDLE EXCEPTION LOGS"
   ]
  }
 ],
 "metadata": {
  "kernelspec": {
   "display_name": "Python 3",
   "language": "python",
   "name": "python3"
  },
  "language_info": {
   "codemirror_mode": {
    "name": "ipython",
    "version": 3
   },
   "file_extension": ".py",
   "mimetype": "text/x-python",
   "name": "python",
   "nbconvert_exporter": "python",
   "pygments_lexer": "ipython3",
   "version": "3.7.6"
  }
 },
 "nbformat": 4,
 "nbformat_minor": 4
}
