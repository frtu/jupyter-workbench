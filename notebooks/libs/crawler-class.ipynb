{
 "cells": [
  {
   "cell_type": "code",
   "execution_count": null,
   "metadata": {},
   "outputs": [],
   "source": [
    "import requests\n",
    "from bs4 import BeautifulSoup\n",
    "\n",
    "class Crawler:\n",
    "    '''This is the main crawler for one full website. Maintain session after login.'''\n",
    "    def __init__(self, base_url, login_url=None, login_form_data=None):\n",
    "        self.base_url = base_url\n",
    "        self.session = requests.Session()\n",
    "        if login_url is not None:\n",
    "            self.session.post(login_url, login_form_data)\n",
    "    \n",
    "    def parseUrl(self, url, debug=False):\n",
    "        '''Return a BeautifulSoup from the URL'''\n",
    "        if (debug):\n",
    "            print('Downloading from:', url)\n",
    "            \n",
    "        html = self.session.get(url).content\n",
    "        return self.parseContent(html, debug)\n",
    "\n",
    "    def parseContent(self, html, debug=False):\n",
    "        '''Return a BeautifulSoup from an HTML content'''\n",
    "        soup = BeautifulSoup(html, \"html.parser\")\n",
    "        if (debug):\n",
    "            print(soup.prettify())\n",
    "        return soup"
   ]
  },
  {
   "cell_type": "code",
   "execution_count": null,
   "metadata": {},
   "outputs": [],
   "source": []
  }
 ],
 "metadata": {
  "kernelspec": {
   "display_name": "Python 3",
   "language": "python",
   "name": "python3"
  },
  "language_info": {
   "codemirror_mode": {
    "name": "ipython",
    "version": 3
   },
   "file_extension": ".py",
   "mimetype": "text/x-python",
   "name": "python",
   "nbconvert_exporter": "python",
   "pygments_lexer": "ipython3",
   "version": "3.7.6"
  }
 },
 "nbformat": 4,
 "nbformat_minor": 4
}
