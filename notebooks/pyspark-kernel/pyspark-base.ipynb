{
 "cells": [
  {
   "cell_type": "markdown",
   "metadata": {},
   "source": [
    "# PySpark\n",
    "\n",
    "## Init Engine"
   ]
  },
  {
   "cell_type": "code",
   "execution_count": 2,
   "metadata": {},
   "outputs": [
    {
     "data": {
      "text/plain": [
       "DataFrame[key: string, value: string]"
      ]
     },
     "execution_count": 2,
     "metadata": {},
     "output_type": "execute_result"
    }
   ],
   "source": [
    "from pyspark.sql import SparkSession\n",
    "\n",
    "spark = SparkSession.builder.appName('pyspark-covid').getOrCreate()\n",
    "#set timestamp\n",
    "spark.sql(\"set spark.sql.session.timeZone=UTC\")"
   ]
  },
  {
   "cell_type": "markdown",
   "metadata": {},
   "source": [
    "# Data loading"
   ]
  },
  {
   "cell_type": "markdown",
   "metadata": {},
   "source": [
    "## Create DataFrame from CSV file"
   ]
  },
  {
   "cell_type": "code",
   "execution_count": 2,
   "metadata": {
    "scrolled": true
   },
   "outputs": [
    {
     "name": "stdout",
     "output_type": "stream",
     "text": [
      "root\n",
      " |-- Province/State: string (nullable = true)\n",
      " |-- Country/Region: string (nullable = true)\n",
      " |-- Lat: double (nullable = true)\n",
      " |-- Long: double (nullable = true)\n",
      " |-- Date: string (nullable = true)\n",
      " |-- Value: integer (nullable = true)\n",
      " |-- ISO 3166-1 Alpha 3-Codes: string (nullable = true)\n",
      " |-- Region Code: integer (nullable = true)\n",
      " |-- Sub-region Code: integer (nullable = true)\n",
      " |-- Intermediate Region Code: integer (nullable = true)\n",
      "\n"
     ]
    }
   ],
   "source": [
    "df = spark.read. \\\n",
    "    option(\"header\", \"true\"). \\\n",
    "    option(\"inferSchema\", \"true\"). \\\n",
    "    option(\"delimiter\", \",\"). \\\n",
    "    option(\"escape\", \"\\\"\"). \\\n",
    "    option(\"multiLine\", \"true\"). \\\n",
    "    csv(\"/data/time_series_covid19_deaths_global_narrow.csv\")\n",
    "    \n",
    "df.printSchema()"
   ]
  },
  {
   "cell_type": "markdown",
   "metadata": {},
   "source": [
    "## Normalize schema\n",
    "\n",
    "* Remove schema name from special char"
   ]
  },
  {
   "cell_type": "code",
   "execution_count": 3,
   "metadata": {},
   "outputs": [
    {
     "name": "stdout",
     "output_type": "stream",
     "text": [
      "root\n",
      " |-- province_state: string (nullable = true)\n",
      " |-- country_region: string (nullable = true)\n",
      " |-- Lat: double (nullable = true)\n",
      " |-- Long: double (nullable = true)\n",
      " |-- Date: string (nullable = true)\n",
      " |-- Value: integer (nullable = true)\n",
      " |-- iso_country_code: string (nullable = true)\n",
      " |-- region_code: integer (nullable = true)\n",
      " |-- sub_region_code: integer (nullable = true)\n",
      " |-- interm_region_code: integer (nullable = true)\n",
      "\n"
     ]
    }
   ],
   "source": [
    "normDf = df. \\\n",
    "    withColumnRenamed(\"ISO 3166-1 Alpha 3-Codes\", \"iso_country_code\"). \\\n",
    "    withColumnRenamed(\"Region Code\", \"region_code\"). \\\n",
    "    withColumnRenamed(\"Sub-region Code\", \"sub_region_code\"). \\\n",
    "    withColumnRenamed(\"Intermediate Region Code\", \"interm_region_code\"). \\\n",
    "    withColumnRenamed(\"Province/State\", \"province_state\"). \\\n",
    "    withColumnRenamed(\"Country/Region\", \"country_region\")\n",
    "\n",
    "normDf.printSchema()"
   ]
  },
  {
   "cell_type": "markdown",
   "metadata": {},
   "source": [
    "# Data cleaning\n",
    "\n",
    "## Sampling"
   ]
  },
  {
   "cell_type": "code",
   "execution_count": 4,
   "metadata": {},
   "outputs": [],
   "source": [
    "categoryColumn = \"iso_country_code\""
   ]
  },
  {
   "cell_type": "code",
   "execution_count": 5,
   "metadata": {},
   "outputs": [
    {
     "data": {
      "text/html": [
       "<div>\n",
       "<style scoped>\n",
       "    .dataframe tbody tr th:only-of-type {\n",
       "        vertical-align: middle;\n",
       "    }\n",
       "\n",
       "    .dataframe tbody tr th {\n",
       "        vertical-align: top;\n",
       "    }\n",
       "\n",
       "    .dataframe thead th {\n",
       "        text-align: right;\n",
       "    }\n",
       "</style>\n",
       "<table border=\"1\" class=\"dataframe\">\n",
       "  <thead>\n",
       "    <tr style=\"text-align: right;\">\n",
       "      <th></th>\n",
       "      <th>iso_country_code</th>\n",
       "      <th>value</th>\n",
       "    </tr>\n",
       "  </thead>\n",
       "  <tbody>\n",
       "    <tr>\n",
       "      <th>0</th>\n",
       "      <td>AFG</td>\n",
       "      <td>1458</td>\n",
       "    </tr>\n",
       "    <tr>\n",
       "      <th>1</th>\n",
       "      <td>AFG</td>\n",
       "      <td>1458</td>\n",
       "    </tr>\n",
       "    <tr>\n",
       "      <th>2</th>\n",
       "      <td>AFG</td>\n",
       "      <td>1458</td>\n",
       "    </tr>\n",
       "    <tr>\n",
       "      <th>3</th>\n",
       "      <td>AFG</td>\n",
       "      <td>1455</td>\n",
       "    </tr>\n",
       "    <tr>\n",
       "      <th>4</th>\n",
       "      <td>AFG</td>\n",
       "      <td>1453</td>\n",
       "    </tr>\n",
       "    <tr>\n",
       "      <th>...</th>\n",
       "      <td>...</td>\n",
       "      <td>...</td>\n",
       "    </tr>\n",
       "    <tr>\n",
       "      <th>67559</th>\n",
       "      <td>ZWE</td>\n",
       "      <td>0</td>\n",
       "    </tr>\n",
       "    <tr>\n",
       "      <th>67560</th>\n",
       "      <td>ZWE</td>\n",
       "      <td>0</td>\n",
       "    </tr>\n",
       "    <tr>\n",
       "      <th>67561</th>\n",
       "      <td>ZWE</td>\n",
       "      <td>0</td>\n",
       "    </tr>\n",
       "    <tr>\n",
       "      <th>67562</th>\n",
       "      <td>ZWE</td>\n",
       "      <td>0</td>\n",
       "    </tr>\n",
       "    <tr>\n",
       "      <th>67563</th>\n",
       "      <td>ZWE</td>\n",
       "      <td>0</td>\n",
       "    </tr>\n",
       "  </tbody>\n",
       "</table>\n",
       "<p>67564 rows × 2 columns</p>\n",
       "</div>"
      ],
      "text/plain": [
       "      iso_country_code  value\n",
       "0                  AFG   1458\n",
       "1                  AFG   1458\n",
       "2                  AFG   1458\n",
       "3                  AFG   1455\n",
       "4                  AFG   1453\n",
       "...                ...    ...\n",
       "67559              ZWE      0\n",
       "67560              ZWE      0\n",
       "67561              ZWE      0\n",
       "67562              ZWE      0\n",
       "67563              ZWE      0\n",
       "\n",
       "[67564 rows x 2 columns]"
      ]
     },
     "execution_count": 5,
     "metadata": {},
     "output_type": "execute_result"
    }
   ],
   "source": [
    "normDf.select(categoryColumn, \"value\").toPandas()"
   ]
  },
  {
   "cell_type": "markdown",
   "metadata": {},
   "source": [
    "## Convert data type or value"
   ]
  },
  {
   "cell_type": "code",
   "execution_count": 5,
   "metadata": {},
   "outputs": [],
   "source": [
    "from pyspark.sql.functions import *\n",
    "from pyspark.sql.types import *"
   ]
  },
  {
   "cell_type": "markdown",
   "metadata": {},
   "source": [
    "#### Date & Timestamp"
   ]
  },
  {
   "cell_type": "code",
   "execution_count": 6,
   "metadata": {},
   "outputs": [
    {
     "name": "stdout",
     "output_type": "stream",
     "text": [
      "root\n",
      " |-- province_state: string (nullable = true)\n",
      " |-- country_region: string (nullable = true)\n",
      " |-- Lat: double (nullable = true)\n",
      " |-- Long: double (nullable = true)\n",
      " |-- Date: timestamp (nullable = true)\n",
      " |-- Value: integer (nullable = true)\n",
      " |-- iso_country_code: string (nullable = true)\n",
      " |-- region_code: integer (nullable = true)\n",
      " |-- sub_region_code: integer (nullable = true)\n",
      " |-- interm_region_code: integer (nullable = true)\n",
      "\n"
     ]
    }
   ],
   "source": [
    "normDf = normDf. \\\n",
    "    withColumn(\"Date\", col(\"Date\").cast(TimestampType()))\n",
    "\n",
    "normDf.printSchema()"
   ]
  },
  {
   "cell_type": "markdown",
   "metadata": {},
   "source": [
    "##### Test date parsing"
   ]
  },
  {
   "cell_type": "code",
   "execution_count": 3,
   "metadata": {},
   "outputs": [
    {
     "name": "stdout",
     "output_type": "stream",
     "text": [
      "+---------------------------+-------------------+\n",
      "|@timestamp                 |date               |\n",
      "+---------------------------+-------------------+\n",
      "|May 15th 2021, 12:34:56.789|2021-05-15 12:34:56|\n",
      "+---------------------------+-------------------+\n",
      "\n"
     ]
    }
   ],
   "source": [
    "from pyspark.sql.functions import *\n",
    "\n",
    "date_df = spark.createDataFrame([(1,'May 15th 2021, 12:34:56.789')], ['id','@timestamp'])\n",
    "\n",
    "# https://docs.oracle.com/javase/8/docs/api/java/text/SimpleDateFormat.html\n",
    "date_df.select(\n",
    "    '@timestamp', \n",
    "    from_unixtime(unix_timestamp('@timestamp', \"MMM dd'th' yyyy, HH:mm:ss.SSS\")).alias('date')\n",
    ").show(2,False)"
   ]
  },
  {
   "cell_type": "markdown",
   "metadata": {},
   "source": [
    "#### UDF - Custom transformation"
   ]
  },
  {
   "cell_type": "code",
   "execution_count": 7,
   "metadata": {},
   "outputs": [
    {
     "name": "stdout",
     "output_type": "stream",
     "text": [
      "convert value : AFG\n",
      "afg\n"
     ]
    }
   ],
   "source": [
    "def convert(str, debug=False):\n",
    "    if (debug):\n",
    "        print(\"convert value :\", str)\n",
    "    if str is None:\n",
    "        return None\n",
    "    return str.lower() \n",
    "\n",
    "convertUDF = udf(lambda str: convert(str), StringType())\n",
    "\n",
    "print(convert(\"AFG\", True))"
   ]
  },
  {
   "cell_type": "code",
   "execution_count": 8,
   "metadata": {},
   "outputs": [
    {
     "name": "stdout",
     "output_type": "stream",
     "text": [
      "+--------------+--------------+--------+---------+----------+-----+----------------+-----------+---------------+------------------+\n",
      "|province_state|country_region|Lat     |Long     |Date      |Value|iso_country_code|region_code|sub_region_code|interm_region_code|\n",
      "+--------------+--------------+--------+---------+----------+-----+----------------+-----------+---------------+------------------+\n",
      "|null          |Afghanistan   |33.93911|67.709953|2020-10-01|1458 |afg             |142        |34             |null              |\n",
      "+--------------+--------------+--------+---------+----------+-----+----------------+-----------+---------------+------------------+\n",
      "only showing top 1 row\n",
      "\n"
     ]
    }
   ],
   "source": [
    "normDf. \\\n",
    "    withColumn(categoryColumn, convertUDF(col(categoryColumn))). \\\n",
    "    show(1, truncate=False)"
   ]
  },
  {
   "cell_type": "code",
   "execution_count": 21,
   "metadata": {},
   "outputs": [
    {
     "name": "stdout",
     "output_type": "stream",
     "text": [
      "convert value : Logger text: PARAM1, PARAM2 - PARAM3\n",
      "{'k1': 'PARAM1', 'k2': 'PARAM2', 'k3': 'PARAM3'}\n",
      "convert value : Non matching text\n",
      "None\n"
     ]
    }
   ],
   "source": [
    "from pyspark.sql.types import *\n",
    "from pyspark.sql.functions import *\n",
    "import re\n",
    "\n",
    "def convert(str, debug=False):\n",
    "    if (debug):\n",
    "        print(\"convert value :\", str)\n",
    "    if str is None:\n",
    "        return None\n",
    "\n",
    "    searchResult = re.search(r'Logger text: (\\w+), (\\w+) - (\\w+)', str)\n",
    "    if searchResult:\n",
    "        result = dict()\n",
    "        result['k1'], result['k2'], result['k3'] = searchResult.groups()\n",
    "        return result\n",
    "    else:\n",
    "        return None \n",
    "\n",
    "convertUDF = udf(convert, MapType(StringType(), StringType()))\n",
    "\n",
    "print(convert('Logger text: PARAM1, PARAM2 - PARAM3', True))\n",
    "print(convert('Non matching text', True))"
   ]
  },
  {
   "cell_type": "code",
   "execution_count": 22,
   "metadata": {},
   "outputs": [
    {
     "name": "stdout",
     "output_type": "stream",
     "text": [
      "+---+---+---+\n",
      "|k1 |k2 |k3 |\n",
      "+---+---+---+\n",
      "|V1 |V2 |V3 |\n",
      "|W1 |W2 |W3 |\n",
      "+---+---+---+\n",
      "\n"
     ]
    }
   ],
   "source": [
    "logList = [\"Logger text: V1, V2 - V3\", \"Logger text: W1, W2 - W3\"]\n",
    "logDF = spark.createDataFrame(logList, StringType())\n",
    "\n",
    "\n",
    "convertDF = logDF.select(convertUDF(\"value\").alias(\"log\"))\n",
    "convertDF.select(col(\"log.k1\"), col(\"log.k2\"), col(\"log.k3\")).show(truncate=False)"
   ]
  },
  {
   "cell_type": "code",
   "execution_count": 26,
   "metadata": {},
   "outputs": [
    {
     "name": "stdout",
     "output_type": "stream",
     "text": [
      "+-----+\n",
      "|value|\n",
      "+-----+\n",
      "|   V1|\n",
      "|   W1|\n",
      "+-----+\n",
      "\n"
     ]
    }
   ],
   "source": [
    "# regexp_extract -> Extract one particular text\n",
    "result = logDF.withColumn('value', regexp_extract(col('value'), 'Logger text: (\\w+), (\\w+) - (\\w+)', 1))\n",
    "result.select('value').show()"
   ]
  },
  {
   "cell_type": "code",
   "execution_count": 9,
   "metadata": {},
   "outputs": [
    {
     "name": "stdout",
     "output_type": "stream",
     "text": [
      "convert Timestamp value : 2021-Jan-15 12:34\n",
      "2021-01-15 04:34:00\n"
     ]
    }
   ],
   "source": [
    "from datetime import datetime, timedelta\n",
    "from pyspark.sql.functions import *\n",
    "from pyspark.sql.types import *\n",
    "\n",
    "def convertTimestamp(str, debug=False):\n",
    "    if (debug):\n",
    "        print(\"convert Timestamp value :\", str)\n",
    "    if str is None:\n",
    "        return None\n",
    "    # https://docs.python.org/3/library/datetime.html#datetime.datetime.strptime\n",
    "    return (datetime.strptime(str,'%Y-%b-%d %H:%M') - timedelta(hours=8))\n",
    "\n",
    "convertTimestampUDF = udf(lambda str: convertTimestamp(str), TimestampType())\n",
    "\n",
    "print(convertTimestamp('2021-Jan-15 12:34', True))"
   ]
  },
  {
   "cell_type": "code",
   "execution_count": 14,
   "metadata": {},
   "outputs": [
    {
     "name": "stdout",
     "output_type": "stream",
     "text": [
      "convert value : 1\n",
      "k1\n"
     ]
    }
   ],
   "source": [
    "from pyspark.sql.types import *\n",
    "from pyspark.sql.functions import *\n",
    "import re\n",
    "\n",
    "mapper = dict()\n",
    "mapper['1'] = 'k1'\n",
    "mapper['2'] = 'k2'\n",
    "mapper['3'] = 'k3'\n",
    "\n",
    "def mapping(str, debug=False):\n",
    "    if (debug):\n",
    "        print(\"convert value :\", str)\n",
    "    if str is None:\n",
    "        return None\n",
    "    \n",
    "    return mapper[str]\n",
    "\n",
    "mappingUDF = udf(mapping, StringType())\n",
    "\n",
    "print(mapping('1', True))"
   ]
  },
  {
   "cell_type": "markdown",
   "metadata": {},
   "source": [
    "## DataSet Validation\n",
    "### Check overall values"
   ]
  },
  {
   "cell_type": "code",
   "execution_count": 9,
   "metadata": {},
   "outputs": [
    {
     "name": "stdout",
     "output_type": "stream",
     "text": [
      "+-------------------+\n",
      "|sum(sum_casualties)|\n",
      "+-------------------+\n",
      "|98961992           |\n",
      "+-------------------+\n",
      "\n"
     ]
    }
   ],
   "source": [
    "from pyspark.sql.functions import sum, col, desc\n",
    "\n",
    "column = \"sum_casualties\"\n",
    "\n",
    "isoDF = normDf. \\\n",
    "    groupBy(col(categoryColumn)). \\\n",
    "    agg(sum(\"Value\").alias(column)). \\\n",
    "    orderBy(desc(column))\n",
    "\n",
    "isoDF.agg(sum(column)). \\\n",
    "    show(truncate=False)"
   ]
  },
  {
   "cell_type": "markdown",
   "metadata": {},
   "source": [
    "### Column analysis"
   ]
  },
  {
   "cell_type": "markdown",
   "metadata": {},
   "source": [
    "#### Numeric values"
   ]
  },
  {
   "cell_type": "code",
   "execution_count": 10,
   "metadata": {},
   "outputs": [
    {
     "name": "stdout",
     "output_type": "stream",
     "text": [
      "+----------+-----------------+-----------------+--------+--------+------------------+\n",
      "|count(Lat)|         avg(Lat)| stddev_samp(Lat)|min(Lat)|max(Lat)|          sum(Lat)|\n",
      "+----------+-----------------+-----------------+--------+--------+------------------+\n",
      "|     67564|21.07662424812158|24.85792699104551|-51.7963| 71.7069|1424021.0407000864|\n",
      "+----------+-----------------+-----------------+--------+--------+------------------+\n",
      "\n"
     ]
    }
   ],
   "source": [
    "from pyspark.sql.functions import count, mean, stddev, min, max, sum\n",
    "\n",
    "normDf.agg(count(\"Lat\"), mean(\"Lat\"), stddev(\"Lat\"), min(\"Lat\"), max(\"Lat\"), sum(\"Lat\")).show()"
   ]
  },
  {
   "cell_type": "markdown",
   "metadata": {},
   "source": [
    "#### String values"
   ]
  },
  {
   "cell_type": "code",
   "execution_count": 11,
   "metadata": {},
   "outputs": [
    {
     "name": "stdout",
     "output_type": "stream",
     "text": [
      "266\n"
     ]
    }
   ],
   "source": [
    "from pyspark.sql.functions import col\n",
    "\n",
    "distinctValuesDF = normDf. \\\n",
    "    select(col(categoryColumn), col(\"country_region\"), col(\"province_state\"), col(\"Lat\"), col(\"Long\")). \\\n",
    "    distinct()\n",
    "\n",
    "print(distinctValuesDF.count())"
   ]
  },
  {
   "cell_type": "code",
   "execution_count": 12,
   "metadata": {},
   "outputs": [
    {
     "name": "stdout",
     "output_type": "stream",
     "text": [
      "+----------------+-----+\n",
      "|iso_country_code|count|\n",
      "+----------------+-----+\n",
      "|             CHN|   31|\n",
      "|             CAN|   12|\n",
      "|             AUS|    8|\n",
      "|            null|    5|\n",
      "|             SPM|    1|\n",
      "|             ABW|    1|\n",
      "|             BRB|    1|\n",
      "|             COD|    1|\n",
      "|             LVA|    1|\n",
      "|             HTI|    1|\n",
      "|             PSE|    1|\n",
      "|             BRA|    1|\n",
      "|             ARM|    1|\n",
      "|             JOR|    1|\n",
      "|             CUB|    1|\n",
      "|             MOZ|    1|\n",
      "|             SOM|    1|\n",
      "|             FRA|    1|\n",
      "|             BRN|    1|\n",
      "|             TCA|    1|\n",
      "+----------------+-----+\n",
      "only showing top 20 rows\n",
      "\n"
     ]
    }
   ],
   "source": [
    "from pyspark.sql.functions import desc\n",
    "\n",
    "distinctValuesDF.groupBy(categoryColumn).count().orderBy(desc(\"count\")).show()"
   ]
  },
  {
   "cell_type": "code",
   "execution_count": 24,
   "metadata": {},
   "outputs": [
    {
     "name": "stdout",
     "output_type": "stream",
     "text": [
      "+----------------+----------------+----------------+-------+-------+\n",
      "|iso_country_code|  country_region|  province_state|    Lat|   Long|\n",
      "+----------------+----------------+----------------+-------+-------+\n",
      "|            null|          Canada|  Grand Princess|    0.0|    0.0|\n",
      "|            null|      MS Zaandam|            null|    0.0|    0.0|\n",
      "|            null|          Canada|Diamond Princess|    0.0|    0.0|\n",
      "|            null|  United Kingdom| Channel Islands|49.3723|-2.3644|\n",
      "|            null|Diamond Princess|            null|    0.0|    0.0|\n",
      "+----------------+----------------+----------------+-------+-------+\n",
      "\n"
     ]
    }
   ],
   "source": [
    "distinctValuesDF.where(\"iso_country_code is null\").show()"
   ]
  },
  {
   "cell_type": "code",
   "execution_count": 14,
   "metadata": {},
   "outputs": [
    {
     "name": "stdout",
     "output_type": "stream",
     "text": [
      "+----------------+--------------+--------------+------------------+------------------+\n",
      "|iso_country_code|country_region|province_state|               Lat|              Long|\n",
      "+----------------+--------------+--------------+------------------+------------------+\n",
      "|             CHN|         China|       Qinghai|           35.7452|           95.9956|\n",
      "|             CHN|         China|       Ningxia|           37.2692|          106.1655|\n",
      "|             CHN|         China|      Xinjiang|           41.1129|           85.2401|\n",
      "|             CHN|         China|      Shandong|           36.3427|          118.1498|\n",
      "|             CHN|         China|       Guangxi|           23.8298|          108.7881|\n",
      "|             CHN|         China|         Gansu|           35.7518|          104.2861|\n",
      "|             CHN|         China|       Jiangsu|           32.9711|           119.455|\n",
      "|             CHN|         China|         Henan|           37.8957|          114.9042|\n",
      "|             CHN|         China|         Tibet|           31.6927|           88.0924|\n",
      "|             CHN|         China|      Shanghai|31.201999999999998|          121.4491|\n",
      "|             CHN|         China|        Yunnan|            24.974|101.48700000000001|\n",
      "|             CHN|         China|        Fujian|           26.0789|          117.9874|\n",
      "|             CHN|         China|       Sichuan|           30.6171|          102.7103|\n",
      "|             CHN|         China|         Hebei|            39.549|          116.1306|\n",
      "|             CHN|         China|       Shaanxi|           35.1917|          108.8701|\n",
      "|             CHN|         China|Inner Mongolia|           44.0935|          113.9448|\n",
      "|             CHN|         China|         Jilin|           43.6661|          126.1923|\n",
      "|             CHN|         China|         Hunan|           27.6104|          111.7088|\n",
      "|             CHN|         China|     Chongqing|           30.0572|           107.874|\n",
      "|             CHN|         China|         Hubei|           30.9756|          112.2707|\n",
      "+----------------+--------------+--------------+------------------+------------------+\n",
      "only showing top 20 rows\n",
      "\n"
     ]
    }
   ],
   "source": [
    "from pyspark.sql.functions import col\n",
    "\n",
    "distinctValuesDF.where(col(categoryColumn) == \"CHN\").show()"
   ]
  },
  {
   "cell_type": "markdown",
   "metadata": {},
   "source": [
    "#### Date values"
   ]
  },
  {
   "cell_type": "code",
   "execution_count": 15,
   "metadata": {
    "scrolled": true
   },
   "outputs": [
    {
     "name": "stdout",
     "output_type": "stream",
     "text": [
      "+----------------+--------------+\n",
      "|start_date_range|end_date_range|\n",
      "+----------------+--------------+\n",
      "|2020-01-22      |2020-10-01    |\n",
      "+----------------+--------------+\n",
      "\n"
     ]
    }
   ],
   "source": [
    "from pyspark.sql.functions import min, max\n",
    "\n",
    "column = \"Date\"\n",
    "normDf.agg(min(column).alias(\"start_date_range\"), max(column).alias(\"end_date_range\")).show(truncate=False)"
   ]
  },
  {
   "cell_type": "markdown",
   "metadata": {},
   "source": [
    "## Understand distribution\n",
    "### Parent child columns"
   ]
  },
  {
   "cell_type": "code",
   "execution_count": 16,
   "metadata": {},
   "outputs": [
    {
     "name": "stdout",
     "output_type": "stream",
     "text": [
      "+----------------+-----+\n",
      "|iso_country_code|count|\n",
      "+----------------+-----+\n",
      "|             HTI|    1|\n",
      "|             PSE|    1|\n",
      "|             BRB|    1|\n",
      "|             POL|    1|\n",
      "|             LVA|    1|\n",
      "|             ZMB|    1|\n",
      "|             JAM|    1|\n",
      "|             SPM|    1|\n",
      "|             BRA|    1|\n",
      "|             ARM|    1|\n",
      "|             MOZ|    1|\n",
      "|             JOR|    1|\n",
      "|             CUB|    1|\n",
      "|             SOM|    1|\n",
      "|             FRA|    1|\n",
      "|             ABW|    1|\n",
      "|             TCA|    1|\n",
      "|             COD|    1|\n",
      "|             BRN|    1|\n",
      "|             BOL|    1|\n",
      "+----------------+-----+\n",
      "only showing top 20 rows\n",
      "\n"
     ]
    }
   ],
   "source": [
    "distinctValuesDF.groupBy(col(categoryColumn)).count().show()"
   ]
  },
  {
   "cell_type": "code",
   "execution_count": 28,
   "metadata": {},
   "outputs": [
    {
     "name": "stdout",
     "output_type": "stream",
     "text": [
      "+----------------+-----+\n",
      "|iso_country_code|count|\n",
      "+----------------+-----+\n",
      "|             CHN|   31|\n",
      "|             CAN|   12|\n",
      "|             AUS|    8|\n",
      "|            null|    5|\n",
      "|             SPM|    1|\n",
      "|             ABW|    1|\n",
      "|             LVA|    1|\n",
      "|             COD|    1|\n",
      "|             PSE|    1|\n",
      "|             ZMB|    1|\n",
      "|             JAM|    1|\n",
      "|             BRA|    1|\n",
      "|             ARM|    1|\n",
      "|             MOZ|    1|\n",
      "|             JOR|    1|\n",
      "|             CUB|    1|\n",
      "|             SOM|    1|\n",
      "|             FRA|    1|\n",
      "|             BRN|    1|\n",
      "|             TCA|    1|\n",
      "+----------------+-----+\n",
      "only showing top 20 rows\n",
      "\n"
     ]
    }
   ],
   "source": [
    "distinctValuesDF.groupBy(col(categoryColumn)). \\\n",
    "    count(). \\\n",
    "    orderBy(desc(\"count\")). \\\n",
    "    show()"
   ]
  },
  {
   "cell_type": "code",
   "execution_count": 7,
   "metadata": {
    "scrolled": true
   },
   "outputs": [
    {
     "name": "stdout",
     "output_type": "stream",
     "text": [
      "+----------------+--------------+-----+-------------------------------------------------------------------------------------------------------------------------------------------------------------------------------------------------------------------------------------------------------------------------------------------------------------------------------------------------------------------------------------------------------------------------------------------------------------------------------------------------------------------------------------+----------------------------------------------------------------------------------------------------------------------------------------------------------------------------------------------------------------------------------------------------------------------------------------+\n",
      "|iso_country_code|country_region|count|value_list                                                                                                                                                                                                                                                                                                                                                                                                                                                                                                                           |contained_province                                                                                                                                                                                                                                                                      |\n",
      "+----------------+--------------+-----+-------------------------------------------------------------------------------------------------------------------------------------------------------------------------------------------------------------------------------------------------------------------------------------------------------------------------------------------------------------------------------------------------------------------------------------------------------------------------------------------------------------------------------------+----------------------------------------------------------------------------------------------------------------------------------------------------------------------------------------------------------------------------------------------------------------------------------------+\n",
      "|CHN             |China         |31   |[0.8385826771653543, 0.0, 1.484251968503937, 2.47244094488189, 0.0, 5.688976377952756, 2.7755905511811023, 5.547244094488189, 20.0, 3.645669291338583, 2.645669291338583, 7.090551181102362, 0.8858267716535433, 1.688976377952756, 0.0, 1.8425196850393701, 6.161417322834645, 1.8622047244094488, 5.5236220472440944, 1.8385826771653544, 0.0, 5.496062992125984, 0.9251968503937008, 3739.0708661417325, 0.8858267716535433, 5.468503937007874, 12.023622047244094, 1.7755905511811023, 7.783464566929134, 2.779527559055118, 0.0]|[Inner Mongolia, Jilin, Fujian, Yunnan, Heilongjiang, Hebei, Hubei, Tianjin, Liaoning, Hunan, Chongqing, Ningxia, Shanghai, Guangdong, Zhejiang, Shandong, Qinghai, Guangxi, Tibet, Anhui, Shaanxi, Hainan, Guizhou, Gansu, Jiangsu, Beijing, Jiangxi, Sichuan, Xinjiang, Shanxi, Henan]|\n",
      "|CAN             |Canada        |12   |[2.1141732283464565, 0.003937007874015748, 116.96456692913385, 1634.1889763779527, 3203.196850393701, 38.01968503937008, 120.1259842519685, 0.9094488188976378, 10.248031496062993, 6.389763779527559, 0.0, 0.0]                                                                                                                                                                                                                                                                                                                     |[Northwest Territories, Newfoundland and Labrador, Manitoba, New Brunswick, Yukon, Quebec, British Columbia, Alberta, Prince Edward Island, Ontario, Nova Scotia, Saskatchewan]                                                                                                         |\n",
      "|AUS             |Australia     |8    |[4.291338582677166, 141.49606299212599, 33.32283464566929, 8.606299212598426, 6.2952755905511815, 2.1141732283464565, 0.0, 2.7716535433070866]                                                                                                                                                                                                                                                                                                                                                                                       |[Queensland, New South Wales, Northern Territory, Victoria, Western Australia, Australian Capital Territory, South Australia, Tasmania]                                                                                                                                                 |\n",
      "+----------------+--------------+-----+-------------------------------------------------------------------------------------------------------------------------------------------------------------------------------------------------------------------------------------------------------------------------------------------------------------------------------------------------------------------------------------------------------------------------------------------------------------------------------------------------------------------------------------+----------------------------------------------------------------------------------------------------------------------------------------------------------------------------------------------------------------------------------------------------------------------------------------+\n",
      "\n"
     ]
    }
   ],
   "source": [
    "from pyspark.sql.functions import col, count, collect_set\n",
    "\n",
    "regionDf = normDf.where(\"province_state IS NOT NULL\"). \\\n",
    "    groupBy(categoryColumn, \"country_region\", \"province_state\"). \\\n",
    "        agg(avg(\"Value\").alias(\"avg_val\")).\\\n",
    "    groupBy(categoryColumn, \"country_region\"). \\\n",
    "        agg( \\\n",
    "            count(\"province_state\").alias(\"count\"), \\\n",
    "            # Collect all values\n",
    "            collect_list(\"avg_val\").alias(\"value_list\"), \\\n",
    "            # Collect all distinct values\n",
    "            collect_set(\"province_state\").alias(\"contained_province\") \\\n",
    "        ). \\\n",
    "    where(col(\"count\") > 1). \\\n",
    "    where(\"iso_country_code IS NOT NULL\"). \\\n",
    "    orderBy(desc(\"count\"))\n",
    "\n",
    "regionDf. \\\n",
    "    show(truncate=False)"
   ]
  },
  {
   "cell_type": "markdown",
   "metadata": {},
   "source": [
    "### Distribution By Time Window"
   ]
  },
  {
   "cell_type": "code",
   "execution_count": 19,
   "metadata": {},
   "outputs": [
    {
     "name": "stdout",
     "output_type": "stream",
     "text": [
      "+----------------+----------------------+--------------------------------+------------------------------------------+----------+\n",
      "|iso_country_code|country_region        |province_state                  |window                                    |casualties|\n",
      "+----------------+----------------------+--------------------------------+------------------------------------------+----------+\n",
      "|SGP             |Singapore             |null                            |[2020-10-01 00:00:00, 2020-10-02 00:00:00]|27        |\n",
      "|ITA             |Italy                 |null                            |[2020-10-01 00:00:00, 2020-10-02 00:00:00]|35918     |\n",
      "|MYS             |Malaysia              |null                            |[2020-10-01 00:00:00, 2020-10-02 00:00:00]|136       |\n",
      "|MMR             |Burma                 |null                            |[2020-10-01 00:00:00, 2020-10-02 00:00:00]|321       |\n",
      "|CZE             |Czechia               |null                            |[2020-10-01 00:00:00, 2020-10-02 00:00:00]|678       |\n",
      "|BIH             |Bosnia and Herzegovina|null                            |[2020-10-01 00:00:00, 2020-10-02 00:00:00]|861       |\n",
      "|CHN             |China                 |Guizhou                         |[2020-10-01 00:00:00, 2020-10-02 00:00:00]|2         |\n",
      "|BRN             |Brunei                |null                            |[2020-10-01 00:00:00, 2020-10-02 00:00:00]|3         |\n",
      "|GRC             |Greece                |null                            |[2020-10-01 00:00:00, 2020-10-02 00:00:00]|393       |\n",
      "|SVK             |Slovakia              |null                            |[2020-10-01 00:00:00, 2020-10-02 00:00:00]|48        |\n",
      "|VEN             |Venezuela             |null                            |[2020-10-01 00:00:00, 2020-10-02 00:00:00]|635       |\n",
      "|FRO             |Denmark               |Faroe Islands                   |[2020-10-01 00:00:00, 2020-10-02 00:00:00]|0         |\n",
      "|BES             |Netherlands           |Bonaire, Sint Eustatius and Saba|[2020-10-01 00:00:00, 2020-10-02 00:00:00]|1         |\n",
      "|BRA             |Brazil                |null                            |[2020-10-01 00:00:00, 2020-10-02 00:00:00]|144680    |\n",
      "|RWA             |Rwanda                |null                            |[2020-10-01 00:00:00, 2020-10-02 00:00:00]|29        |\n",
      "|TUR             |Turkey                |null                            |[2020-10-01 00:00:00, 2020-10-02 00:00:00]|8262      |\n",
      "|GIN             |Guinea                |null                            |[2020-10-01 00:00:00, 2020-10-02 00:00:00]|66        |\n",
      "|MCO             |Monaco                |null                            |[2020-10-01 00:00:00, 2020-10-02 00:00:00]|2         |\n",
      "|CIV             |Cote d'Ivoire         |null                            |[2020-10-01 00:00:00, 2020-10-02 00:00:00]|120       |\n",
      "|CHN             |China                 |Guangdong                       |[2020-10-01 00:00:00, 2020-10-02 00:00:00]|8         |\n",
      "+----------------+----------------------+--------------------------------+------------------------------------------+----------+\n",
      "only showing top 20 rows\n",
      "\n"
     ]
    }
   ],
   "source": [
    "from pyspark.sql.functions import col, sum, desc, window\n",
    "\n",
    "tsDF = normDf. \\\n",
    "    groupBy(col(categoryColumn), col(\"country_region\"), col(\"province_state\"), window(col(\"Date\"), \"1 day\")). \\\n",
    "    agg(sum(\"Value\").alias(\"casualties\")). \\\n",
    "    orderBy(desc(\"window.start\"))\n",
    "\n",
    "tsDF. \\\n",
    "    show(truncate=False)"
   ]
  },
  {
   "cell_type": "markdown",
   "metadata": {},
   "source": [
    "#### Window value stats"
   ]
  },
  {
   "cell_type": "code",
   "execution_count": 20,
   "metadata": {},
   "outputs": [
    {
     "name": "stdout",
     "output_type": "stream",
     "text": [
      "+-------------------+-------------------+\n",
      "|start_date_range   |end_date_range     |\n",
      "+-------------------+-------------------+\n",
      "|2020-01-22 00:00:00|2020-10-01 00:00:00|\n",
      "+-------------------+-------------------+\n",
      "\n"
     ]
    }
   ],
   "source": [
    "column = \"window.start\"\n",
    "tsDF.agg(min(column).alias(\"start_date_range\"), max(column).alias(\"end_date_range\")).show(truncate=False)"
   ]
  },
  {
   "cell_type": "markdown",
   "metadata": {},
   "source": [
    "### Data preparation & ordering"
   ]
  },
  {
   "cell_type": "code",
   "execution_count": 21,
   "metadata": {},
   "outputs": [
    {
     "name": "stdout",
     "output_type": "stream",
     "text": [
      "+----------------+--------------+--------------+-------------------+-------------------+----------+\n",
      "|iso_country_code|country_region|province_state|start              |end                |casualties|\n",
      "+----------------+--------------+--------------+-------------------+-------------------+----------+\n",
      "|null            |Canada        |Grand Princess|2020-01-22 00:00:00|2020-01-23 00:00:00|0         |\n",
      "+----------------+--------------+--------------+-------------------+-------------------+----------+\n",
      "only showing top 1 row\n",
      "\n"
     ]
    }
   ],
   "source": [
    "storedDF = tsDF.select(\"iso_country_code\", \"country_region\", \"province_state\", \"window.start\", \"window.end\", \"casualties\"). \\\n",
    "    na.fill(\"unknown\", subset=[\"country_region\", \"province_state\"]). \\\n",
    "    orderBy(\"iso_country_code\", \"start\")\n",
    "\n",
    "storedDF.show(1, truncate=False)"
   ]
  },
  {
   "cell_type": "markdown",
   "metadata": {},
   "source": [
    "## Exporting"
   ]
  },
  {
   "cell_type": "markdown",
   "metadata": {},
   "source": [
    "### Persist to CSV file"
   ]
  },
  {
   "cell_type": "code",
   "execution_count": 22,
   "metadata": {},
   "outputs": [],
   "source": [
    "storedDF.coalesce(1). \\\n",
    "    write.mode('overwrite'). \\\n",
    "    option(\"mapreduce.fileoutputcommitter.marksuccessfuljobs\",\"false\"). \\\n",
    "    option(\"header\",\"true\"). \\\n",
    "    csv(\"/data/covid-19-by-country.csv\")"
   ]
  },
  {
   "cell_type": "markdown",
   "metadata": {},
   "source": [
    "### Save data into Table"
   ]
  },
  {
   "cell_type": "code",
   "execution_count": 23,
   "metadata": {},
   "outputs": [],
   "source": [
    "storedDF. \\\n",
    "    write.mode(\"overwrite\"). \\\n",
    "    saveAsTable(\"data\")"
   ]
  },
  {
   "cell_type": "markdown",
   "metadata": {},
   "source": [
    "### Export dataframe using .toPandas()"
   ]
  },
  {
   "cell_type": "code",
   "execution_count": 8,
   "metadata": {},
   "outputs": [],
   "source": [
    "pandaDf = regionDf.select(\"count\", \"country_region\", \"contained_province\", \"value_list\").toPandas()"
   ]
  },
  {
   "cell_type": "code",
   "execution_count": null,
   "metadata": {},
   "outputs": [],
   "source": [
    "pandaDf.head()"
   ]
  },
  {
   "cell_type": "markdown",
   "metadata": {},
   "source": [
    "# Tables"
   ]
  },
  {
   "cell_type": "code",
   "execution_count": 26,
   "metadata": {},
   "outputs": [
    {
     "name": "stdout",
     "output_type": "stream",
     "text": [
      "+---------+\n",
      "|namespace|\n",
      "+---------+\n",
      "|  default|\n",
      "+---------+\n",
      "\n"
     ]
    }
   ],
   "source": [
    "spark.sql(\"SHOW DATABASES\").show()"
   ]
  },
  {
   "cell_type": "code",
   "execution_count": 27,
   "metadata": {},
   "outputs": [
    {
     "data": {
      "text/plain": [
       "[Table(name='data', database='default', description=None, tableType='MANAGED', isTemporary=False)]"
      ]
     },
     "execution_count": 27,
     "metadata": {},
     "output_type": "execute_result"
    }
   ],
   "source": [
    "spark.catalog.listTables(\"default\")"
   ]
  },
  {
   "cell_type": "markdown",
   "metadata": {},
   "source": [
    "# Visualization"
   ]
  },
  {
   "cell_type": "markdown",
   "metadata": {},
   "source": [
    "## matplotlib"
   ]
  },
  {
   "cell_type": "code",
   "execution_count": null,
   "metadata": {},
   "outputs": [],
   "source": [
    "import sys  \n",
    "!{sys.executable} -m pip install --user matplotlib"
   ]
  },
  {
   "cell_type": "code",
   "execution_count": 16,
   "metadata": {},
   "outputs": [],
   "source": [
    "%matplotlib inline\n",
    "\n",
    "import matplotlib.pyplot as plt\n",
    "import numpy as np\n",
    "\n",
    "categoryColumn = \"iso_country_code\""
   ]
  },
  {
   "cell_type": "markdown",
   "metadata": {},
   "source": [
    "### Pie Chart"
   ]
  },
  {
   "cell_type": "code",
   "execution_count": 53,
   "metadata": {},
   "outputs": [
    {
     "data": {
      "text/html": [
       "<div>\n",
       "<style scoped>\n",
       "    .dataframe tbody tr th:only-of-type {\n",
       "        vertical-align: middle;\n",
       "    }\n",
       "\n",
       "    .dataframe tbody tr th {\n",
       "        vertical-align: top;\n",
       "    }\n",
       "\n",
       "    .dataframe thead th {\n",
       "        text-align: right;\n",
       "    }\n",
       "</style>\n",
       "<table border=\"1\" class=\"dataframe\">\n",
       "  <thead>\n",
       "    <tr style=\"text-align: right;\">\n",
       "      <th></th>\n",
       "      <th>iso_country_code</th>\n",
       "      <th>Total</th>\n",
       "    </tr>\n",
       "  </thead>\n",
       "  <tbody>\n",
       "    <tr>\n",
       "      <th>0</th>\n",
       "      <td>USA</td>\n",
       "      <td>23125806</td>\n",
       "    </tr>\n",
       "    <tr>\n",
       "      <th>1</th>\n",
       "      <td>BRA</td>\n",
       "      <td>11794882</td>\n",
       "    </tr>\n",
       "    <tr>\n",
       "      <th>2</th>\n",
       "      <td>GBR</td>\n",
       "      <td>6521458</td>\n",
       "    </tr>\n",
       "    <tr>\n",
       "      <th>3</th>\n",
       "      <td>ITA</td>\n",
       "      <td>6049186</td>\n",
       "    </tr>\n",
       "    <tr>\n",
       "      <th>4</th>\n",
       "      <td>MEX</td>\n",
       "      <td>5889714</td>\n",
       "    </tr>\n",
       "    <tr>\n",
       "      <th>5</th>\n",
       "      <td>IND</td>\n",
       "      <td>5411897</td>\n",
       "    </tr>\n",
       "    <tr>\n",
       "      <th>6</th>\n",
       "      <td>FRA</td>\n",
       "      <td>5062399</td>\n",
       "    </tr>\n",
       "    <tr>\n",
       "      <th>7</th>\n",
       "      <td>ESP</td>\n",
       "      <td>4976185</td>\n",
       "    </tr>\n",
       "    <tr>\n",
       "      <th>8</th>\n",
       "      <td>PER</td>\n",
       "      <td>2442735</td>\n",
       "    </tr>\n",
       "    <tr>\n",
       "      <th>9</th>\n",
       "      <td>IRN</td>\n",
       "      <td>2432434</td>\n",
       "    </tr>\n",
       "    <tr>\n",
       "      <th>10</th>\n",
       "      <td>RUS</td>\n",
       "      <td>1744841</td>\n",
       "    </tr>\n",
       "    <tr>\n",
       "      <th>11</th>\n",
       "      <td>BEL</td>\n",
       "      <td>1618427</td>\n",
       "    </tr>\n",
       "    <tr>\n",
       "      <th>12</th>\n",
       "      <td>DEU</td>\n",
       "      <td>1485093</td>\n",
       "    </tr>\n",
       "    <tr>\n",
       "      <th>13</th>\n",
       "      <td>COL</td>\n",
       "      <td>1465253</td>\n",
       "    </tr>\n",
       "    <tr>\n",
       "      <th>14</th>\n",
       "      <td>CAN</td>\n",
       "      <td>1303569</td>\n",
       "    </tr>\n",
       "    <tr>\n",
       "      <th>15</th>\n",
       "      <td>CHL</td>\n",
       "      <td>1058022</td>\n",
       "    </tr>\n",
       "    <tr>\n",
       "      <th>16</th>\n",
       "      <td>ZAF</td>\n",
       "      <td>1057560</td>\n",
       "    </tr>\n",
       "    <tr>\n",
       "      <th>17</th>\n",
       "      <td>NLD</td>\n",
       "      <td>1031336</td>\n",
       "    </tr>\n",
       "  </tbody>\n",
       "</table>\n",
       "</div>"
      ],
      "text/plain": [
       "   iso_country_code     Total\n",
       "0               USA  23125806\n",
       "1               BRA  11794882\n",
       "2               GBR   6521458\n",
       "3               ITA   6049186\n",
       "4               MEX   5889714\n",
       "5               IND   5411897\n",
       "6               FRA   5062399\n",
       "7               ESP   4976185\n",
       "8               PER   2442735\n",
       "9               IRN   2432434\n",
       "10              RUS   1744841\n",
       "11              BEL   1618427\n",
       "12              DEU   1485093\n",
       "13              COL   1465253\n",
       "14              CAN   1303569\n",
       "15              CHL   1058022\n",
       "16              ZAF   1057560\n",
       "17              NLD   1031336"
      ]
     },
     "execution_count": 53,
     "metadata": {},
     "output_type": "execute_result"
    }
   ],
   "source": [
    "pdf = spark.sql(\"SELECT iso_country_code, sum(casualties) as Total \\\n",
    "FROM data \\\n",
    "GROUP BY iso_country_code \\\n",
    "ORDER BY Total DESC\").where(\"Total > 1000000\").toPandas()\n",
    "\n",
    "pdf"
   ]
  },
  {
   "cell_type": "code",
   "execution_count": 17,
   "metadata": {},
   "outputs": [
    {
     "data": {
      "image/png": "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
      "text/plain": [
       "<Figure size 432x288 with 1 Axes>"
      ]
     },
     "metadata": {},
     "output_type": "display_data"
    }
   ],
   "source": [
    "#Creating Visualization\n",
    "fig = plt.pie(pdf['Total'], autopct='%1.1f%%', startangle=140,labels=pdf[categoryColumn])\n",
    "plt.title('Casulaties per country')\n",
    "plt.show()"
   ]
  },
  {
   "cell_type": "markdown",
   "metadata": {},
   "source": [
    "### Single plot"
   ]
  },
  {
   "cell_type": "code",
   "execution_count": 34,
   "metadata": {},
   "outputs": [
    {
     "data": {
      "text/html": [
       "<div>\n",
       "<style scoped>\n",
       "    .dataframe tbody tr th:only-of-type {\n",
       "        vertical-align: middle;\n",
       "    }\n",
       "\n",
       "    .dataframe tbody tr th {\n",
       "        vertical-align: top;\n",
       "    }\n",
       "\n",
       "    .dataframe thead th {\n",
       "        text-align: right;\n",
       "    }\n",
       "</style>\n",
       "<table border=\"1\" class=\"dataframe\">\n",
       "  <thead>\n",
       "    <tr style=\"text-align: right;\">\n",
       "      <th></th>\n",
       "      <th>time</th>\n",
       "      <th>iso_country_code</th>\n",
       "      <th>casualties</th>\n",
       "    </tr>\n",
       "  </thead>\n",
       "  <tbody>\n",
       "    <tr>\n",
       "      <th>0</th>\n",
       "      <td>2020-01-22</td>\n",
       "      <td>FRA</td>\n",
       "      <td>0</td>\n",
       "    </tr>\n",
       "    <tr>\n",
       "      <th>1</th>\n",
       "      <td>2020-01-23</td>\n",
       "      <td>FRA</td>\n",
       "      <td>0</td>\n",
       "    </tr>\n",
       "    <tr>\n",
       "      <th>2</th>\n",
       "      <td>2020-01-24</td>\n",
       "      <td>FRA</td>\n",
       "      <td>0</td>\n",
       "    </tr>\n",
       "    <tr>\n",
       "      <th>3</th>\n",
       "      <td>2020-01-25</td>\n",
       "      <td>FRA</td>\n",
       "      <td>0</td>\n",
       "    </tr>\n",
       "    <tr>\n",
       "      <th>4</th>\n",
       "      <td>2020-01-26</td>\n",
       "      <td>FRA</td>\n",
       "      <td>0</td>\n",
       "    </tr>\n",
       "    <tr>\n",
       "      <th>...</th>\n",
       "      <td>...</td>\n",
       "      <td>...</td>\n",
       "      <td>...</td>\n",
       "    </tr>\n",
       "    <tr>\n",
       "      <th>249</th>\n",
       "      <td>2020-09-27</td>\n",
       "      <td>FRA</td>\n",
       "      <td>31483</td>\n",
       "    </tr>\n",
       "    <tr>\n",
       "      <th>250</th>\n",
       "      <td>2020-09-28</td>\n",
       "      <td>FRA</td>\n",
       "      <td>31549</td>\n",
       "    </tr>\n",
       "    <tr>\n",
       "      <th>251</th>\n",
       "      <td>2020-09-29</td>\n",
       "      <td>FRA</td>\n",
       "      <td>31711</td>\n",
       "    </tr>\n",
       "    <tr>\n",
       "      <th>252</th>\n",
       "      <td>2020-09-30</td>\n",
       "      <td>FRA</td>\n",
       "      <td>31769</td>\n",
       "    </tr>\n",
       "    <tr>\n",
       "      <th>253</th>\n",
       "      <td>2020-10-01</td>\n",
       "      <td>FRA</td>\n",
       "      <td>31816</td>\n",
       "    </tr>\n",
       "  </tbody>\n",
       "</table>\n",
       "<p>254 rows × 3 columns</p>\n",
       "</div>"
      ],
      "text/plain": [
       "          time iso_country_code  casualties\n",
       "0   2020-01-22              FRA           0\n",
       "1   2020-01-23              FRA           0\n",
       "2   2020-01-24              FRA           0\n",
       "3   2020-01-25              FRA           0\n",
       "4   2020-01-26              FRA           0\n",
       "..         ...              ...         ...\n",
       "249 2020-09-27              FRA       31483\n",
       "250 2020-09-28              FRA       31549\n",
       "251 2020-09-29              FRA       31711\n",
       "252 2020-09-30              FRA       31769\n",
       "253 2020-10-01              FRA       31816\n",
       "\n",
       "[254 rows x 3 columns]"
      ]
     },
     "execution_count": 34,
     "metadata": {},
     "output_type": "execute_result"
    }
   ],
   "source": [
    "pdf = spark.sql(\"SELECT start as time, iso_country_code, casualties \\\n",
    "FROM data \\\n",
    "WHERE iso_country_code = 'FRA' \\\n",
    "ORDER BY time\").toPandas()\n",
    "\n",
    "pdf"
   ]
  },
  {
   "cell_type": "code",
   "execution_count": 19,
   "metadata": {},
   "outputs": [
    {
     "data": {
      "image/png": "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
      "text/plain": [
       "<Figure size 432x288 with 1 Axes>"
      ]
     },
     "metadata": {
      "needs_background": "light"
     },
     "output_type": "display_data"
    }
   ],
   "source": [
    "plt.plot(pdf['time'], pdf['casualties'], color='red')\n",
    "plt.gcf().autofmt_xdate()\n",
    "plt.show()"
   ]
  },
  {
   "cell_type": "markdown",
   "metadata": {},
   "source": [
    "### Multiline plot"
   ]
  },
  {
   "cell_type": "code",
   "execution_count": null,
   "metadata": {},
   "outputs": [],
   "source": [
    "pdf = spark.sql(\"SELECT start as time, iso_country_code, casualties \\\n",
    "FROM data \\\n",
    "ORDER BY time\").toPandas()\n",
    "\n",
    "pdf"
   ]
  },
  {
   "cell_type": "code",
   "execution_count": null,
   "metadata": {},
   "outputs": [],
   "source": [
    "fig, ax = plt.subplots(figsize=(16,9))\n",
    "\n",
    "for country in pdf[categoryColumn]:\n",
    "    dataframe = pdf.loc[pdf[categoryColumn] == country]\n",
    "    ax.plot(dataframe['time'], dataframe['casualties'], label=country)\n",
    "\n",
    "ax.set_title('Casualties per country')\n",
    "ax.legend(bbox_to_anchor=(1,1), loc=\"upper left\")"
   ]
  },
  {
   "cell_type": "markdown",
   "metadata": {},
   "source": [
    "### Box plot"
   ]
  },
  {
   "cell_type": "code",
   "execution_count": 41,
   "metadata": {},
   "outputs": [
    {
     "ename": "NameError",
     "evalue": "name 'pandaDf' is not defined",
     "output_type": "error",
     "traceback": [
      "\u001b[0;31m---------------------------------------------------------------------------\u001b[0m",
      "\u001b[0;31mNameError\u001b[0m                                 Traceback (most recent call last)",
      "\u001b[0;32m<ipython-input-41-c39f29f82d05>\u001b[0m in \u001b[0;36m<module>\u001b[0;34m\u001b[0m\n\u001b[1;32m      2\u001b[0m \u001b[0;34m\u001b[0m\u001b[0m\n\u001b[1;32m      3\u001b[0m \u001b[0mdata\u001b[0m \u001b[0;34m=\u001b[0m \u001b[0mpd\u001b[0m\u001b[0;34m.\u001b[0m\u001b[0mDataFrame\u001b[0m\u001b[0;34m(\u001b[0m\u001b[0;34m)\u001b[0m\u001b[0;34m\u001b[0m\u001b[0;34m\u001b[0m\u001b[0m\n\u001b[0;32m----> 4\u001b[0;31m \u001b[0;32mfor\u001b[0m \u001b[0mkey\u001b[0m \u001b[0;32min\u001b[0m \u001b[0mpandaDf\u001b[0m\u001b[0;34m[\u001b[0m\u001b[0;34m'country_region'\u001b[0m\u001b[0;34m]\u001b[0m\u001b[0;34m:\u001b[0m\u001b[0;34m\u001b[0m\u001b[0;34m\u001b[0m\u001b[0m\n\u001b[0m\u001b[1;32m      5\u001b[0m     \u001b[0mdataframe\u001b[0m \u001b[0;34m=\u001b[0m \u001b[0mpandaDf\u001b[0m\u001b[0;34m.\u001b[0m\u001b[0mloc\u001b[0m\u001b[0;34m[\u001b[0m\u001b[0mpandaDf\u001b[0m\u001b[0;34m[\u001b[0m\u001b[0;34m'country_region'\u001b[0m\u001b[0;34m]\u001b[0m \u001b[0;34m==\u001b[0m \u001b[0mkey\u001b[0m\u001b[0;34m]\u001b[0m\u001b[0;34m\u001b[0m\u001b[0;34m\u001b[0m\u001b[0m\n\u001b[1;32m      6\u001b[0m     \u001b[0mvalues\u001b[0m \u001b[0;34m=\u001b[0m \u001b[0mpd\u001b[0m\u001b[0;34m.\u001b[0m\u001b[0mSeries\u001b[0m\u001b[0;34m(\u001b[0m\u001b[0mdataframe\u001b[0m\u001b[0;34m[\u001b[0m\u001b[0;34m'value_list'\u001b[0m\u001b[0;34m]\u001b[0m\u001b[0;34m.\u001b[0m\u001b[0mtolist\u001b[0m\u001b[0;34m(\u001b[0m\u001b[0;34m)\u001b[0m\u001b[0;34m[\u001b[0m\u001b[0;36m0\u001b[0m\u001b[0;34m]\u001b[0m\u001b[0;34m)\u001b[0m\u001b[0;34m\u001b[0m\u001b[0;34m\u001b[0m\u001b[0m\n",
      "\u001b[0;31mNameError\u001b[0m: name 'pandaDf' is not defined"
     ]
    }
   ],
   "source": [
    "import pandas as pd\n",
    "\n",
    "data = pd.DataFrame()\n",
    "for key in pandaDf['country_region']:\n",
    "    dataframe = pandaDf.loc[pandaDf['country_region'] == key]\n",
    "    values = pd.Series(dataframe['value_list'].tolist()[0])\n",
    "    print(values.shape)\n",
    "    data.insert(loc=0, column=key, value=values)\n",
    "    \n",
    "data"
   ]
  },
  {
   "cell_type": "code",
   "execution_count": null,
   "metadata": {},
   "outputs": [],
   "source": [
    "import matplotlib.pyplot as plt\n",
    "\n",
    "# fig, ax = plt.subplots()\n",
    "for (columnName, columnData) in data.iteritems(): \n",
    "    plt.figure()\n",
    "    print('Colunm Name : ', columnName) \n",
    "    print('Column Contents : ', type(columnData))\n",
    "    columnData.plot(kind='box')\n"
   ]
  },
  {
   "cell_type": "markdown",
   "metadata": {},
   "source": [
    "## seaborn"
   ]
  },
  {
   "cell_type": "code",
   "execution_count": 32,
   "metadata": {},
   "outputs": [],
   "source": [
    "import matplotlib.pyplot as plt\n",
    "import seaborn as sns   \n",
    "\n",
    "sns.catplot(x ='time', y ='casualties', data = pdf)\n",
    "plt.title('COVID-19 Casualities')\n",
    "plt.show() "
   ]
  },
  {
   "cell_type": "code",
   "execution_count": null,
   "metadata": {},
   "outputs": [],
   "source": []
  }
 ],
 "metadata": {
  "kernelspec": {
   "display_name": "Python 3",
   "language": "python",
   "name": "python3"
  },
  "language_info": {
   "codemirror_mode": {
    "name": "ipython",
    "version": 3
   },
   "file_extension": ".py",
   "mimetype": "text/x-python",
   "name": "python",
   "nbconvert_exporter": "python",
   "pygments_lexer": "ipython3",
   "version": "3.8.6"
  }
 },
 "nbformat": 4,
 "nbformat_minor": 2
}
