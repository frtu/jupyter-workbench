{
 "cells": [
  {
   "cell_type": "markdown",
   "metadata": {},
   "source": [
    "# PySpark\n",
    "\n",
    "## Init Engine"
   ]
  },
  {
   "cell_type": "code",
   "execution_count": 1,
   "metadata": {},
   "outputs": [
    {
     "data": {
      "text/plain": [
       "DataFrame[key: string, value: string]"
      ]
     },
     "execution_count": 1,
     "metadata": {},
     "output_type": "execute_result"
    }
   ],
   "source": [
    "from pyspark.sql import SparkSession\n",
    "\n",
    "spark = SparkSession.builder.appName('pyspark-covid').getOrCreate()\n",
    "#set timestamp\n",
    "spark.sql(\"set spark.sql.session.timeZone=UTC\")"
   ]
  },
  {
   "cell_type": "markdown",
   "metadata": {},
   "source": [
    "# Data loading"
   ]
  },
  {
   "cell_type": "markdown",
   "metadata": {},
   "source": [
    "## Create DataFrame from CSV file"
   ]
  },
  {
   "cell_type": "code",
   "execution_count": 2,
   "metadata": {
    "scrolled": true
   },
   "outputs": [
    {
     "name": "stdout",
     "output_type": "stream",
     "text": [
      "root\n",
      " |-- Province/State: string (nullable = true)\n",
      " |-- Country/Region: string (nullable = true)\n",
      " |-- Lat: double (nullable = true)\n",
      " |-- Long: double (nullable = true)\n",
      " |-- Date: string (nullable = true)\n",
      " |-- Value: integer (nullable = true)\n",
      " |-- ISO 3166-1 Alpha 3-Codes: string (nullable = true)\n",
      " |-- Region Code: integer (nullable = true)\n",
      " |-- Sub-region Code: integer (nullable = true)\n",
      " |-- Intermediate Region Code: integer (nullable = true)\n",
      "\n"
     ]
    }
   ],
   "source": [
    "df = spark.read. \\\n",
    "    option(\"header\", \"true\"). \\\n",
    "    option(\"inferSchema\", \"true\"). \\\n",
    "    option(\"delimiter\", \",\"). \\\n",
    "    option(\"escape\", \"\\\"\"). \\\n",
    "    csv(\"/data/time_series_covid19_deaths_global_narrow.csv\")\n",
    "    \n",
    "df.printSchema()"
   ]
  },
  {
   "cell_type": "markdown",
   "metadata": {},
   "source": [
    "## Normalize schema\n",
    "\n",
    "* Remove schema name from special char"
   ]
  },
  {
   "cell_type": "code",
   "execution_count": 3,
   "metadata": {},
   "outputs": [
    {
     "name": "stdout",
     "output_type": "stream",
     "text": [
      "root\n",
      " |-- province_state: string (nullable = true)\n",
      " |-- country_region: string (nullable = true)\n",
      " |-- Lat: double (nullable = true)\n",
      " |-- Long: double (nullable = true)\n",
      " |-- Date: string (nullable = true)\n",
      " |-- Value: integer (nullable = true)\n",
      " |-- iso_country_code: string (nullable = true)\n",
      " |-- region_code: integer (nullable = true)\n",
      " |-- sub_region_code: integer (nullable = true)\n",
      " |-- interm_region_code: integer (nullable = true)\n",
      "\n"
     ]
    }
   ],
   "source": [
    "normDf = df. \\\n",
    "    withColumnRenamed(\"ISO 3166-1 Alpha 3-Codes\", \"iso_country_code\"). \\\n",
    "    withColumnRenamed(\"Region Code\", \"region_code\"). \\\n",
    "    withColumnRenamed(\"Sub-region Code\", \"sub_region_code\"). \\\n",
    "    withColumnRenamed(\"Intermediate Region Code\", \"interm_region_code\"). \\\n",
    "    withColumnRenamed(\"Province/State\", \"province_state\"). \\\n",
    "    withColumnRenamed(\"Country/Region\", \"country_region\")\n",
    "\n",
    "normDf.printSchema()"
   ]
  },
  {
   "cell_type": "markdown",
   "metadata": {},
   "source": [
    "# Data cleaning\n",
    "\n",
    "## Sampling"
   ]
  },
  {
   "cell_type": "code",
   "execution_count": 4,
   "metadata": {},
   "outputs": [
    {
     "name": "stdout",
     "output_type": "stream",
     "text": [
      "+--------------+--------------+--------+---------+----------+-----+----------------+-----------+---------------+------------------+\n",
      "|province_state|country_region|Lat     |Long     |Date      |Value|iso_country_code|region_code|sub_region_code|interm_region_code|\n",
      "+--------------+--------------+--------+---------+----------+-----+----------------+-----------+---------------+------------------+\n",
      "|null          |Afghanistan   |33.93911|67.709953|2020-10-01|1458 |AFG             |142        |34             |null              |\n",
      "+--------------+--------------+--------+---------+----------+-----+----------------+-----------+---------------+------------------+\n",
      "only showing top 1 row\n",
      "\n"
     ]
    }
   ],
   "source": [
    "normDf.show(1, truncate=False)"
   ]
  },
  {
   "cell_type": "markdown",
   "metadata": {},
   "source": [
    "## Convert data type or value"
   ]
  },
  {
   "cell_type": "code",
   "execution_count": 5,
   "metadata": {},
   "outputs": [],
   "source": [
    "from pyspark.sql.functions import *\n",
    "from pyspark.sql.types import *"
   ]
  },
  {
   "cell_type": "markdown",
   "metadata": {},
   "source": [
    "#### Date & Timestamp"
   ]
  },
  {
   "cell_type": "code",
   "execution_count": 6,
   "metadata": {},
   "outputs": [
    {
     "name": "stdout",
     "output_type": "stream",
     "text": [
      "root\n",
      " |-- province_state: string (nullable = true)\n",
      " |-- country_region: string (nullable = true)\n",
      " |-- Lat: double (nullable = true)\n",
      " |-- Long: double (nullable = true)\n",
      " |-- Date: timestamp (nullable = true)\n",
      " |-- Value: integer (nullable = true)\n",
      " |-- iso_country_code: string (nullable = true)\n",
      " |-- region_code: integer (nullable = true)\n",
      " |-- sub_region_code: integer (nullable = true)\n",
      " |-- interm_region_code: integer (nullable = true)\n",
      "\n"
     ]
    }
   ],
   "source": [
    "cleanDf = normDf. \\\n",
    "    withColumn(\"Date\", col(\"Date\").cast(TimestampType()))\n",
    "\n",
    "cleanDf.printSchema()"
   ]
  },
  {
   "cell_type": "markdown",
   "metadata": {},
   "source": [
    "#### UDF - Custom transformation"
   ]
  },
  {
   "cell_type": "code",
   "execution_count": 7,
   "metadata": {},
   "outputs": [
    {
     "name": "stdout",
     "output_type": "stream",
     "text": [
      "convert value : AFG\n",
      "afg\n"
     ]
    }
   ],
   "source": [
    "def convert(str, debug=False):\n",
    "    if (debug):\n",
    "        print(\"convert value :\", str)\n",
    "    if str is None:\n",
    "        return None\n",
    "    return str.lower() \n",
    "\n",
    "convertUDF = udf(lambda str: convert(str), StringType())\n",
    "\n",
    "print(convert(\"AFG\", True))"
   ]
  },
  {
   "cell_type": "code",
   "execution_count": 8,
   "metadata": {},
   "outputs": [
    {
     "name": "stdout",
     "output_type": "stream",
     "text": [
      "+--------------+--------------+--------+---------+----------+-----+----------------+-----------+---------------+------------------+\n",
      "|province_state|country_region|Lat     |Long     |Date      |Value|iso_country_code|region_code|sub_region_code|interm_region_code|\n",
      "+--------------+--------------+--------+---------+----------+-----+----------------+-----------+---------------+------------------+\n",
      "|null          |Afghanistan   |33.93911|67.709953|2020-10-01|1458 |afg             |142        |34             |null              |\n",
      "+--------------+--------------+--------+---------+----------+-----+----------------+-----------+---------------+------------------+\n",
      "only showing top 1 row\n",
      "\n"
     ]
    }
   ],
   "source": [
    "normDf. \\\n",
    "    withColumn(\"iso_country_code\", convertUDF(col(\"iso_country_code\"))). \\\n",
    "    show(1, truncate=False)"
   ]
  },
  {
   "cell_type": "markdown",
   "metadata": {},
   "source": [
    "## DataSet Validation\n",
    "### Check overall values"
   ]
  },
  {
   "cell_type": "code",
   "execution_count": 9,
   "metadata": {},
   "outputs": [
    {
     "name": "stdout",
     "output_type": "stream",
     "text": [
      "+-------------------+\n",
      "|sum(sum_casualties)|\n",
      "+-------------------+\n",
      "|98961992           |\n",
      "+-------------------+\n",
      "\n"
     ]
    }
   ],
   "source": [
    "from pyspark.sql.functions import sum, col, desc\n",
    "\n",
    "column = \"sum_casualties\"\n",
    "\n",
    "isoDF = normDf. \\\n",
    "    groupBy(col(\"iso_country_code\")). \\\n",
    "    agg(sum(\"Value\").alias(column)). \\\n",
    "    orderBy(desc(column))\n",
    "\n",
    "isoDF.agg(sum(column)). \\\n",
    "    show(truncate=False)"
   ]
  },
  {
   "cell_type": "markdown",
   "metadata": {},
   "source": [
    "### Column analysis"
   ]
  },
  {
   "cell_type": "markdown",
   "metadata": {},
   "source": [
    "#### Numeric values"
   ]
  },
  {
   "cell_type": "code",
   "execution_count": 10,
   "metadata": {},
   "outputs": [
    {
     "name": "stdout",
     "output_type": "stream",
     "text": [
      "+----------+-----------------+-----------------+--------+--------+------------------+\n",
      "|count(Lat)|         avg(Lat)| stddev_samp(Lat)|min(Lat)|max(Lat)|          sum(Lat)|\n",
      "+----------+-----------------+-----------------+--------+--------+------------------+\n",
      "|     67564|21.07662424812158|24.85792699104551|-51.7963| 71.7069|1424021.0407000864|\n",
      "+----------+-----------------+-----------------+--------+--------+------------------+\n",
      "\n"
     ]
    }
   ],
   "source": [
    "from pyspark.sql.functions import count, mean, stddev, min, max, sum\n",
    "\n",
    "normDf.agg(count(\"Lat\"), mean(\"Lat\"), stddev(\"Lat\"), min(\"Lat\"), max(\"Lat\"), sum(\"Lat\")).show()"
   ]
  },
  {
   "cell_type": "markdown",
   "metadata": {},
   "source": [
    "#### String values"
   ]
  },
  {
   "cell_type": "code",
   "execution_count": 11,
   "metadata": {},
   "outputs": [
    {
     "name": "stdout",
     "output_type": "stream",
     "text": [
      "266\n"
     ]
    }
   ],
   "source": [
    "from pyspark.sql.functions import col\n",
    "\n",
    "distinctValuesDF = normDf. \\\n",
    "    select(col(\"iso_country_code\"), col(\"country_region\"), col(\"province_state\"), col(\"Lat\"), col(\"Long\")). \\\n",
    "    distinct()\n",
    "\n",
    "print(distinctValuesDF.count())"
   ]
  },
  {
   "cell_type": "code",
   "execution_count": 12,
   "metadata": {},
   "outputs": [
    {
     "name": "stdout",
     "output_type": "stream",
     "text": [
      "+----------------+-----+\n",
      "|iso_country_code|count|\n",
      "+----------------+-----+\n",
      "|             CHN|   31|\n",
      "|             CAN|   12|\n",
      "|             AUS|    8|\n",
      "|            null|    5|\n",
      "|             SPM|    1|\n",
      "|             ABW|    1|\n",
      "|             BRB|    1|\n",
      "|             COD|    1|\n",
      "|             LVA|    1|\n",
      "|             HTI|    1|\n",
      "|             PSE|    1|\n",
      "|             BRA|    1|\n",
      "|             ARM|    1|\n",
      "|             JOR|    1|\n",
      "|             CUB|    1|\n",
      "|             MOZ|    1|\n",
      "|             SOM|    1|\n",
      "|             FRA|    1|\n",
      "|             BRN|    1|\n",
      "|             TCA|    1|\n",
      "+----------------+-----+\n",
      "only showing top 20 rows\n",
      "\n"
     ]
    }
   ],
   "source": [
    "from pyspark.sql.functions import desc\n",
    "\n",
    "distinctValuesDF.groupBy(\"iso_country_code\").count().orderBy(desc(\"count\")).show()"
   ]
  },
  {
   "cell_type": "code",
   "execution_count": 13,
   "metadata": {},
   "outputs": [
    {
     "name": "stdout",
     "output_type": "stream",
     "text": [
      "+----------------+----------------+----------------+-------+-------+\n",
      "|iso_country_code|  country_region|  province_state|    Lat|   Long|\n",
      "+----------------+----------------+----------------+-------+-------+\n",
      "|            null|          Canada|  Grand Princess|    0.0|    0.0|\n",
      "|            null|      MS Zaandam|            null|    0.0|    0.0|\n",
      "|            null|          Canada|Diamond Princess|    0.0|    0.0|\n",
      "|            null|  United Kingdom| Channel Islands|49.3723|-2.3644|\n",
      "|            null|Diamond Princess|            null|    0.0|    0.0|\n",
      "+----------------+----------------+----------------+-------+-------+\n",
      "\n"
     ]
    }
   ],
   "source": [
    "distinctValuesDF.where(\"iso_country_code is null\").show()"
   ]
  },
  {
   "cell_type": "code",
   "execution_count": 14,
   "metadata": {},
   "outputs": [
    {
     "name": "stdout",
     "output_type": "stream",
     "text": [
      "+----------------+--------------+--------------+------------------+------------------+\n",
      "|iso_country_code|country_region|province_state|               Lat|              Long|\n",
      "+----------------+--------------+--------------+------------------+------------------+\n",
      "|             CHN|         China|       Qinghai|           35.7452|           95.9956|\n",
      "|             CHN|         China|       Ningxia|           37.2692|          106.1655|\n",
      "|             CHN|         China|      Xinjiang|           41.1129|           85.2401|\n",
      "|             CHN|         China|      Shandong|           36.3427|          118.1498|\n",
      "|             CHN|         China|       Guangxi|           23.8298|          108.7881|\n",
      "|             CHN|         China|         Gansu|           35.7518|          104.2861|\n",
      "|             CHN|         China|       Jiangsu|           32.9711|           119.455|\n",
      "|             CHN|         China|         Henan|           37.8957|          114.9042|\n",
      "|             CHN|         China|         Tibet|           31.6927|           88.0924|\n",
      "|             CHN|         China|      Shanghai|31.201999999999998|          121.4491|\n",
      "|             CHN|         China|        Yunnan|            24.974|101.48700000000001|\n",
      "|             CHN|         China|        Fujian|           26.0789|          117.9874|\n",
      "|             CHN|         China|       Sichuan|           30.6171|          102.7103|\n",
      "|             CHN|         China|         Hebei|            39.549|          116.1306|\n",
      "|             CHN|         China|       Shaanxi|           35.1917|          108.8701|\n",
      "|             CHN|         China|Inner Mongolia|           44.0935|          113.9448|\n",
      "|             CHN|         China|         Jilin|           43.6661|          126.1923|\n",
      "|             CHN|         China|         Hunan|           27.6104|          111.7088|\n",
      "|             CHN|         China|     Chongqing|           30.0572|           107.874|\n",
      "|             CHN|         China|         Hubei|           30.9756|          112.2707|\n",
      "+----------------+--------------+--------------+------------------+------------------+\n",
      "only showing top 20 rows\n",
      "\n"
     ]
    }
   ],
   "source": [
    "from pyspark.sql.functions import col\n",
    "\n",
    "distinctValuesDF.where(col(\"iso_country_code\") == \"CHN\").show()"
   ]
  },
  {
   "cell_type": "markdown",
   "metadata": {},
   "source": [
    "#### Date values"
   ]
  },
  {
   "cell_type": "code",
   "execution_count": 15,
   "metadata": {
    "scrolled": true
   },
   "outputs": [
    {
     "name": "stdout",
     "output_type": "stream",
     "text": [
      "+----------------+--------------+\n",
      "|start_date_range|end_date_range|\n",
      "+----------------+--------------+\n",
      "|2020-01-22      |2020-10-01    |\n",
      "+----------------+--------------+\n",
      "\n"
     ]
    }
   ],
   "source": [
    "from pyspark.sql.functions import min, max\n",
    "\n",
    "column = \"Date\"\n",
    "normDf.agg(min(column).alias(\"start_date_range\"), max(column).alias(\"end_date_range\")).show(truncate=False)"
   ]
  },
  {
   "cell_type": "markdown",
   "metadata": {},
   "source": [
    "## Understand distribution\n",
    "### Parent child columns"
   ]
  },
  {
   "cell_type": "code",
   "execution_count": 16,
   "metadata": {},
   "outputs": [
    {
     "name": "stdout",
     "output_type": "stream",
     "text": [
      "+----------------+-----+\n",
      "|iso_country_code|count|\n",
      "+----------------+-----+\n",
      "|             HTI|    1|\n",
      "|             PSE|    1|\n",
      "|             BRB|    1|\n",
      "|             POL|    1|\n",
      "|             LVA|    1|\n",
      "|             ZMB|    1|\n",
      "|             JAM|    1|\n",
      "|             SPM|    1|\n",
      "|             BRA|    1|\n",
      "|             ARM|    1|\n",
      "|             MOZ|    1|\n",
      "|             JOR|    1|\n",
      "|             CUB|    1|\n",
      "|             SOM|    1|\n",
      "|             FRA|    1|\n",
      "|             ABW|    1|\n",
      "|             TCA|    1|\n",
      "|             COD|    1|\n",
      "|             BRN|    1|\n",
      "|             BOL|    1|\n",
      "+----------------+-----+\n",
      "only showing top 20 rows\n",
      "\n"
     ]
    }
   ],
   "source": [
    "distinctValuesDF.groupBy(col(\"iso_country_code\")).count().show()"
   ]
  },
  {
   "cell_type": "code",
   "execution_count": 17,
   "metadata": {},
   "outputs": [
    {
     "name": "stdout",
     "output_type": "stream",
     "text": [
      "+----------------+-----+\n",
      "|iso_country_code|count|\n",
      "+----------------+-----+\n",
      "|             CHN|   31|\n",
      "|             CAN|   12|\n",
      "|             AUS|    8|\n",
      "|            null|    5|\n",
      "|             SPM|    1|\n",
      "|             ABW|    1|\n",
      "|             LVA|    1|\n",
      "|             COD|    1|\n",
      "|             PSE|    1|\n",
      "|             ZMB|    1|\n",
      "|             JAM|    1|\n",
      "|             BRA|    1|\n",
      "|             ARM|    1|\n",
      "|             MOZ|    1|\n",
      "|             JOR|    1|\n",
      "|             CUB|    1|\n",
      "|             SOM|    1|\n",
      "|             FRA|    1|\n",
      "|             BRN|    1|\n",
      "|             TCA|    1|\n",
      "+----------------+-----+\n",
      "only showing top 20 rows\n",
      "\n"
     ]
    }
   ],
   "source": [
    "distinctValuesDF.groupBy(col(\"iso_country_code\")). \\\n",
    "    count(). \\\n",
    "    orderBy(desc(\"count\")). \\\n",
    "    show()"
   ]
  },
  {
   "cell_type": "code",
   "execution_count": 18,
   "metadata": {
    "scrolled": false
   },
   "outputs": [
    {
     "name": "stdout",
     "output_type": "stream",
     "text": [
      "+--------------+-----+----------------------------------------------------------------------------------------------------------------------------------------------------------------------------------------------------------------------------------------------------------------------------------------------------------+\n",
      "|country_region|count|contained_province                                                                                                                                                                                                                                                                                        |\n",
      "+--------------+-----+----------------------------------------------------------------------------------------------------------------------------------------------------------------------------------------------------------------------------------------------------------------------------------------------------------+\n",
      "|Australia     |8    |[Queensland, New South Wales, Northern Territory, Western Australia, South Australia, Australian Capital Territory, Victoria, Tasmania]                                                                                                                                                                   |\n",
      "|Canada        |14   |[Northwest Territories, Manitoba, Grand Princess, Newfoundland and Labrador, New Brunswick, Alberta, Prince Edward Island, Ontario, Nova Scotia, Diamond Princess, Yukon, Quebec, British Columbia, Saskatchewan]                                                                                         |\n",
      "|China         |33   |[Inner Mongolia, Jilin, Yunnan, Fujian, Heilongjiang, Hebei, Hong Kong, Hubei, Tianjin, Liaoning, Hunan, Chongqing, Ningxia, Shanghai, Guangdong, Zhejiang, Shandong, Qinghai, Guangxi, Macau, Tibet, Anhui, Shaanxi, Hainan, Guizhou, Gansu, Jiangsu, Beijing, Jiangxi, Sichuan, Xinjiang, Shanxi, Henan]|\n",
      "|Denmark       |2    |[Faroe Islands, Greenland]                                                                                                                                                                                                                                                                                |\n",
      "|France        |10   |[Martinique, French Polynesia, Reunion, French Guiana, New Caledonia, Guadeloupe, Saint Pierre and Miquelon, St Martin, Mayotte, Saint Barthelemy]                                                                                                                                                        |\n",
      "|Netherlands   |4    |[Bonaire, Sint Eustatius and Saba, Aruba, Sint Maarten, Curacao]                                                                                                                                                                                                                                          |\n",
      "|United Kingdom|10   |[Gibraltar, Channel Islands, Isle of Man, Anguilla, Montserrat, Turks and Caicos Islands, Bermuda, British Virgin Islands, Cayman Islands, Falkland Islands (Malvinas)]                                                                                                                                   |\n",
      "+--------------+-----+----------------------------------------------------------------------------------------------------------------------------------------------------------------------------------------------------------------------------------------------------------------------------------------------------------+\n",
      "\n"
     ]
    }
   ],
   "source": [
    "from pyspark.sql.functions import col, count, collect_set\n",
    "\n",
    "distinctValuesDF.groupBy(col(\"country_region\")). \\\n",
    "    agg(count(\"province_state\").alias(\"count\"), collect_set(\"province_state\").alias(\"contained_province\")). \\\n",
    "    where(col(\"count\") > 0). \\\n",
    "    orderBy(\"country_region\"). \\\n",
    "    show(truncate=False)"
   ]
  },
  {
   "cell_type": "markdown",
   "metadata": {},
   "source": [
    "### Distribution By Time Window"
   ]
  },
  {
   "cell_type": "code",
   "execution_count": 19,
   "metadata": {},
   "outputs": [
    {
     "name": "stdout",
     "output_type": "stream",
     "text": [
      "+----------------+----------------------+--------------------------------+------------------------------------------+----------+\n",
      "|iso_country_code|country_region        |province_state                  |window                                    |casualties|\n",
      "+----------------+----------------------+--------------------------------+------------------------------------------+----------+\n",
      "|SGP             |Singapore             |null                            |[2020-10-01 00:00:00, 2020-10-02 00:00:00]|27        |\n",
      "|ITA             |Italy                 |null                            |[2020-10-01 00:00:00, 2020-10-02 00:00:00]|35918     |\n",
      "|MYS             |Malaysia              |null                            |[2020-10-01 00:00:00, 2020-10-02 00:00:00]|136       |\n",
      "|MMR             |Burma                 |null                            |[2020-10-01 00:00:00, 2020-10-02 00:00:00]|321       |\n",
      "|CZE             |Czechia               |null                            |[2020-10-01 00:00:00, 2020-10-02 00:00:00]|678       |\n",
      "|BIH             |Bosnia and Herzegovina|null                            |[2020-10-01 00:00:00, 2020-10-02 00:00:00]|861       |\n",
      "|CHN             |China                 |Guizhou                         |[2020-10-01 00:00:00, 2020-10-02 00:00:00]|2         |\n",
      "|BRN             |Brunei                |null                            |[2020-10-01 00:00:00, 2020-10-02 00:00:00]|3         |\n",
      "|GRC             |Greece                |null                            |[2020-10-01 00:00:00, 2020-10-02 00:00:00]|393       |\n",
      "|SVK             |Slovakia              |null                            |[2020-10-01 00:00:00, 2020-10-02 00:00:00]|48        |\n",
      "|VEN             |Venezuela             |null                            |[2020-10-01 00:00:00, 2020-10-02 00:00:00]|635       |\n",
      "|FRO             |Denmark               |Faroe Islands                   |[2020-10-01 00:00:00, 2020-10-02 00:00:00]|0         |\n",
      "|BES             |Netherlands           |Bonaire, Sint Eustatius and Saba|[2020-10-01 00:00:00, 2020-10-02 00:00:00]|1         |\n",
      "|BRA             |Brazil                |null                            |[2020-10-01 00:00:00, 2020-10-02 00:00:00]|144680    |\n",
      "|RWA             |Rwanda                |null                            |[2020-10-01 00:00:00, 2020-10-02 00:00:00]|29        |\n",
      "|TUR             |Turkey                |null                            |[2020-10-01 00:00:00, 2020-10-02 00:00:00]|8262      |\n",
      "|GIN             |Guinea                |null                            |[2020-10-01 00:00:00, 2020-10-02 00:00:00]|66        |\n",
      "|MCO             |Monaco                |null                            |[2020-10-01 00:00:00, 2020-10-02 00:00:00]|2         |\n",
      "|CIV             |Cote d'Ivoire         |null                            |[2020-10-01 00:00:00, 2020-10-02 00:00:00]|120       |\n",
      "|CHN             |China                 |Guangdong                       |[2020-10-01 00:00:00, 2020-10-02 00:00:00]|8         |\n",
      "+----------------+----------------------+--------------------------------+------------------------------------------+----------+\n",
      "only showing top 20 rows\n",
      "\n"
     ]
    }
   ],
   "source": [
    "from pyspark.sql.functions import col, sum, desc, window\n",
    "\n",
    "tsDF = normDf. \\\n",
    "    groupBy(col(\"iso_country_code\"), col(\"country_region\"), col(\"province_state\"), window(col(\"Date\"), \"1 day\")). \\\n",
    "    agg(sum(\"Value\").alias(\"casualties\")). \\\n",
    "    orderBy(desc(\"window.start\"))\n",
    "\n",
    "tsDF. \\\n",
    "    show(truncate=False)"
   ]
  },
  {
   "cell_type": "markdown",
   "metadata": {},
   "source": [
    "#### Window value stats"
   ]
  },
  {
   "cell_type": "code",
   "execution_count": 20,
   "metadata": {},
   "outputs": [
    {
     "name": "stdout",
     "output_type": "stream",
     "text": [
      "+-------------------+-------------------+\n",
      "|start_date_range   |end_date_range     |\n",
      "+-------------------+-------------------+\n",
      "|2020-01-22 00:00:00|2020-10-01 00:00:00|\n",
      "+-------------------+-------------------+\n",
      "\n"
     ]
    }
   ],
   "source": [
    "column = \"window.start\"\n",
    "tsDF.agg(min(column).alias(\"start_date_range\"), max(column).alias(\"end_date_range\")).show(truncate=False)"
   ]
  },
  {
   "cell_type": "markdown",
   "metadata": {},
   "source": [
    "### Data preparation & ordering"
   ]
  },
  {
   "cell_type": "code",
   "execution_count": 21,
   "metadata": {},
   "outputs": [
    {
     "name": "stdout",
     "output_type": "stream",
     "text": [
      "+----------------+--------------+--------------+-------------------+-------------------+----------+\n",
      "|iso_country_code|country_region|province_state|start              |end                |casualties|\n",
      "+----------------+--------------+--------------+-------------------+-------------------+----------+\n",
      "|null            |Canada        |Grand Princess|2020-01-22 00:00:00|2020-01-23 00:00:00|0         |\n",
      "+----------------+--------------+--------------+-------------------+-------------------+----------+\n",
      "only showing top 1 row\n",
      "\n"
     ]
    }
   ],
   "source": [
    "storedDF = tsDF.select(\"iso_country_code\", \"country_region\", \"province_state\", \"window.start\", \"window.end\", \"casualties\"). \\\n",
    "    na.fill(\"unknown\", subset=[\"country_region\", \"province_state\"]). \\\n",
    "    orderBy(\"iso_country_code\", \"start\")\n",
    "\n",
    "storedDF.show(1, truncate=False)"
   ]
  },
  {
   "cell_type": "markdown",
   "metadata": {},
   "source": [
    "## Exporting"
   ]
  },
  {
   "cell_type": "markdown",
   "metadata": {},
   "source": [
    "### Persist to CSV file"
   ]
  },
  {
   "cell_type": "code",
   "execution_count": 22,
   "metadata": {},
   "outputs": [],
   "source": [
    "storedDF.coalesce(1). \\\n",
    "    write.mode('overwrite'). \\\n",
    "    option(\"mapreduce.fileoutputcommitter.marksuccessfuljobs\",\"false\"). \\\n",
    "    option(\"header\",\"true\"). \\\n",
    "    csv(\"/data/covid-19-by-country.csv\")"
   ]
  },
  {
   "cell_type": "markdown",
   "metadata": {},
   "source": [
    "### Save data into Table"
   ]
  },
  {
   "cell_type": "code",
   "execution_count": 23,
   "metadata": {},
   "outputs": [],
   "source": [
    "storedDF. \\\n",
    "    write.mode(\"overwrite\"). \\\n",
    "    saveAsTable(\"data\")"
   ]
  },
  {
   "cell_type": "markdown",
   "metadata": {},
   "source": [
    "### Export dataframe using .toPandas()"
   ]
  },
  {
   "cell_type": "code",
   "execution_count": 24,
   "metadata": {},
   "outputs": [],
   "source": [
    "pandaDf = tsDF.select(\"iso_country_code\", \"window.start\", \"casualties\").toPandas()"
   ]
  },
  {
   "cell_type": "code",
   "execution_count": 25,
   "metadata": {},
   "outputs": [
    {
     "data": {
      "text/html": [
       "<div>\n",
       "<style scoped>\n",
       "    .dataframe tbody tr th:only-of-type {\n",
       "        vertical-align: middle;\n",
       "    }\n",
       "\n",
       "    .dataframe tbody tr th {\n",
       "        vertical-align: top;\n",
       "    }\n",
       "\n",
       "    .dataframe thead th {\n",
       "        text-align: right;\n",
       "    }\n",
       "</style>\n",
       "<table border=\"1\" class=\"dataframe\">\n",
       "  <thead>\n",
       "    <tr style=\"text-align: right;\">\n",
       "      <th></th>\n",
       "      <th>iso_country_code</th>\n",
       "      <th>start</th>\n",
       "      <th>casualties</th>\n",
       "    </tr>\n",
       "  </thead>\n",
       "  <tbody>\n",
       "    <tr>\n",
       "      <th>0</th>\n",
       "      <td>BRA</td>\n",
       "      <td>2020-10-01</td>\n",
       "      <td>144680</td>\n",
       "    </tr>\n",
       "    <tr>\n",
       "      <th>1</th>\n",
       "      <td>GIN</td>\n",
       "      <td>2020-10-01</td>\n",
       "      <td>66</td>\n",
       "    </tr>\n",
       "    <tr>\n",
       "      <th>2</th>\n",
       "      <td>RWA</td>\n",
       "      <td>2020-10-01</td>\n",
       "      <td>29</td>\n",
       "    </tr>\n",
       "    <tr>\n",
       "      <th>3</th>\n",
       "      <td>FRO</td>\n",
       "      <td>2020-10-01</td>\n",
       "      <td>0</td>\n",
       "    </tr>\n",
       "    <tr>\n",
       "      <th>4</th>\n",
       "      <td>TUR</td>\n",
       "      <td>2020-10-01</td>\n",
       "      <td>8262</td>\n",
       "    </tr>\n",
       "  </tbody>\n",
       "</table>\n",
       "</div>"
      ],
      "text/plain": [
       "  iso_country_code      start  casualties\n",
       "0              BRA 2020-10-01      144680\n",
       "1              GIN 2020-10-01          66\n",
       "2              RWA 2020-10-01          29\n",
       "3              FRO 2020-10-01           0\n",
       "4              TUR 2020-10-01        8262"
      ]
     },
     "execution_count": 25,
     "metadata": {},
     "output_type": "execute_result"
    }
   ],
   "source": [
    "pandaDf.head()"
   ]
  },
  {
   "cell_type": "markdown",
   "metadata": {},
   "source": [
    "# Tables"
   ]
  },
  {
   "cell_type": "code",
   "execution_count": 26,
   "metadata": {},
   "outputs": [
    {
     "name": "stdout",
     "output_type": "stream",
     "text": [
      "+---------+\n",
      "|namespace|\n",
      "+---------+\n",
      "|  default|\n",
      "+---------+\n",
      "\n"
     ]
    }
   ],
   "source": [
    "spark.sql(\"SHOW DATABASES\").show()"
   ]
  },
  {
   "cell_type": "code",
   "execution_count": 27,
   "metadata": {},
   "outputs": [
    {
     "data": {
      "text/plain": [
       "[Table(name='data', database='default', description=None, tableType='MANAGED', isTemporary=False)]"
      ]
     },
     "execution_count": 27,
     "metadata": {},
     "output_type": "execute_result"
    }
   ],
   "source": [
    "spark.catalog.listTables(\"default\")"
   ]
  },
  {
   "cell_type": "markdown",
   "metadata": {},
   "source": [
    "### SparkSQL - Data query"
   ]
  },
  {
   "cell_type": "code",
   "execution_count": 28,
   "metadata": {},
   "outputs": [
    {
     "data": {
      "text/html": [
       "<div>\n",
       "<style scoped>\n",
       "    .dataframe tbody tr th:only-of-type {\n",
       "        vertical-align: middle;\n",
       "    }\n",
       "\n",
       "    .dataframe tbody tr th {\n",
       "        vertical-align: top;\n",
       "    }\n",
       "\n",
       "    .dataframe thead th {\n",
       "        text-align: right;\n",
       "    }\n",
       "</style>\n",
       "<table border=\"1\" class=\"dataframe\">\n",
       "  <thead>\n",
       "    <tr style=\"text-align: right;\">\n",
       "      <th></th>\n",
       "      <th>time</th>\n",
       "      <th>iso_country_code</th>\n",
       "      <th>casualties</th>\n",
       "    </tr>\n",
       "  </thead>\n",
       "  <tbody>\n",
       "    <tr>\n",
       "      <th>0</th>\n",
       "      <td>2020-01-22</td>\n",
       "      <td>FRA</td>\n",
       "      <td>0</td>\n",
       "    </tr>\n",
       "    <tr>\n",
       "      <th>1</th>\n",
       "      <td>2020-01-23</td>\n",
       "      <td>FRA</td>\n",
       "      <td>0</td>\n",
       "    </tr>\n",
       "    <tr>\n",
       "      <th>2</th>\n",
       "      <td>2020-01-24</td>\n",
       "      <td>FRA</td>\n",
       "      <td>0</td>\n",
       "    </tr>\n",
       "    <tr>\n",
       "      <th>3</th>\n",
       "      <td>2020-01-25</td>\n",
       "      <td>FRA</td>\n",
       "      <td>0</td>\n",
       "    </tr>\n",
       "    <tr>\n",
       "      <th>4</th>\n",
       "      <td>2020-01-26</td>\n",
       "      <td>FRA</td>\n",
       "      <td>0</td>\n",
       "    </tr>\n",
       "    <tr>\n",
       "      <th>...</th>\n",
       "      <td>...</td>\n",
       "      <td>...</td>\n",
       "      <td>...</td>\n",
       "    </tr>\n",
       "    <tr>\n",
       "      <th>249</th>\n",
       "      <td>2020-09-27</td>\n",
       "      <td>FRA</td>\n",
       "      <td>31483</td>\n",
       "    </tr>\n",
       "    <tr>\n",
       "      <th>250</th>\n",
       "      <td>2020-09-28</td>\n",
       "      <td>FRA</td>\n",
       "      <td>31549</td>\n",
       "    </tr>\n",
       "    <tr>\n",
       "      <th>251</th>\n",
       "      <td>2020-09-29</td>\n",
       "      <td>FRA</td>\n",
       "      <td>31711</td>\n",
       "    </tr>\n",
       "    <tr>\n",
       "      <th>252</th>\n",
       "      <td>2020-09-30</td>\n",
       "      <td>FRA</td>\n",
       "      <td>31769</td>\n",
       "    </tr>\n",
       "    <tr>\n",
       "      <th>253</th>\n",
       "      <td>2020-10-01</td>\n",
       "      <td>FRA</td>\n",
       "      <td>31816</td>\n",
       "    </tr>\n",
       "  </tbody>\n",
       "</table>\n",
       "<p>254 rows × 3 columns</p>\n",
       "</div>"
      ],
      "text/plain": [
       "          time iso_country_code  casualties\n",
       "0   2020-01-22              FRA           0\n",
       "1   2020-01-23              FRA           0\n",
       "2   2020-01-24              FRA           0\n",
       "3   2020-01-25              FRA           0\n",
       "4   2020-01-26              FRA           0\n",
       "..         ...              ...         ...\n",
       "249 2020-09-27              FRA       31483\n",
       "250 2020-09-28              FRA       31549\n",
       "251 2020-09-29              FRA       31711\n",
       "252 2020-09-30              FRA       31769\n",
       "253 2020-10-01              FRA       31816\n",
       "\n",
       "[254 rows x 3 columns]"
      ]
     },
     "execution_count": 28,
     "metadata": {},
     "output_type": "execute_result"
    }
   ],
   "source": [
    "pdf = spark.sql(\"SELECT start as time, iso_country_code, casualties \\\n",
    "FROM data \\\n",
    "WHERE iso_country_code = 'FRA' \\\n",
    "ORDER BY time\").toPandas()\n",
    "\n",
    "pdf"
   ]
  },
  {
   "cell_type": "markdown",
   "metadata": {},
   "source": [
    "# Visualization"
   ]
  },
  {
   "cell_type": "markdown",
   "metadata": {},
   "source": [
    "## matplotlib"
   ]
  },
  {
   "cell_type": "code",
   "execution_count": 29,
   "metadata": {},
   "outputs": [
    {
     "name": "stdout",
     "output_type": "stream",
     "text": [
      "\u001b[33mWARNING: The directory '/home/jovyan/.cache/pip' or its parent directory is not owned or is not writable by the current user. The cache has been disabled. Check the permissions and owner of that directory. If executing pip with sudo, you may want sudo's -H flag.\u001b[0m\n",
      "Requirement already satisfied: matplotlib in /opt/conda/lib/python3.8/site-packages (3.3.2)\n",
      "Requirement already satisfied: pyparsing!=2.0.4,!=2.1.2,!=2.1.6,>=2.0.3 in /opt/conda/lib/python3.8/site-packages (from matplotlib) (2.4.7)\n",
      "Requirement already satisfied: numpy>=1.15 in /opt/conda/lib/python3.8/site-packages (from matplotlib) (1.19.2)\n",
      "Requirement already satisfied: certifi>=2020.06.20 in /opt/conda/lib/python3.8/site-packages (from matplotlib) (2020.6.20)\n",
      "Requirement already satisfied: kiwisolver>=1.0.1 in /opt/conda/lib/python3.8/site-packages (from matplotlib) (1.2.0)\n",
      "Requirement already satisfied: cycler>=0.10 in /opt/conda/lib/python3.8/site-packages (from matplotlib) (0.10.0)\n",
      "Requirement already satisfied: pillow>=6.2.0 in /opt/conda/lib/python3.8/site-packages (from matplotlib) (7.2.0)\n",
      "Requirement already satisfied: python-dateutil>=2.1 in /opt/conda/lib/python3.8/site-packages (from matplotlib) (2.8.1)\n",
      "Requirement already satisfied: six in /opt/conda/lib/python3.8/site-packages (from cycler>=0.10->matplotlib) (1.15.0)\n"
     ]
    }
   ],
   "source": [
    "import sys  \n",
    "!{sys.executable} -m pip install --user matplotlib"
   ]
  },
  {
   "cell_type": "code",
   "execution_count": 30,
   "metadata": {},
   "outputs": [
    {
     "data": {
      "image/png": "[encoded data removed]",
      "text/plain": [
       "<Figure size 432x288 with 1 Axes>"
      ]
     },
     "metadata": {
      "needs_background": "light"
     },
     "output_type": "display_data"
    }
   ],
   "source": [
    "%matplotlib inline\n",
    "\n",
    "import matplotlib.pyplot as plt\n",
    "import numpy as np\n",
    "\n",
    "plt.plot(pdf['time'], pdf['casualties'], color='red')\n",
    "plt.gcf().autofmt_xdate()\n",
    "plt.show()"
   ]
  },
  {
   "cell_type": "code",
   "execution_count": 31,
   "metadata": {},
   "outputs": [
    {
     "data": {
      "text/plain": [
       "<matplotlib.legend.Legend at 0x7facb9237850>"
      ]
     },
     "execution_count": 31,
     "metadata": {},
     "output_type": "execute_result"
    },
    {
     "data": {
      "image/png": "[encoded data removed]",
      "text/plain": [
       "<Figure size 432x288 with 1 Axes>"
      ]
     },
     "metadata": {
      "needs_background": "light"
     },
     "output_type": "display_data"
    }
   ],
   "source": [
    "fig, ax = plt.subplots()\n",
    "for country in pdf['iso_country_code']:\n",
    "    dataframe = pdf.loc[pdf['iso_country_code'] == country]\n",
    "    ax.plot(dataframe['time'], dataframe['casualties'], label=country)\n",
    "\n",
    "ax.set_title('Casualties per country')\n",
    "ax.legend(loc='upper right')"
   ]
  },
  {
   "cell_type": "markdown",
   "metadata": {},
   "source": [
    "## seaborn"
   ]
  },
  {
   "cell_type": "code",
   "execution_count": 32,
   "metadata": {},
   "outputs": [
    {
     "data": {
      "image/png": "[encoded data removed]",
      "text/plain": [
       "<Figure size 360x360 with 1 Axes>"
      ]
     },
     "metadata": {
      "needs_background": "light"
     },
     "output_type": "display_data"
    }
   ],
   "source": [
    "import matplotlib.pyplot as plt\n",
    "import seaborn as sns   \n",
    "\n",
    "sns.catplot(x ='time', y ='casualties', data = pdf)\n",
    "plt.title('COVID-19 Casualities')\n",
    "plt.show() "
   ]
  },
  {
   "cell_type": "code",
   "execution_count": null,
   "metadata": {},
   "outputs": [],
   "source": []
  }
 ],
 "metadata": {
  "kernelspec": {
   "display_name": "Python 3",
   "language": "python",
   "name": "python3"
  },
  "language_info": {
   "codemirror_mode": {
    "name": "ipython",
    "version": 3
   },
   "file_extension": ".py",
   "mimetype": "text/x-python",
   "name": "python",
   "nbconvert_exporter": "python",
   "pygments_lexer": "ipython3",
   "version": "3.8.6"
  }
 },
 "nbformat": 4,
 "nbformat_minor": 2
}
