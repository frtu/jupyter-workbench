{
 "cells": [
  {
   "cell_type": "markdown",
   "metadata": {},
   "source": [
    "# PySpark\n",
    "\n",
    "## Init Engine"
   ]
  },
  {
   "cell_type": "code",
   "execution_count": 1,
   "metadata": {},
   "outputs": [
    {
     "data": {
      "text/plain": [
       "DataFrame[key: string, value: string]"
      ]
     },
     "execution_count": 1,
     "metadata": {},
     "output_type": "execute_result"
    }
   ],
   "source": [
    "from pyspark.sql import SparkSession\n",
    "\n",
    "spark = SparkSession.builder.appName('pyspark-covid').getOrCreate()\n",
    "#set timestamp\n",
    "spark.sql(\"set spark.sql.session.timeZone=UTC\")"
   ]
  },
  {
   "cell_type": "markdown",
   "metadata": {},
   "source": [
    "# Data loading"
   ]
  },
  {
   "cell_type": "markdown",
   "metadata": {},
   "source": [
    "## Create DataFrame from CSV file"
   ]
  },
  {
   "cell_type": "code",
   "execution_count": 2,
   "metadata": {
    "scrolled": true
   },
   "outputs": [
    {
     "name": "stdout",
     "output_type": "stream",
     "text": [
      "root\n",
      " |-- Province/State: string (nullable = true)\n",
      " |-- Country/Region: string (nullable = true)\n",
      " |-- Lat: double (nullable = true)\n",
      " |-- Long: double (nullable = true)\n",
      " |-- Date: string (nullable = true)\n",
      " |-- Value: integer (nullable = true)\n",
      " |-- ISO 3166-1 Alpha 3-Codes: string (nullable = true)\n",
      " |-- Region Code: integer (nullable = true)\n",
      " |-- Sub-region Code: integer (nullable = true)\n",
      " |-- Intermediate Region Code: integer (nullable = true)\n",
      "\n"
     ]
    }
   ],
   "source": [
    "df = spark.read. \\\n",
    "    option(\"header\", \"true\"). \\\n",
    "    option(\"inferSchema\", \"true\"). \\\n",
    "    option(\"delimiter\", \",\"). \\\n",
    "    option(\"escape\", \"\\\"\"). \\\n",
    "    csv(\"/data/time_series_covid19_deaths_global_narrow.csv\")\n",
    "    \n",
    "df.printSchema()"
   ]
  },
  {
   "cell_type": "markdown",
   "metadata": {},
   "source": [
    "## Normalize schema\n",
    "\n",
    "* Remove schema name from special char"
   ]
  },
  {
   "cell_type": "code",
   "execution_count": 3,
   "metadata": {},
   "outputs": [
    {
     "name": "stdout",
     "output_type": "stream",
     "text": [
      "root\n",
      " |-- province_state: string (nullable = true)\n",
      " |-- country_region: string (nullable = true)\n",
      " |-- Lat: double (nullable = true)\n",
      " |-- Long: double (nullable = true)\n",
      " |-- Date: string (nullable = true)\n",
      " |-- Value: integer (nullable = true)\n",
      " |-- iso_country_code: string (nullable = true)\n",
      " |-- region_code: integer (nullable = true)\n",
      " |-- sub_region_code: integer (nullable = true)\n",
      " |-- interm_region_code: integer (nullable = true)\n",
      "\n"
     ]
    }
   ],
   "source": [
    "normDf = df. \\\n",
    "    withColumnRenamed(\"ISO 3166-1 Alpha 3-Codes\", \"iso_country_code\"). \\\n",
    "    withColumnRenamed(\"Region Code\", \"region_code\"). \\\n",
    "    withColumnRenamed(\"Sub-region Code\", \"sub_region_code\"). \\\n",
    "    withColumnRenamed(\"Intermediate Region Code\", \"interm_region_code\"). \\\n",
    "    withColumnRenamed(\"Province/State\", \"province_state\"). \\\n",
    "    withColumnRenamed(\"Country/Region\", \"country_region\")\n",
    "\n",
    "normDf.printSchema()"
   ]
  },
  {
   "cell_type": "markdown",
   "metadata": {},
   "source": [
    "# Data cleaning\n",
    "\n",
    "## Sampling"
   ]
  },
  {
   "cell_type": "code",
   "execution_count": 4,
   "metadata": {},
   "outputs": [
    {
     "name": "stdout",
     "output_type": "stream",
     "text": [
      "+--------------+--------------+--------+---------+----------+-----+----------------+-----------+---------------+------------------+\n",
      "|province_state|country_region|Lat     |Long     |Date      |Value|iso_country_code|region_code|sub_region_code|interm_region_code|\n",
      "+--------------+--------------+--------+---------+----------+-----+----------------+-----------+---------------+------------------+\n",
      "|null          |Afghanistan   |33.93911|67.709953|2020-10-01|1458 |AFG             |142        |34             |null              |\n",
      "+--------------+--------------+--------+---------+----------+-----+----------------+-----------+---------------+------------------+\n",
      "only showing top 1 row\n",
      "\n"
     ]
    }
   ],
   "source": [
    "normDf.show(1, truncate=False)"
   ]
  },
  {
   "cell_type": "markdown",
   "metadata": {},
   "source": [
    "## Convert data type or value"
   ]
  },
  {
   "cell_type": "code",
   "execution_count": 5,
   "metadata": {},
   "outputs": [],
   "source": [
    "from pyspark.sql.functions import *\n",
    "from pyspark.sql.types import *"
   ]
  },
  {
   "cell_type": "markdown",
   "metadata": {},
   "source": [
    "#### Date & Timestamp"
   ]
  },
  {
   "cell_type": "code",
   "execution_count": 6,
   "metadata": {},
   "outputs": [
    {
     "name": "stdout",
     "output_type": "stream",
     "text": [
      "root\n",
      " |-- province_state: string (nullable = true)\n",
      " |-- country_region: string (nullable = true)\n",
      " |-- Lat: double (nullable = true)\n",
      " |-- Long: double (nullable = true)\n",
      " |-- Date: timestamp (nullable = true)\n",
      " |-- Value: integer (nullable = true)\n",
      " |-- iso_country_code: string (nullable = true)\n",
      " |-- region_code: integer (nullable = true)\n",
      " |-- sub_region_code: integer (nullable = true)\n",
      " |-- interm_region_code: integer (nullable = true)\n",
      "\n"
     ]
    }
   ],
   "source": [
    "normDf = normDf. \\\n",
    "    withColumn(\"Date\", col(\"Date\").cast(TimestampType()))\n",
    "\n",
    "normDf.printSchema()"
   ]
  },
  {
   "cell_type": "markdown",
   "metadata": {},
   "source": [
    "#### UDF - Custom transformation"
   ]
  },
  {
   "cell_type": "code",
   "execution_count": 7,
   "metadata": {},
   "outputs": [
    {
     "name": "stdout",
     "output_type": "stream",
     "text": [
      "convert value : AFG\n",
      "afg\n"
     ]
    }
   ],
   "source": [
    "def convert(str, debug=False):\n",
    "    if (debug):\n",
    "        print(\"convert value :\", str)\n",
    "    if str is None:\n",
    "        return None\n",
    "    return str.lower() \n",
    "\n",
    "convertUDF = udf(lambda str: convert(str), StringType())\n",
    "\n",
    "print(convert(\"AFG\", True))"
   ]
  },
  {
   "cell_type": "code",
   "execution_count": 8,
   "metadata": {},
   "outputs": [
    {
     "name": "stdout",
     "output_type": "stream",
     "text": [
      "+--------------+--------------+--------+---------+----------+-----+----------------+-----------+---------------+------------------+\n",
      "|province_state|country_region|Lat     |Long     |Date      |Value|iso_country_code|region_code|sub_region_code|interm_region_code|\n",
      "+--------------+--------------+--------+---------+----------+-----+----------------+-----------+---------------+------------------+\n",
      "|null          |Afghanistan   |33.93911|67.709953|2020-10-01|1458 |afg             |142        |34             |null              |\n",
      "+--------------+--------------+--------+---------+----------+-----+----------------+-----------+---------------+------------------+\n",
      "only showing top 1 row\n",
      "\n"
     ]
    }
   ],
   "source": [
    "normDf. \\\n",
    "    withColumn(\"iso_country_code\", convertUDF(col(\"iso_country_code\"))). \\\n",
    "    show(1, truncate=False)"
   ]
  },
  {
   "cell_type": "markdown",
   "metadata": {},
   "source": [
    "## DataSet Validation\n",
    "### Check overall values"
   ]
  },
  {
   "cell_type": "code",
   "execution_count": 9,
   "metadata": {},
   "outputs": [
    {
     "name": "stdout",
     "output_type": "stream",
     "text": [
      "+-------------------+\n",
      "|sum(sum_casualties)|\n",
      "+-------------------+\n",
      "|98961992           |\n",
      "+-------------------+\n",
      "\n"
     ]
    }
   ],
   "source": [
    "from pyspark.sql.functions import sum, col, desc\n",
    "\n",
    "column = \"sum_casualties\"\n",
    "\n",
    "isoDF = normDf. \\\n",
    "    groupBy(col(\"iso_country_code\")). \\\n",
    "    agg(sum(\"Value\").alias(column)). \\\n",
    "    orderBy(desc(column))\n",
    "\n",
    "isoDF.agg(sum(column)). \\\n",
    "    show(truncate=False)"
   ]
  },
  {
   "cell_type": "markdown",
   "metadata": {},
   "source": [
    "### Column analysis"
   ]
  },
  {
   "cell_type": "markdown",
   "metadata": {},
   "source": [
    "#### Numeric values"
   ]
  },
  {
   "cell_type": "code",
   "execution_count": 10,
   "metadata": {},
   "outputs": [
    {
     "name": "stdout",
     "output_type": "stream",
     "text": [
      "+----------+-----------------+-----------------+--------+--------+------------------+\n",
      "|count(Lat)|         avg(Lat)| stddev_samp(Lat)|min(Lat)|max(Lat)|          sum(Lat)|\n",
      "+----------+-----------------+-----------------+--------+--------+------------------+\n",
      "|     67564|21.07662424812158|24.85792699104551|-51.7963| 71.7069|1424021.0407000864|\n",
      "+----------+-----------------+-----------------+--------+--------+------------------+\n",
      "\n"
     ]
    }
   ],
   "source": [
    "from pyspark.sql.functions import count, mean, stddev, min, max, sum\n",
    "\n",
    "normDf.agg(count(\"Lat\"), mean(\"Lat\"), stddev(\"Lat\"), min(\"Lat\"), max(\"Lat\"), sum(\"Lat\")).show()"
   ]
  },
  {
   "cell_type": "markdown",
   "metadata": {},
   "source": [
    "#### String values"
   ]
  },
  {
   "cell_type": "code",
   "execution_count": 11,
   "metadata": {},
   "outputs": [
    {
     "name": "stdout",
     "output_type": "stream",
     "text": [
      "266\n"
     ]
    }
   ],
   "source": [
    "from pyspark.sql.functions import col\n",
    "\n",
    "distinctValuesDF = normDf. \\\n",
    "    select(col(\"iso_country_code\"), col(\"country_region\"), col(\"province_state\"), col(\"Lat\"), col(\"Long\")). \\\n",
    "    distinct()\n",
    "\n",
    "print(distinctValuesDF.count())"
   ]
  },
  {
   "cell_type": "code",
   "execution_count": 12,
   "metadata": {},
   "outputs": [
    {
     "name": "stdout",
     "output_type": "stream",
     "text": [
      "+----------------+-----+\n",
      "|iso_country_code|count|\n",
      "+----------------+-----+\n",
      "|             CHN|   31|\n",
      "|             CAN|   12|\n",
      "|             AUS|    8|\n",
      "|            null|    5|\n",
      "|             SPM|    1|\n",
      "|             ABW|    1|\n",
      "|             BRB|    1|\n",
      "|             COD|    1|\n",
      "|             LVA|    1|\n",
      "|             HTI|    1|\n",
      "|             PSE|    1|\n",
      "|             BRA|    1|\n",
      "|             ARM|    1|\n",
      "|             JOR|    1|\n",
      "|             CUB|    1|\n",
      "|             MOZ|    1|\n",
      "|             SOM|    1|\n",
      "|             FRA|    1|\n",
      "|             BRN|    1|\n",
      "|             TCA|    1|\n",
      "+----------------+-----+\n",
      "only showing top 20 rows\n",
      "\n"
     ]
    }
   ],
   "source": [
    "from pyspark.sql.functions import desc\n",
    "\n",
    "distinctValuesDF.groupBy(\"iso_country_code\").count().orderBy(desc(\"count\")).show()"
   ]
  },
  {
   "cell_type": "code",
   "execution_count": 13,
   "metadata": {},
   "outputs": [
    {
     "name": "stdout",
     "output_type": "stream",
     "text": [
      "+----------------+----------------+----------------+-------+-------+\n",
      "|iso_country_code|  country_region|  province_state|    Lat|   Long|\n",
      "+----------------+----------------+----------------+-------+-------+\n",
      "|            null|          Canada|  Grand Princess|    0.0|    0.0|\n",
      "|            null|      MS Zaandam|            null|    0.0|    0.0|\n",
      "|            null|          Canada|Diamond Princess|    0.0|    0.0|\n",
      "|            null|  United Kingdom| Channel Islands|49.3723|-2.3644|\n",
      "|            null|Diamond Princess|            null|    0.0|    0.0|\n",
      "+----------------+----------------+----------------+-------+-------+\n",
      "\n"
     ]
    }
   ],
   "source": [
    "distinctValuesDF.where(\"iso_country_code is null\").show()"
   ]
  },
  {
   "cell_type": "code",
   "execution_count": 14,
   "metadata": {},
   "outputs": [
    {
     "name": "stdout",
     "output_type": "stream",
     "text": [
      "+----------------+--------------+--------------+------------------+------------------+\n",
      "|iso_country_code|country_region|province_state|               Lat|              Long|\n",
      "+----------------+--------------+--------------+------------------+------------------+\n",
      "|             CHN|         China|       Qinghai|           35.7452|           95.9956|\n",
      "|             CHN|         China|       Ningxia|           37.2692|          106.1655|\n",
      "|             CHN|         China|      Xinjiang|           41.1129|           85.2401|\n",
      "|             CHN|         China|      Shandong|           36.3427|          118.1498|\n",
      "|             CHN|         China|       Guangxi|           23.8298|          108.7881|\n",
      "|             CHN|         China|         Gansu|           35.7518|          104.2861|\n",
      "|             CHN|         China|       Jiangsu|           32.9711|           119.455|\n",
      "|             CHN|         China|         Henan|           37.8957|          114.9042|\n",
      "|             CHN|         China|         Tibet|           31.6927|           88.0924|\n",
      "|             CHN|         China|      Shanghai|31.201999999999998|          121.4491|\n",
      "|             CHN|         China|        Yunnan|            24.974|101.48700000000001|\n",
      "|             CHN|         China|        Fujian|           26.0789|          117.9874|\n",
      "|             CHN|         China|       Sichuan|           30.6171|          102.7103|\n",
      "|             CHN|         China|         Hebei|            39.549|          116.1306|\n",
      "|             CHN|         China|       Shaanxi|           35.1917|          108.8701|\n",
      "|             CHN|         China|Inner Mongolia|           44.0935|          113.9448|\n",
      "|             CHN|         China|         Jilin|           43.6661|          126.1923|\n",
      "|             CHN|         China|         Hunan|           27.6104|          111.7088|\n",
      "|             CHN|         China|     Chongqing|           30.0572|           107.874|\n",
      "|             CHN|         China|         Hubei|           30.9756|          112.2707|\n",
      "+----------------+--------------+--------------+------------------+------------------+\n",
      "only showing top 20 rows\n",
      "\n"
     ]
    }
   ],
   "source": [
    "from pyspark.sql.functions import col\n",
    "\n",
    "distinctValuesDF.where(col(\"iso_country_code\") == \"CHN\").show()"
   ]
  },
  {
   "cell_type": "markdown",
   "metadata": {},
   "source": [
    "#### Date values"
   ]
  },
  {
   "cell_type": "code",
   "execution_count": 15,
   "metadata": {
    "scrolled": true
   },
   "outputs": [
    {
     "name": "stdout",
     "output_type": "stream",
     "text": [
      "+----------------+--------------+\n",
      "|start_date_range|end_date_range|\n",
      "+----------------+--------------+\n",
      "|2020-01-22      |2020-10-01    |\n",
      "+----------------+--------------+\n",
      "\n"
     ]
    }
   ],
   "source": [
    "from pyspark.sql.functions import min, max\n",
    "\n",
    "column = \"Date\"\n",
    "normDf.agg(min(column).alias(\"start_date_range\"), max(column).alias(\"end_date_range\")).show(truncate=False)"
   ]
  },
  {
   "cell_type": "markdown",
   "metadata": {},
   "source": [
    "## Understand distribution\n",
    "### Parent child columns"
   ]
  },
  {
   "cell_type": "code",
   "execution_count": 16,
   "metadata": {},
   "outputs": [
    {
     "name": "stdout",
     "output_type": "stream",
     "text": [
      "+----------------+-----+\n",
      "|iso_country_code|count|\n",
      "+----------------+-----+\n",
      "|             HTI|    1|\n",
      "|             PSE|    1|\n",
      "|             BRB|    1|\n",
      "|             POL|    1|\n",
      "|             LVA|    1|\n",
      "|             ZMB|    1|\n",
      "|             JAM|    1|\n",
      "|             SPM|    1|\n",
      "|             BRA|    1|\n",
      "|             ARM|    1|\n",
      "|             MOZ|    1|\n",
      "|             JOR|    1|\n",
      "|             CUB|    1|\n",
      "|             SOM|    1|\n",
      "|             FRA|    1|\n",
      "|             ABW|    1|\n",
      "|             TCA|    1|\n",
      "|             COD|    1|\n",
      "|             BRN|    1|\n",
      "|             BOL|    1|\n",
      "+----------------+-----+\n",
      "only showing top 20 rows\n",
      "\n"
     ]
    }
   ],
   "source": [
    "distinctValuesDF.groupBy(col(\"iso_country_code\")).count().show()"
   ]
  },
  {
   "cell_type": "code",
   "execution_count": 17,
   "metadata": {},
   "outputs": [
    {
     "name": "stdout",
     "output_type": "stream",
     "text": [
      "+----------------+-----+\n",
      "|iso_country_code|count|\n",
      "+----------------+-----+\n",
      "|             CHN|   31|\n",
      "|             CAN|   12|\n",
      "|             AUS|    8|\n",
      "|            null|    5|\n",
      "|             SPM|    1|\n",
      "|             ABW|    1|\n",
      "|             LVA|    1|\n",
      "|             COD|    1|\n",
      "|             PSE|    1|\n",
      "|             ZMB|    1|\n",
      "|             JAM|    1|\n",
      "|             BRA|    1|\n",
      "|             ARM|    1|\n",
      "|             MOZ|    1|\n",
      "|             JOR|    1|\n",
      "|             CUB|    1|\n",
      "|             SOM|    1|\n",
      "|             FRA|    1|\n",
      "|             BRN|    1|\n",
      "|             TCA|    1|\n",
      "+----------------+-----+\n",
      "only showing top 20 rows\n",
      "\n"
     ]
    }
   ],
   "source": [
    "distinctValuesDF.groupBy(col(\"iso_country_code\")). \\\n",
    "    count(). \\\n",
    "    orderBy(desc(\"count\")). \\\n",
    "    show()"
   ]
  },
  {
   "cell_type": "code",
   "execution_count": 7,
   "metadata": {
    "scrolled": true
   },
   "outputs": [
    {
     "name": "stdout",
     "output_type": "stream",
     "text": [
      "+----------------+--------------+-----+-------------------------------------------------------------------------------------------------------------------------------------------------------------------------------------------------------------------------------------------------------------------------------------------------------------------------------------------------------------------------------------------------------------------------------------------------------------------------------------------------------------------------------------+----------------------------------------------------------------------------------------------------------------------------------------------------------------------------------------------------------------------------------------------------------------------------------------+\n",
      "|iso_country_code|country_region|count|value_list                                                                                                                                                                                                                                                                                                                                                                                                                                                                                                                           |contained_province                                                                                                                                                                                                                                                                      |\n",
      "+----------------+--------------+-----+-------------------------------------------------------------------------------------------------------------------------------------------------------------------------------------------------------------------------------------------------------------------------------------------------------------------------------------------------------------------------------------------------------------------------------------------------------------------------------------------------------------------------------------+----------------------------------------------------------------------------------------------------------------------------------------------------------------------------------------------------------------------------------------------------------------------------------------+\n",
      "|CHN             |China         |31   |[0.8385826771653543, 0.0, 1.484251968503937, 2.47244094488189, 0.0, 5.688976377952756, 2.7755905511811023, 5.547244094488189, 20.0, 3.645669291338583, 2.645669291338583, 7.090551181102362, 0.8858267716535433, 1.688976377952756, 0.0, 1.8425196850393701, 6.161417322834645, 1.8622047244094488, 5.5236220472440944, 1.8385826771653544, 0.0, 5.496062992125984, 0.9251968503937008, 3739.0708661417325, 0.8858267716535433, 5.468503937007874, 12.023622047244094, 1.7755905511811023, 7.783464566929134, 2.779527559055118, 0.0]|[Inner Mongolia, Jilin, Fujian, Yunnan, Heilongjiang, Hebei, Hubei, Tianjin, Liaoning, Hunan, Chongqing, Ningxia, Shanghai, Guangdong, Zhejiang, Shandong, Qinghai, Guangxi, Tibet, Anhui, Shaanxi, Hainan, Guizhou, Gansu, Jiangsu, Beijing, Jiangxi, Sichuan, Xinjiang, Shanxi, Henan]|\n",
      "|CAN             |Canada        |12   |[2.1141732283464565, 0.003937007874015748, 116.96456692913385, 1634.1889763779527, 3203.196850393701, 38.01968503937008, 120.1259842519685, 0.9094488188976378, 10.248031496062993, 6.389763779527559, 0.0, 0.0]                                                                                                                                                                                                                                                                                                                     |[Northwest Territories, Newfoundland and Labrador, Manitoba, New Brunswick, Yukon, Quebec, British Columbia, Alberta, Prince Edward Island, Ontario, Nova Scotia, Saskatchewan]                                                                                                         |\n",
      "|AUS             |Australia     |8    |[4.291338582677166, 141.49606299212599, 33.32283464566929, 8.606299212598426, 6.2952755905511815, 2.1141732283464565, 0.0, 2.7716535433070866]                                                                                                                                                                                                                                                                                                                                                                                       |[Queensland, New South Wales, Northern Territory, Victoria, Western Australia, Australian Capital Territory, South Australia, Tasmania]                                                                                                                                                 |\n",
      "+----------------+--------------+-----+-------------------------------------------------------------------------------------------------------------------------------------------------------------------------------------------------------------------------------------------------------------------------------------------------------------------------------------------------------------------------------------------------------------------------------------------------------------------------------------------------------------------------------------+----------------------------------------------------------------------------------------------------------------------------------------------------------------------------------------------------------------------------------------------------------------------------------------+\n",
      "\n"
     ]
    }
   ],
   "source": [
    "from pyspark.sql.functions import col, count, collect_set\n",
    "\n",
    "regionDf = normDf.where(\"province_state IS NOT NULL\"). \\\n",
    "    groupBy(\"iso_country_code\", \"country_region\", \"province_state\"). \\\n",
    "        agg(avg(\"Value\").alias(\"avg_val\")).\\\n",
    "    groupBy(\"iso_country_code\", \"country_region\"). \\\n",
    "        agg( \\\n",
    "            count(\"province_state\").alias(\"count\"), \\\n",
    "            # Collect all values\n",
    "            collect_list(\"avg_val\").alias(\"value_list\"), \\\n",
    "            # Collect all distinct values\n",
    "            collect_set(\"province_state\").alias(\"contained_province\") \\\n",
    "        ). \\\n",
    "    where(col(\"count\") > 1). \\\n",
    "    where(\"iso_country_code IS NOT NULL\"). \\\n",
    "    orderBy(desc(\"count\"))\n",
    "\n",
    "regionDf. \\\n",
    "    show(truncate=False)"
   ]
  },
  {
   "cell_type": "markdown",
   "metadata": {},
   "source": [
    "### Distribution By Time Window"
   ]
  },
  {
   "cell_type": "code",
   "execution_count": 19,
   "metadata": {},
   "outputs": [
    {
     "name": "stdout",
     "output_type": "stream",
     "text": [
      "+----------------+----------------------+--------------------------------+------------------------------------------+----------+\n",
      "|iso_country_code|country_region        |province_state                  |window                                    |casualties|\n",
      "+----------------+----------------------+--------------------------------+------------------------------------------+----------+\n",
      "|SGP             |Singapore             |null                            |[2020-10-01 00:00:00, 2020-10-02 00:00:00]|27        |\n",
      "|ITA             |Italy                 |null                            |[2020-10-01 00:00:00, 2020-10-02 00:00:00]|35918     |\n",
      "|MYS             |Malaysia              |null                            |[2020-10-01 00:00:00, 2020-10-02 00:00:00]|136       |\n",
      "|MMR             |Burma                 |null                            |[2020-10-01 00:00:00, 2020-10-02 00:00:00]|321       |\n",
      "|CZE             |Czechia               |null                            |[2020-10-01 00:00:00, 2020-10-02 00:00:00]|678       |\n",
      "|BIH             |Bosnia and Herzegovina|null                            |[2020-10-01 00:00:00, 2020-10-02 00:00:00]|861       |\n",
      "|CHN             |China                 |Guizhou                         |[2020-10-01 00:00:00, 2020-10-02 00:00:00]|2         |\n",
      "|BRN             |Brunei                |null                            |[2020-10-01 00:00:00, 2020-10-02 00:00:00]|3         |\n",
      "|GRC             |Greece                |null                            |[2020-10-01 00:00:00, 2020-10-02 00:00:00]|393       |\n",
      "|SVK             |Slovakia              |null                            |[2020-10-01 00:00:00, 2020-10-02 00:00:00]|48        |\n",
      "|VEN             |Venezuela             |null                            |[2020-10-01 00:00:00, 2020-10-02 00:00:00]|635       |\n",
      "|FRO             |Denmark               |Faroe Islands                   |[2020-10-01 00:00:00, 2020-10-02 00:00:00]|0         |\n",
      "|BES             |Netherlands           |Bonaire, Sint Eustatius and Saba|[2020-10-01 00:00:00, 2020-10-02 00:00:00]|1         |\n",
      "|BRA             |Brazil                |null                            |[2020-10-01 00:00:00, 2020-10-02 00:00:00]|144680    |\n",
      "|RWA             |Rwanda                |null                            |[2020-10-01 00:00:00, 2020-10-02 00:00:00]|29        |\n",
      "|TUR             |Turkey                |null                            |[2020-10-01 00:00:00, 2020-10-02 00:00:00]|8262      |\n",
      "|GIN             |Guinea                |null                            |[2020-10-01 00:00:00, 2020-10-02 00:00:00]|66        |\n",
      "|MCO             |Monaco                |null                            |[2020-10-01 00:00:00, 2020-10-02 00:00:00]|2         |\n",
      "|CIV             |Cote d'Ivoire         |null                            |[2020-10-01 00:00:00, 2020-10-02 00:00:00]|120       |\n",
      "|CHN             |China                 |Guangdong                       |[2020-10-01 00:00:00, 2020-10-02 00:00:00]|8         |\n",
      "+----------------+----------------------+--------------------------------+------------------------------------------+----------+\n",
      "only showing top 20 rows\n",
      "\n"
     ]
    }
   ],
   "source": [
    "from pyspark.sql.functions import col, sum, desc, window\n",
    "\n",
    "tsDF = normDf. \\\n",
    "    groupBy(col(\"iso_country_code\"), col(\"country_region\"), col(\"province_state\"), window(col(\"Date\"), \"1 day\")). \\\n",
    "    agg(sum(\"Value\").alias(\"casualties\")). \\\n",
    "    orderBy(desc(\"window.start\"))\n",
    "\n",
    "tsDF. \\\n",
    "    show(truncate=False)"
   ]
  },
  {
   "cell_type": "markdown",
   "metadata": {},
   "source": [
    "#### Window value stats"
   ]
  },
  {
   "cell_type": "code",
   "execution_count": 20,
   "metadata": {},
   "outputs": [
    {
     "name": "stdout",
     "output_type": "stream",
     "text": [
      "+-------------------+-------------------+\n",
      "|start_date_range   |end_date_range     |\n",
      "+-------------------+-------------------+\n",
      "|2020-01-22 00:00:00|2020-10-01 00:00:00|\n",
      "+-------------------+-------------------+\n",
      "\n"
     ]
    }
   ],
   "source": [
    "column = \"window.start\"\n",
    "tsDF.agg(min(column).alias(\"start_date_range\"), max(column).alias(\"end_date_range\")).show(truncate=False)"
   ]
  },
  {
   "cell_type": "markdown",
   "metadata": {},
   "source": [
    "### Data preparation & ordering"
   ]
  },
  {
   "cell_type": "code",
   "execution_count": 21,
   "metadata": {},
   "outputs": [
    {
     "name": "stdout",
     "output_type": "stream",
     "text": [
      "+----------------+--------------+--------------+-------------------+-------------------+----------+\n",
      "|iso_country_code|country_region|province_state|start              |end                |casualties|\n",
      "+----------------+--------------+--------------+-------------------+-------------------+----------+\n",
      "|null            |Canada        |Grand Princess|2020-01-22 00:00:00|2020-01-23 00:00:00|0         |\n",
      "+----------------+--------------+--------------+-------------------+-------------------+----------+\n",
      "only showing top 1 row\n",
      "\n"
     ]
    }
   ],
   "source": [
    "storedDF = tsDF.select(\"iso_country_code\", \"country_region\", \"province_state\", \"window.start\", \"window.end\", \"casualties\"). \\\n",
    "    na.fill(\"unknown\", subset=[\"country_region\", \"province_state\"]). \\\n",
    "    orderBy(\"iso_country_code\", \"start\")\n",
    "\n",
    "storedDF.show(1, truncate=False)"
   ]
  },
  {
   "cell_type": "markdown",
   "metadata": {},
   "source": [
    "## Exporting"
   ]
  },
  {
   "cell_type": "markdown",
   "metadata": {},
   "source": [
    "### Persist to CSV file"
   ]
  },
  {
   "cell_type": "code",
   "execution_count": 22,
   "metadata": {},
   "outputs": [],
   "source": [
    "storedDF.coalesce(1). \\\n",
    "    write.mode('overwrite'). \\\n",
    "    option(\"mapreduce.fileoutputcommitter.marksuccessfuljobs\",\"false\"). \\\n",
    "    option(\"header\",\"true\"). \\\n",
    "    csv(\"/data/covid-19-by-country.csv\")"
   ]
  },
  {
   "cell_type": "markdown",
   "metadata": {},
   "source": [
    "### Save data into Table"
   ]
  },
  {
   "cell_type": "code",
   "execution_count": 23,
   "metadata": {},
   "outputs": [],
   "source": [
    "storedDF. \\\n",
    "    write.mode(\"overwrite\"). \\\n",
    "    saveAsTable(\"data\")"
   ]
  },
  {
   "cell_type": "markdown",
   "metadata": {},
   "source": [
    "### Export dataframe using .toPandas()"
   ]
  },
  {
   "cell_type": "code",
   "execution_count": 8,
   "metadata": {},
   "outputs": [],
   "source": [
    "pandaDf = regionDf.select(\"count\", \"country_region\", \"contained_province\", \"value_list\").toPandas()"
   ]
  },
  {
   "cell_type": "code",
   "execution_count": 9,
   "metadata": {},
   "outputs": [
    {
     "data": {
      "text/html": [
       "<div>\n",
       "<style scoped>\n",
       "    .dataframe tbody tr th:only-of-type {\n",
       "        vertical-align: middle;\n",
       "    }\n",
       "\n",
       "    .dataframe tbody tr th {\n",
       "        vertical-align: top;\n",
       "    }\n",
       "\n",
       "    .dataframe thead th {\n",
       "        text-align: right;\n",
       "    }\n",
       "</style>\n",
       "<table border=\"1\" class=\"dataframe\">\n",
       "  <thead>\n",
       "    <tr style=\"text-align: right;\">\n",
       "      <th></th>\n",
       "      <th>count</th>\n",
       "      <th>country_region</th>\n",
       "      <th>contained_province</th>\n",
       "      <th>value_list</th>\n",
       "    </tr>\n",
       "  </thead>\n",
       "  <tbody>\n",
       "    <tr>\n",
       "      <th>0</th>\n",
       "      <td>31</td>\n",
       "      <td>China</td>\n",
       "      <td>[Inner Mongolia, Jilin, Fujian, Yunnan, Heilon...</td>\n",
       "      <td>[0.8385826771653543, 0.0, 1.484251968503937, 2...</td>\n",
       "    </tr>\n",
       "    <tr>\n",
       "      <th>1</th>\n",
       "      <td>12</td>\n",
       "      <td>Canada</td>\n",
       "      <td>[Northwest Territories, Newfoundland and Labra...</td>\n",
       "      <td>[2.1141732283464565, 0.003937007874015748, 116...</td>\n",
       "    </tr>\n",
       "    <tr>\n",
       "      <th>2</th>\n",
       "      <td>8</td>\n",
       "      <td>Australia</td>\n",
       "      <td>[Queensland, New South Wales, Northern Territo...</td>\n",
       "      <td>[4.291338582677166, 141.49606299212599, 33.322...</td>\n",
       "    </tr>\n",
       "  </tbody>\n",
       "</table>\n",
       "</div>"
      ],
      "text/plain": [
       "   count country_region                                 contained_province  \\\n",
       "0     31          China  [Inner Mongolia, Jilin, Fujian, Yunnan, Heilon...   \n",
       "1     12         Canada  [Northwest Territories, Newfoundland and Labra...   \n",
       "2      8      Australia  [Queensland, New South Wales, Northern Territo...   \n",
       "\n",
       "                                          value_list  \n",
       "0  [0.8385826771653543, 0.0, 1.484251968503937, 2...  \n",
       "1  [2.1141732283464565, 0.003937007874015748, 116...  \n",
       "2  [4.291338582677166, 141.49606299212599, 33.322...  "
      ]
     },
     "execution_count": 9,
     "metadata": {},
     "output_type": "execute_result"
    }
   ],
   "source": [
    "pandaDf.head()"
   ]
  },
  {
   "cell_type": "markdown",
   "metadata": {},
   "source": [
    "# Tables"
   ]
  },
  {
   "cell_type": "code",
   "execution_count": 26,
   "metadata": {},
   "outputs": [
    {
     "name": "stdout",
     "output_type": "stream",
     "text": [
      "+---------+\n",
      "|namespace|\n",
      "+---------+\n",
      "|  default|\n",
      "+---------+\n",
      "\n"
     ]
    }
   ],
   "source": [
    "spark.sql(\"SHOW DATABASES\").show()"
   ]
  },
  {
   "cell_type": "code",
   "execution_count": 27,
   "metadata": {},
   "outputs": [
    {
     "data": {
      "text/plain": [
       "[Table(name='data', database='default', description=None, tableType='MANAGED', isTemporary=False)]"
      ]
     },
     "execution_count": 27,
     "metadata": {},
     "output_type": "execute_result"
    }
   ],
   "source": [
    "spark.catalog.listTables(\"default\")"
   ]
  },
  {
   "cell_type": "markdown",
   "metadata": {},
   "source": [
    "### SparkSQL - Data query"
   ]
  },
  {
   "cell_type": "code",
   "execution_count": null,
   "metadata": {},
   "outputs": [],
   "source": [
    "pdf = spark.sql(\"SELECT start as time, iso_country_code, casualties \\\n",
    "FROM data \\\n",
    "WHERE iso_country_code = 'FRA' \\\n",
    "ORDER BY time\").toPandas()\n",
    "\n",
    "pdf"
   ]
  },
  {
   "cell_type": "markdown",
   "metadata": {},
   "source": [
    "# Visualization"
   ]
  },
  {
   "cell_type": "markdown",
   "metadata": {},
   "source": [
    "## matplotlib"
   ]
  },
  {
   "cell_type": "code",
   "execution_count": null,
   "metadata": {},
   "outputs": [],
   "source": [
    "import sys  \n",
    "!{sys.executable} -m pip install --user matplotlib"
   ]
  },
  {
   "cell_type": "markdown",
   "metadata": {},
   "source": [
    "### Single plot"
   ]
  },
  {
   "cell_type": "code",
   "execution_count": null,
   "metadata": {},
   "outputs": [],
   "source": [
    "%matplotlib inline\n",
    "\n",
    "import matplotlib.pyplot as plt\n",
    "import numpy as np\n",
    "\n",
    "plt.plot(pdf['time'], pdf['casualties'], color='red')\n",
    "plt.gcf().autofmt_xdate()\n",
    "plt.show()"
   ]
  },
  {
   "cell_type": "markdown",
   "metadata": {},
   "source": [
    "### Multiline plot"
   ]
  },
  {
   "cell_type": "code",
   "execution_count": null,
   "metadata": {},
   "outputs": [],
   "source": [
    "fig, ax = plt.subplots()\n",
    "for country in pdf['iso_country_code']:\n",
    "    dataframe = pdf.loc[pdf['iso_country_code'] == country]\n",
    "    ax.plot(dataframe['time'], dataframe['casualties'], label=country)\n",
    "\n",
    "ax.set_title('Casualties per country')\n",
    "ax.legend(loc='upper right')"
   ]
  },
  {
   "cell_type": "markdown",
   "metadata": {},
   "source": [
    "### Box plot"
   ]
  },
  {
   "cell_type": "code",
   "execution_count": 10,
   "metadata": {},
   "outputs": [
    {
     "name": "stdout",
     "output_type": "stream",
     "text": [
      "(31,)\n",
      "(12,)\n",
      "(8,)\n"
     ]
    },
    {
     "data": {
      "text/html": [
       "<div>\n",
       "<style scoped>\n",
       "    .dataframe tbody tr th:only-of-type {\n",
       "        vertical-align: middle;\n",
       "    }\n",
       "\n",
       "    .dataframe tbody tr th {\n",
       "        vertical-align: top;\n",
       "    }\n",
       "\n",
       "    .dataframe thead th {\n",
       "        text-align: right;\n",
       "    }\n",
       "</style>\n",
       "<table border=\"1\" class=\"dataframe\">\n",
       "  <thead>\n",
       "    <tr style=\"text-align: right;\">\n",
       "      <th></th>\n",
       "      <th>Australia</th>\n",
       "      <th>Canada</th>\n",
       "      <th>China</th>\n",
       "    </tr>\n",
       "  </thead>\n",
       "  <tbody>\n",
       "    <tr>\n",
       "      <th>0</th>\n",
       "      <td>4.291339</td>\n",
       "      <td>2.114173</td>\n",
       "      <td>0.838583</td>\n",
       "    </tr>\n",
       "    <tr>\n",
       "      <th>1</th>\n",
       "      <td>141.496063</td>\n",
       "      <td>0.003937</td>\n",
       "      <td>0.000000</td>\n",
       "    </tr>\n",
       "    <tr>\n",
       "      <th>2</th>\n",
       "      <td>33.322835</td>\n",
       "      <td>116.964567</td>\n",
       "      <td>1.484252</td>\n",
       "    </tr>\n",
       "    <tr>\n",
       "      <th>3</th>\n",
       "      <td>8.606299</td>\n",
       "      <td>1634.188976</td>\n",
       "      <td>2.472441</td>\n",
       "    </tr>\n",
       "    <tr>\n",
       "      <th>4</th>\n",
       "      <td>6.295276</td>\n",
       "      <td>3203.196850</td>\n",
       "      <td>0.000000</td>\n",
       "    </tr>\n",
       "    <tr>\n",
       "      <th>5</th>\n",
       "      <td>2.114173</td>\n",
       "      <td>38.019685</td>\n",
       "      <td>5.688976</td>\n",
       "    </tr>\n",
       "    <tr>\n",
       "      <th>6</th>\n",
       "      <td>0.000000</td>\n",
       "      <td>120.125984</td>\n",
       "      <td>2.775591</td>\n",
       "    </tr>\n",
       "    <tr>\n",
       "      <th>7</th>\n",
       "      <td>2.771654</td>\n",
       "      <td>0.909449</td>\n",
       "      <td>5.547244</td>\n",
       "    </tr>\n",
       "    <tr>\n",
       "      <th>8</th>\n",
       "      <td>NaN</td>\n",
       "      <td>10.248031</td>\n",
       "      <td>20.000000</td>\n",
       "    </tr>\n",
       "    <tr>\n",
       "      <th>9</th>\n",
       "      <td>NaN</td>\n",
       "      <td>6.389764</td>\n",
       "      <td>3.645669</td>\n",
       "    </tr>\n",
       "    <tr>\n",
       "      <th>10</th>\n",
       "      <td>NaN</td>\n",
       "      <td>0.000000</td>\n",
       "      <td>2.645669</td>\n",
       "    </tr>\n",
       "    <tr>\n",
       "      <th>11</th>\n",
       "      <td>NaN</td>\n",
       "      <td>0.000000</td>\n",
       "      <td>7.090551</td>\n",
       "    </tr>\n",
       "    <tr>\n",
       "      <th>12</th>\n",
       "      <td>NaN</td>\n",
       "      <td>NaN</td>\n",
       "      <td>0.885827</td>\n",
       "    </tr>\n",
       "    <tr>\n",
       "      <th>13</th>\n",
       "      <td>NaN</td>\n",
       "      <td>NaN</td>\n",
       "      <td>1.688976</td>\n",
       "    </tr>\n",
       "    <tr>\n",
       "      <th>14</th>\n",
       "      <td>NaN</td>\n",
       "      <td>NaN</td>\n",
       "      <td>0.000000</td>\n",
       "    </tr>\n",
       "    <tr>\n",
       "      <th>15</th>\n",
       "      <td>NaN</td>\n",
       "      <td>NaN</td>\n",
       "      <td>1.842520</td>\n",
       "    </tr>\n",
       "    <tr>\n",
       "      <th>16</th>\n",
       "      <td>NaN</td>\n",
       "      <td>NaN</td>\n",
       "      <td>6.161417</td>\n",
       "    </tr>\n",
       "    <tr>\n",
       "      <th>17</th>\n",
       "      <td>NaN</td>\n",
       "      <td>NaN</td>\n",
       "      <td>1.862205</td>\n",
       "    </tr>\n",
       "    <tr>\n",
       "      <th>18</th>\n",
       "      <td>NaN</td>\n",
       "      <td>NaN</td>\n",
       "      <td>5.523622</td>\n",
       "    </tr>\n",
       "    <tr>\n",
       "      <th>19</th>\n",
       "      <td>NaN</td>\n",
       "      <td>NaN</td>\n",
       "      <td>1.838583</td>\n",
       "    </tr>\n",
       "    <tr>\n",
       "      <th>20</th>\n",
       "      <td>NaN</td>\n",
       "      <td>NaN</td>\n",
       "      <td>0.000000</td>\n",
       "    </tr>\n",
       "    <tr>\n",
       "      <th>21</th>\n",
       "      <td>NaN</td>\n",
       "      <td>NaN</td>\n",
       "      <td>5.496063</td>\n",
       "    </tr>\n",
       "    <tr>\n",
       "      <th>22</th>\n",
       "      <td>NaN</td>\n",
       "      <td>NaN</td>\n",
       "      <td>0.925197</td>\n",
       "    </tr>\n",
       "    <tr>\n",
       "      <th>23</th>\n",
       "      <td>NaN</td>\n",
       "      <td>NaN</td>\n",
       "      <td>3739.070866</td>\n",
       "    </tr>\n",
       "    <tr>\n",
       "      <th>24</th>\n",
       "      <td>NaN</td>\n",
       "      <td>NaN</td>\n",
       "      <td>0.885827</td>\n",
       "    </tr>\n",
       "    <tr>\n",
       "      <th>25</th>\n",
       "      <td>NaN</td>\n",
       "      <td>NaN</td>\n",
       "      <td>5.468504</td>\n",
       "    </tr>\n",
       "    <tr>\n",
       "      <th>26</th>\n",
       "      <td>NaN</td>\n",
       "      <td>NaN</td>\n",
       "      <td>12.023622</td>\n",
       "    </tr>\n",
       "    <tr>\n",
       "      <th>27</th>\n",
       "      <td>NaN</td>\n",
       "      <td>NaN</td>\n",
       "      <td>1.775591</td>\n",
       "    </tr>\n",
       "    <tr>\n",
       "      <th>28</th>\n",
       "      <td>NaN</td>\n",
       "      <td>NaN</td>\n",
       "      <td>7.783465</td>\n",
       "    </tr>\n",
       "    <tr>\n",
       "      <th>29</th>\n",
       "      <td>NaN</td>\n",
       "      <td>NaN</td>\n",
       "      <td>2.779528</td>\n",
       "    </tr>\n",
       "    <tr>\n",
       "      <th>30</th>\n",
       "      <td>NaN</td>\n",
       "      <td>NaN</td>\n",
       "      <td>0.000000</td>\n",
       "    </tr>\n",
       "  </tbody>\n",
       "</table>\n",
       "</div>"
      ],
      "text/plain": [
       "     Australia       Canada        China\n",
       "0     4.291339     2.114173     0.838583\n",
       "1   141.496063     0.003937     0.000000\n",
       "2    33.322835   116.964567     1.484252\n",
       "3     8.606299  1634.188976     2.472441\n",
       "4     6.295276  3203.196850     0.000000\n",
       "5     2.114173    38.019685     5.688976\n",
       "6     0.000000   120.125984     2.775591\n",
       "7     2.771654     0.909449     5.547244\n",
       "8          NaN    10.248031    20.000000\n",
       "9          NaN     6.389764     3.645669\n",
       "10         NaN     0.000000     2.645669\n",
       "11         NaN     0.000000     7.090551\n",
       "12         NaN          NaN     0.885827\n",
       "13         NaN          NaN     1.688976\n",
       "14         NaN          NaN     0.000000\n",
       "15         NaN          NaN     1.842520\n",
       "16         NaN          NaN     6.161417\n",
       "17         NaN          NaN     1.862205\n",
       "18         NaN          NaN     5.523622\n",
       "19         NaN          NaN     1.838583\n",
       "20         NaN          NaN     0.000000\n",
       "21         NaN          NaN     5.496063\n",
       "22         NaN          NaN     0.925197\n",
       "23         NaN          NaN  3739.070866\n",
       "24         NaN          NaN     0.885827\n",
       "25         NaN          NaN     5.468504\n",
       "26         NaN          NaN    12.023622\n",
       "27         NaN          NaN     1.775591\n",
       "28         NaN          NaN     7.783465\n",
       "29         NaN          NaN     2.779528\n",
       "30         NaN          NaN     0.000000"
      ]
     },
     "execution_count": 10,
     "metadata": {},
     "output_type": "execute_result"
    }
   ],
   "source": [
    "import pandas as pd\n",
    "\n",
    "data = pd.DataFrame()\n",
    "for key in pandaDf['country_region']:\n",
    "    dataframe = pandaDf.loc[pandaDf['country_region'] == key]\n",
    "    values = pd.Series(dataframe['value_list'].tolist()[0])\n",
    "    print(values.shape)\n",
    "    data.insert(loc=0, column=key, value=values)\n",
    "    \n",
    "data"
   ]
  },
  {
   "cell_type": "code",
   "execution_count": 12,
   "metadata": {},
   "outputs": [
    {
     "name": "stdout",
     "output_type": "stream",
     "text": [
      "Colunm Name :  Australia\n",
      "Column Contents :  <class 'pandas.core.series.Series'>\n",
      "Colunm Name :  Canada\n",
      "Column Contents :  <class 'pandas.core.series.Series'>\n",
      "Colunm Name :  China\n",
      "Column Contents :  <class 'pandas.core.series.Series'>\n"
     ]
    },
    {
     "data": {
      "image/png": "iVBORw0KGgoAAAANSUhEUgAAAXcAAAD4CAYAAAAXUaZHAAAAOXRFWHRTb2Z0d2FyZQBNYXRwbG90bGliIHZlcnNpb24zLjMuMiwgaHR0cHM6Ly9tYXRwbG90bGliLm9yZy8vihELAAAACXBIWXMAAAsTAAALEwEAmpwYAAAQXUlEQVR4nO3df5BdZX3H8fenSQRR5EdZGErQUCeji2utzg61mmlNqUqrFezUadLaxnbb1BmMP0aroTsddKbpxNFp62BtJxpLnDpLqdghg1alaazdmYou4g9gVRhRiESy1vHH+DPQb//YAy5hk+zeu5ubPLxfM8w55znPc88XJvnch+fee06qCklSW35m0AVIkpae4S5JDTLcJalBhrskNchwl6QGrRx0AQBnnXVWrVmzZtBlSNIJ5eabb/5mVQ3Nd+64CPc1a9YwNTU16DIk6YSS5GuHO+eyjCQ1yHCXpAYZ7pLUIMNdkhpkuEtSgwx36TAmJiYYGRlhxYoVjIyMMDExMeiSpAU7Lr4KKR1vJiYmGB8fZ+fOnaxbt47JyUnGxsYA2Lhx44Crk47uqDP3JO9NciDJrfOce0OSSnLWnLYrktyZ5EtJXrjUBUvHwrZt29i5cyfr169n1apVrF+/np07d7Jt27ZBlyYtyEKWZa4GLjm0Mcn5wPOBu+e0XQhsAJ7WjXlXkhVLUql0DE1PT7Nu3bqHta1bt47p6ekBVSQtzlHDvao+AXxrnlN/C7wRmPu0j0uBa6rqx1V1F3AncNFSFCodS8PDw0xOTj6sbXJykuHh4QFVJC1OTx+oJnkJ8PWq+twhp84D7plzvK9rm+81NieZSjI1MzPTSxnSshkfH2dsbIy9e/dy8OBB9u7dy9jYGOPj44MuTVqQRX+gmuQUYBx4wXyn52mb9zl+VbUD2AEwOjrqs/50XHnwQ9MtW7YwPT3N8PAw27Zt88NUnTB6+bbMk4ELgM8lAVgNfCbJRczO1M+f03c1cG+/RUqDsHHjRsNcJ6xFL8tU1Req6uyqWlNVa5gN9GdV1TeA3cCGJCcluQBYC3xqSSuWJB3VQr4KOQH8D/CUJPuSjB2ub1XdBlwL3A58BLi8qh5YqmIlSQtz1GWZqjri/5d2s/e5x9sAvwwsSQPk7QckqUGGuyQ1yHCXpAYZ7pLUIMNdkhpkuEtSgwx3SWqQ4S5JDTLcJalBhrskNchwl6QGGe6S1CDDXZIaZLhLUoMMd0lqkOEuSQ0y3CWpQYa7JDXIcJekBi3kAdnvTXIgya1z2t6W5ItJPp/k35KcPufcFUnuTPKlJC9cprolSUewkJn71cAlh7TdCIxU1S8AXwauAEhyIbABeFo35l1JVixZtZKkBTlquFfVJ4BvHdL2saq6vzv8JLC6278UuKaqflxVdwF3AhctYb2SpAVYijX3Pwb+vds/D7hnzrl9XdsjJNmcZCrJ1MzMzBKUIUl6UF/hnmQcuB94/4NN83Sr+cZW1Y6qGq2q0aGhoX7KkCQdYmWvA5NsAl4MXFxVDwb4PuD8Od1WA/f2Xp4kqRc9zdyTXAK8CXhJVf1gzqndwIYkJyW5AFgLfKr/MiVJi3HUmXuSCeB5wFlJ9gFXMvvtmJOAG5MAfLKqXllVtyW5Frid2eWay6vqgeUqXpI0v/x0RWVwRkdHa2pqatBlSNIJJcnNVTU63zl/oSpJDTLcJalBhrskNchwl6QGGe6S1CDDXZIaZLhLUoMMd0lqkOEuSQ0y3CWpQYa7JDXIcJekBhnuktQgw12SGmS4S1KDDHdJapDhLkkNMtwlqUGGuyQ16KjhnuS9SQ4kuXVO25lJbkxyR7c9Y865K5LcmeRLSV64XIVLkg5vITP3q4FLDmnbCuypqrXAnu6YJBcCG4CndWPelWTFklUrSVqQo4Z7VX0C+NYhzZcCu7r9XcBlc9qvqaofV9VdwJ3ARUtTqiRpoXpdcz+nqvYDdNuzu/bzgHvm9NvXtT1Cks1JppJMzczM9FiGJGk+S/2BauZpq/k6VtWOqhqtqtGhoaElLkOSHt16Dff7kpwL0G0PdO37gPPn9FsN3Nt7eZKkXvQa7ruBTd3+JuD6Oe0bkpyU5AJgLfCp/kqUJC3WyqN1SDIBPA84K8k+4EpgO3BtkjHgbuBlAFV1W5JrgduB+4HLq+qBZapdknQYRw33qtp4mFMXH6b/NmBbP0VJkvrjL1QlqUGGuyQ1yHCXpAYZ7pLUIMNdkhpkuEtSgwx3SWqQ4S5JDTLcJalBhrskNchwl6QGGe6S1CDDXZIaZLhLUoMMd0lqkOEuSQ0y3CWpQYa7JDXIcJekBvUV7klel+S2JLcmmUhycpIzk9yY5I5ue8ZSFStJWpiewz3JecCrgdGqGgFWABuArcCeqloL7OmOJUnHUL/LMiuBxyZZCZwC3AtcCuzqzu8CLuvzGpKkReo53Kvq68DbgbuB/cB3qupjwDlVtb/rsx84e77xSTYnmUoyNTMz02sZkqR59LMscwazs/QLgJ8DHpfk5QsdX1U7qmq0qkaHhoZ6LUOSNI9+lmV+Hbirqmaq6iDwQeA5wH1JzgXotgf6L1OStBj9hPvdwLOTnJIkwMXANLAb2NT12QRc31+JkqTFWtnrwKq6KckHgM8A9wO3ADuAxwPXJhlj9g3gZUtRqCRp4XoOd4CquhK48pDmHzM7i5ckDYi/UJWkBhnuktQgw12SGmS4S1KDDHdJapDhLkkNMtwlqUGGuyQ1yHCXpAYZ7pLUIMNdkhpkuEtSgwx3SWqQ4S5JDTLcJalBhrskNchwl6QGGe6S1CDDXZIa1Fe4Jzk9yQeSfDHJdJJfTnJmkhuT3NFtz1iqYiVJC9PvzP0dwEeq6qnAM4BpYCuwp6rWAnu6Y0nSMdRzuCd5AvArwE6AqvpJVX0buBTY1XXbBVzWX4mSpMXqZ+b+88AM8E9JbknyniSPA86pqv0A3fbs+QYn2ZxkKsnUzMxMH2VIkg7VT7ivBJ4F/ENVPRP4PotYgqmqHVU1WlWjQ0NDfZQhSTpUP+G+D9hXVTd1xx9gNuzvS3IuQLc90F+JkqTF6jncq+obwD1JntI1XQzcDuwGNnVtm4Dr+6pQkrRoK/scvwV4f5LHAF8B/ojZN4xrk4wBdwMv6/MakqRF6ivcq+qzwOg8py7u53UlSf3xF6qS1CDDXZIaZLhLUoMMd0lqkOEuSQ0y3CWpQYa7JDXIcJekBhnuktQgw12SGmS4S1KDDHdJapDhLkkNMtwlqUGGuyQ1yHCXpAYZ7pLUIMNdkhpkuEtSg/oO9yQrktyS5Ibu+MwkNya5o9ue0X+ZkqTFWIqZ+2uA6TnHW4E9VbUW2NMdS5KOob7CPclq4EXAe+Y0Xwrs6vZ3AZf1cw1J0uL1O3P/O+CNwP/NaTunqvYDdNuz5xuYZHOSqSRTMzMzfZYhSZqr53BP8mLgQFXd3Mv4qtpRVaNVNTo0NNRrGZKkeazsY+xzgZck+U3gZOAJSf4ZuC/JuVW1P8m5wIGlKFSStHA9z9yr6oqqWl1Va4ANwH9W1cuB3cCmrtsm4Pq+q5QkLcpyfM99O/D8JHcAz++OJUnHUD/LMg+pqo8DH+/2/xe4eCleV5LUG3+hKh3GxMQEIyMjrFixgpGRESYmJgZdkrRgSzJzl1ozMTHB+Pg4O3fuZN26dUxOTjI2NgbAxo0bB1yddHSpqkHXwOjoaE1NTQ26DOkhIyMjXHXVVaxfv/6htr1797JlyxZuvfXWAVYm/VSSm6tqdN5zhrv0SCtWrOBHP/oRq1ateqjt4MGDnHzyyTzwwAMDrEz6qSOFu2vu0jyGh4eZnJx8WNvk5CTDw8MDqkhaHMNdmsf4+DhjY2Ps3buXgwcPsnfvXsbGxhgfHx90adKC+IGqNI8HPzTdsmUL09PTDA8Ps23bNj9M1QnDNXdJOkG55i5JjzKGuyQ1yHCXpAYZ7pLUIMNdkhpkuEtSgwx3SWqQ4S5JDTLcJalBhrskNchwl6QG9RzuSc5PsjfJdJLbkrymaz8zyY1J7ui2ZyxduZKkhehn5n4/8PqqGgaeDVye5EJgK7CnqtYCe7pjSdIx1HO4V9X+qvpMt/89YBo4D7gU2NV12wVc1meNkqRFWpI19yRrgGcCNwHnVNV+mH0DAM4+zJjNSaaSTM3MzCxFGZKkTt/hnuTxwHXAa6vquwsdV1U7qmq0qkaHhob6LUOSNEdf4Z5kFbPB/v6q+mDXfF+Sc7vz5wIH+itRkrRY/XxbJsBOYLqq/mbOqd3Apm5/E3B97+VJknrRzzNUnwv8AfCFJJ/t2v4C2A5cm2QMuBt4WV8VSpIWredwr6pJIIc5fXGvrytJ6p+/UJWkBvWzLCMN3DPe8jG+88ODC+7/tbe+eBmr+aknvemGRfU/7bGr+NyVL1imavRoZLjrhPadHx7kq9tftPAB22v5iunDmq0fGnQJaozLMpLUIMNdkhpkuEtSgwx3SWqQ4S5JDTLcJalBhrskNchwl6QGGe6S1CDDXZIaZLhLUoMMd0lqkDcO0wnt1OGtPH3X1kGX0bdThwEWcQM06SgMd53Qvje9fXF3hTxOeVdILTWXZSSpQc7cdcJrYdZ72mNXDboENWbZwj3JJcA7gBXAe6pq+3JdS49ex2JJZs3WDzWx9KNHl2VZlkmyAvh74DeAC4GNSS5cjmtJkh5pudbcLwLurKqvVNVPgGuAS5fpWpKkQyzXssx5wD1zjvcBvzS3Q5LNwGaAJz7xictUhvRwSXob99bF9a86Pp/VqkeP5Zq5z/c36GF/2qtqR1WNVtXo0NDQMpUhPVxVHZN/pEFbrnDfB5w/53g1cO8yXUuSdIjlCvdPA2uTXJDkMcAGYPcyXUuSdIhlWXOvqvuTvAr4KLNfhXxvVd22HNeSJD3Ssn3Pvao+DHx4uV5fknR43n5AkhpkuEtSgwx3SWqQ4S5JDcrx8IOLJDPA1wZdh3QYZwHfHHQR0jyeVFXz/gr0uAh36XiWZKqqRgddh7QYLstIUoMMd0lqkOEuHd2OQRcgLZZr7pLUIGfuktQgw12SGmS4qzlJXpqkkjy1x/GX9fLM3ySvSPLObv+VSf6wl+tLS8FwV4s2ApPMPkegF5cx+2D3R0iyoDupVtU/VtX7ery+1DfDXU1J8njgucAYXbgneV6SG+b0eWeSV3T725PcnuTzSd6e5DnAS4C3Jflskicn+XiSv07yX8BrkvxWkpuS3JLkP5KcM08db07yhm7/T5N8OsnnklyX5JRl/w+hR71lu5+7NCCXAR+pqi8n+VaSZx2uY5IzgZcCT62qSnJ6VX07yW7ghqr6QNcP4PSq+tXu+Azg2d2YPwHeCLz+CDV9sKre3Y39K2bfeK7q+99UOgJn7mrNRuCabv+a7vhwvgv8CHhPkt8GfnCEvv8yZ3818NEkXwD+HHjaUWoaSfLfXf/fX0B/qW+Gu5qR5GeBX2M2rL/KbPD+LvAAD/+zfjLMPg4SuAi4jm7Gf4SX//6c/auAd1bV04E/e/D1juBq4FVd/7csoL/UN8NdLfkd4H1V9aSqWlNV5wN3decuTHJSktOAi+Gh9fnTukdCvhb4xa7v94BTj3Cd04Cvd/ubFlDXqcD+JKuYnblLy841d7VkI7D9kLbrgN8DrgU+D9wB3NKdOxW4PsnJQIDXde3XAO9O8mpm3zAO9WbgX5N8HfgkcMFR6vpL4CZmb2v9BY78xiEtCW8/IEkNcllGkhpkuEtSgwx3SWqQ4S5JDTLcJalBhrskNchwl6QG/T9Ul0srnkV24AAAAABJRU5ErkJggg==\n",
      "text/plain": [
       "<Figure size 432x288 with 1 Axes>"
      ]
     },
     "metadata": {
      "needs_background": "light"
     },
     "output_type": "display_data"
    },
    {
     "data": {
      "image/png": "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\n",
      "text/plain": [
       "<Figure size 432x288 with 1 Axes>"
      ]
     },
     "metadata": {
      "needs_background": "light"
     },
     "output_type": "display_data"
    },
    {
     "data": {
      "image/png": "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\n",
      "text/plain": [
       "<Figure size 432x288 with 1 Axes>"
      ]
     },
     "metadata": {
      "needs_background": "light"
     },
     "output_type": "display_data"
    }
   ],
   "source": [
    "import matplotlib.pyplot as plt\n",
    "\n",
    "# fig, ax = plt.subplots()\n",
    "for (columnName, columnData) in data.iteritems(): \n",
    "    plt.figure()\n",
    "    print('Colunm Name : ', columnName) \n",
    "    print('Column Contents : ', type(columnData))\n",
    "    columnData.plot(kind='box')\n"
   ]
  },
  {
   "cell_type": "markdown",
   "metadata": {},
   "source": [
    "## seaborn"
   ]
  },
  {
   "cell_type": "code",
   "execution_count": 32,
   "metadata": {},
   "outputs": [
    {
     "data": {
      "image/png": "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
      "text/plain": [
       "<Figure size 360x360 with 1 Axes>"
      ]
     },
     "metadata": {
      "needs_background": "light"
     },
     "output_type": "display_data"
    }
   ],
   "source": [
    "import matplotlib.pyplot as plt\n",
    "import seaborn as sns   \n",
    "\n",
    "sns.catplot(x ='time', y ='casualties', data = pdf)\n",
    "plt.title('COVID-19 Casualities')\n",
    "plt.show() "
   ]
  },
  {
   "cell_type": "code",
   "execution_count": null,
   "metadata": {},
   "outputs": [],
   "source": []
  }
 ],
 "metadata": {
  "kernelspec": {
   "display_name": "Python 3",
   "language": "python",
   "name": "python3"
  },
  "language_info": {
   "codemirror_mode": {
    "name": "ipython",
    "version": 3
   },
   "file_extension": ".py",
   "mimetype": "text/x-python",
   "name": "python",
   "nbconvert_exporter": "python",
   "pygments_lexer": "ipython3",
   "version": "3.8.6"
  }
 },
 "nbformat": 4,
 "nbformat_minor": 2
}
