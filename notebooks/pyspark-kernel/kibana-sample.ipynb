{
 "cells": [
  {
   "cell_type": "markdown",
   "metadata": {},
   "source": [
    "# Kibana PySpark sample"
   ]
  },
  {
   "cell_type": "code",
   "execution_count": 1,
   "metadata": {},
   "outputs": [
    {
     "name": "stdout",
     "output_type": "stream",
     "text": [
      "Python Version :  3.8.6 | packaged by conda-forge | (default, Oct  7 2020, 19:08:05) \n",
      "[GCC 7.5.0]\n",
      "Pandas Version :  1.1.3\n"
     ]
    }
   ],
   "source": [
    "# run all code cells of the specified notebook\n",
    "%run /notebooks/python3-kernel/libs/kibana-class.ipynb"
   ]
  },
  {
   "cell_type": "code",
   "execution_count": 2,
   "metadata": {},
   "outputs": [
    {
     "name": "stdout",
     "output_type": "stream",
     "text": [
      "+------+------+---------+--------------------+---+---+----------+------------+----------+--------------+\n",
      "|health|status|    index|                uuid|pri|rep|docs.count|docs.deleted|store.size|pri.store.size|\n",
      "+------+------+---------+--------------------+---+---+----------+------------+----------+--------------+\n",
      "|yellow|  open|fluentbit|eoypDLTLQXu9Z1pba...|  5|  1|       215|           0|   574.9kb|       574.9kb|\n",
      "| green|  open|.kibana_1|dXqcWoMYS8Gy8-h1b...|  1|  0|         4|           0|    22.5kb|        22.5kb|\n",
      "+------+------+---------+--------------------+---+---+----------+------------+----------+--------------+\n",
      "\n"
     ]
    }
   ],
   "source": [
    "hostname = \"10.0.0.11\"\n",
    "port = 5601\n",
    "\n",
    "client = KibanaPySpark(hostname, port)\n",
    "client.indicesDF()\\\n",
    "    .show()"
   ]
  },
  {
   "cell_type": "code",
   "execution_count": 3,
   "metadata": {},
   "outputs": [
    {
     "name": "stdout",
     "output_type": "stream",
     "text": [
      "+---------+------+--------------------+---------+--------------------+\n",
      "|   _index| _type|                 _id|   _score|             _source|\n",
      "+---------+------+--------------------+---------+--------------------+\n",
      "|fluentbit|docker|MSJoV3YBxRhqZ8w0V_gJ|3.2898817|[SERVICE_NAME -> ...|\n",
      "|fluentbit|docker|BiJoV3YBxRhqZ8w0V_gH| 3.099788|[SERVICE_NAME -> ...|\n",
      "|fluentbit|docker|EiJoV3YBxRhqZ8w0V_gH| 3.099788|[SERVICE_NAME -> ...|\n",
      "|fluentbit|docker|MCJoV3YBxRhqZ8w0V_gI|2.7405434|[SERVICE_NAME -> ...|\n",
      "|fluentbit|docker|OCJoV3YBxRhqZ8w0V_gJ|2.7405434|[SERVICE_NAME -> ...|\n",
      "|fluentbit|docker|HSJoV3YBxRhqZ8w0V_gI|2.4702432|[SERVICE_NAME -> ...|\n",
      "|fluentbit|docker|GSJoV3YBxRhqZ8w0V_gI|1.8126405|[SERVICE_NAME -> ...|\n",
      "|fluentbit|docker|HCJoV3YBxRhqZ8w0V_gI|1.8126405|[SERVICE_NAME -> ...|\n",
      "|fluentbit|docker|LSJoV3YBxRhqZ8w0V_gI|1.8126405|[SERVICE_NAME -> ...|\n",
      "|fluentbit|docker|LyJoV3YBxRhqZ8w0V_gI|1.8126405|[SERVICE_NAME -> ...|\n",
      "+---------+------+--------------------+---------+--------------------+\n",
      "\n"
     ]
    }
   ],
   "source": [
    "client.searchTextDF('fluentbit', 'c48851d3d35fc0c')\\\n",
    "    .show()"
   ]
  },
  {
   "cell_type": "code",
   "execution_count": 4,
   "metadata": {},
   "outputs": [
    {
     "name": "stdout",
     "output_type": "stream",
     "text": [
      "+---------+------+--------------------+---------+--------------------+\n",
      "|   _index| _type|                 _id|   _score|             _source|\n",
      "+---------+------+--------------------+---------+--------------------+\n",
      "|fluentbit|docker|4CojVnYBAz6DmWnbnK7b|3.2580965|[SERVICE_NAME -> ...|\n",
      "|fluentbit|docker|lCJnV3YBxRhqZ8w04ffL| 2.821379|[SERVICE_NAME -> ...|\n",
      "|fluentbit|docker|LCJoV3YBxRhqZ8w0V_gI| 2.821379|[SERVICE_NAME -> ...|\n",
      "+---------+------+--------------------+---------+--------------------+\n",
      "\n"
     ]
    }
   ],
   "source": [
    "query = {\n",
    "      'level': 'WARN'\n",
    "}\n",
    "client.searchMatchDF('fluentbit', query)\\\n",
    "    .show()"
   ]
  },
  {
   "cell_type": "code",
   "execution_count": 5,
   "metadata": {},
   "outputs": [
    {
     "name": "stdout",
     "output_type": "stream",
     "text": [
      "+---------+------+--------------------+---------+--------------------+\n",
      "|   _index| _type|                 _id|   _score|             _source|\n",
      "+---------+------+--------------------+---------+--------------------+\n",
      "|fluentbit|docker|BiJoV3YBxRhqZ8w0V_gH|1.4098248|[SERVICE_NAME -> ...|\n",
      "|fluentbit|docker|ByJoV3YBxRhqZ8w0V_gH|1.4098248|[SERVICE_NAME -> ...|\n",
      "|fluentbit|docker|EiJoV3YBxRhqZ8w0V_gH|1.4098248|[SERVICE_NAME -> ...|\n",
      "|fluentbit|docker|EyJoV3YBxRhqZ8w0V_gH|1.4098248|[SERVICE_NAME -> ...|\n",
      "|fluentbit|docker|GSJoV3YBxRhqZ8w0V_gI|1.4098248|[SERVICE_NAME -> ...|\n",
      "|fluentbit|docker|HCJoV3YBxRhqZ8w0V_gI|1.4098248|[SERVICE_NAME -> ...|\n",
      "|fluentbit|docker|LSJoV3YBxRhqZ8w0V_gI|1.4098248|[SERVICE_NAME -> ...|\n",
      "|fluentbit|docker|LiJoV3YBxRhqZ8w0V_gI|1.4098248|[SERVICE_NAME -> ...|\n",
      "|fluentbit|docker|LyJoV3YBxRhqZ8w0V_gI|1.4098248|[SERVICE_NAME -> ...|\n",
      "|fluentbit|docker|NyJoV3YBxRhqZ8w0V_gJ|1.4098248|[SERVICE_NAME -> ...|\n",
      "+---------+------+--------------------+---------+--------------------+\n",
      "\n"
     ]
    }
   ],
   "source": [
    "query = {\n",
    "      'TRACE_ID': 'c48851d3d35fc0c'\n",
    "}\n",
    "client.searchTermsDF('fluentbit', query)\\\n",
    "    .show()"
   ]
  },
  {
   "cell_type": "code",
   "execution_count": 6,
   "metadata": {},
   "outputs": [
    {
     "name": "stdout",
     "output_type": "stream",
     "text": [
      "Query : {'query': {'range': {'frtu.response_code': {'gte': '300'}}}}\n",
      "Read url from : http://10.0.0.11:5601/api/console/proxy?method=POST&path=/fluentbit/_search\n",
      "Found result : {'took': 4, 'timed_out': False, '_shards': {'total': 5, 'successful': 5, 'skipped': 0, 'failed': 0}, 'hits': {'total': 1, 'max_score': 1.0, 'hits': [{'_index': 'fluentbit', '_type': 'docker', '_id': 'LCJoV3YBxRhqZ8w0V_gI', '_score': 1.0, '_source': {'@timestamp': '2020-12-12T14:43:41.000Z', 'msg': '22:43:41.475 [http-nio-8080-exec-4] c48851d3d35fc0c WARN  c.g.f.l.example.demo.biz.PrinterUtil #262 - {\"frtu.kind\":\"client\",\"frtu.method\":\"GET\",\"frtu.uri\":\"ChaosGenerator.raiseException\",\"frtu.request\":\"ServiceB\",\"frtu.response_code\":\"500\"}', 'exception': 'IllegalStateException', 'SERVICE_NAME': 'service-b', 'frtu.method': 'GET', 'frtu.response_code': '500', 'level': 'WARN', 'ZONE': 'zone', 'logger': 'com.github.frtu.logs.example.demo.biz.PrinterUtil', 'TRACE_ID': 'c48851d3d35fc0c', 'VERSION_TAG': 'UNKNOWN', 'thread': 'http-nio-8080-exec-4', 'frtu.kind': 'client', 'message': '{\"frtu.kind\":\"client\",\"frtu.method\":\"GET\",\"frtu.uri\":\"ChaosGenerator.raiseException\",\"frtu.request\":\"ServiceB\",\"frtu.response_code\":\"500\"}', 'REGION': 'localhost', 'caller': 'Caller+0\\t at com.github.frtu.logs.core.StructuredLogger.warn(StructuredLogger.java:262)\\nCaller+1\\t at com.github.frtu.logs.core.StructuredLogger.warn(StructuredLogger.java:239)\\nCaller+2\\t at com.github.frtu.logs.core.StructuredLogger.warn(StructuredLogger.java:248)\\nCaller+3\\t at com.github.frtu.logs.example.demo.biz.PrinterUtil.tagDemo(PrinterUtil.java:46)\\nCaller+4\\t at com.github.frtu.logs.example.demo.biz.PrinterUtil$$FastClassBySpringCGLIB$$9377cff6.invoke(<generated>)\\n', 'MACHINE_ID': 'Freds-MacBook-Pro.local', 'frtu.uri': 'ChaosGenerator.raiseException', 'frtu.request': 'ServiceB'}}]}}\n",
      "+---------+------+--------------------+------+--------------------+\n",
      "|   _index| _type|                 _id|_score|             _source|\n",
      "+---------+------+--------------------+------+--------------------+\n",
      "|fluentbit|docker|LCJoV3YBxRhqZ8w0V_gI|   1.0|[SERVICE_NAME -> ...|\n",
      "+---------+------+--------------------+------+--------------------+\n",
      "\n"
     ]
    }
   ],
   "source": [
    "client.searchRangeQueryDF('fluentbit', 'frtu.response_code', 'gte', '300', True)\\\n",
    "    .show()"
   ]
  },
  {
   "cell_type": "code",
   "execution_count": 7,
   "metadata": {},
   "outputs": [
    {
     "name": "stdout",
     "output_type": "stream",
     "text": [
      "+---------+------+--------------------+--------+----------------------------------------------------------------------------------------------------------------------------------------------------------------------------------------------------------------------------------------------------------------------------------------------------------------------------------------------------------------------------------------------------------------------------------------------------------------------------------------------------------------------------------------------------------------------------------------------------------------------------------------------------------------------------------------------------------------------------------------------------------------------------------------------------------------------------------------------------------------------------------------------------------------------------------------------------------------------------------------------------------------------------------------------------------------------------------------------------------------------------------------------------------------------------------------------------------------------------------------------------------------------------------------------------------------------------------------------------------------------------------------------------------------+\n",
      "|_index   |_type |_id                 |_score  |_source                                                                                                                                                                                                                                                                                                                                                                                                                                                                                                                                                                                                                                                                                                                                                                                                                                                                                                                                                                                                                                                                                                                                                                                                                                                                                                                                                                                                         |\n",
      "+---------+------+--------------------+--------+----------------------------------------------------------------------------------------------------------------------------------------------------------------------------------------------------------------------------------------------------------------------------------------------------------------------------------------------------------------------------------------------------------------------------------------------------------------------------------------------------------------------------------------------------------------------------------------------------------------------------------------------------------------------------------------------------------------------------------------------------------------------------------------------------------------------------------------------------------------------------------------------------------------------------------------------------------------------------------------------------------------------------------------------------------------------------------------------------------------------------------------------------------------------------------------------------------------------------------------------------------------------------------------------------------------------------------------------------------------------------------------------------------------+\n",
      "|fluentbit|docker|LCJoV3YBxRhqZ8w0V_gI|2.821379|[SERVICE_NAME -> service-b, exception -> IllegalStateException, msg -> 22:43:41.475 [http-nio-8080-exec-4] c48851d3d35fc0c WARN  c.g.f.l.example.demo.biz.PrinterUtil #262 - {\"frtu.kind\":\"client\",\"frtu.method\":\"GET\",\"frtu.uri\":\"ChaosGenerator.raiseException\",\"frtu.request\":\"ServiceB\",\"frtu.response_code\":\"500\"}, frtu.method -> GET, frtu.response_code -> 500, level -> WARN, ZONE -> zone, logger -> com.github.frtu.logs.example.demo.biz.PrinterUtil, TRACE_ID -> c48851d3d35fc0c, VERSION_TAG -> UNKNOWN, frtu.kind -> client, thread -> http-nio-8080-exec-4, message -> {\"frtu.kind\":\"client\",\"frtu.method\":\"GET\",\"frtu.uri\":\"ChaosGenerator.raiseException\",\"frtu.request\":\"ServiceB\",\"frtu.response_code\":\"500\"}, REGION -> localhost, caller -> Caller+0\t at com.github.frtu.logs.core.StructuredLogger.warn(StructuredLogger.java:262)\n",
      "Caller+1\t at com.github.frtu.logs.core.StructuredLogger.warn(StructuredLogger.java:239)\n",
      "Caller+2\t at com.github.frtu.logs.core.StructuredLogger.warn(StructuredLogger.java:248)\n",
      "Caller+3\t at com.github.frtu.logs.example.demo.biz.PrinterUtil.tagDemo(PrinterUtil.java:46)\n",
      "Caller+4\t at com.github.frtu.logs.example.demo.biz.PrinterUtil$$FastClassBySpringCGLIB$$9377cff6.invoke(<generated>)\n",
      ", @timestamp -> 2020-12-12T14:43:41.000Z, MACHINE_ID -> Freds-MacBook-Pro.local, frtu.request -> ServiceB, frtu.uri -> ChaosGenerator.raiseException]|\n",
      "+---------+------+--------------------+--------+----------------------------------------------------------------------------------------------------------------------------------------------------------------------------------------------------------------------------------------------------------------------------------------------------------------------------------------------------------------------------------------------------------------------------------------------------------------------------------------------------------------------------------------------------------------------------------------------------------------------------------------------------------------------------------------------------------------------------------------------------------------------------------------------------------------------------------------------------------------------------------------------------------------------------------------------------------------------------------------------------------------------------------------------------------------------------------------------------------------------------------------------------------------------------------------------------------------------------------------------------------------------------------------------------------------------------------------------------------------------------------------------------------------+\n",
      "\n"
     ]
    }
   ],
   "source": [
    "query = {\n",
    "      \"bool\" : {\n",
    "        \"must\" : {\n",
    "            \"match\" : { \"level\" : \"WARN\" }\n",
    "        },\n",
    "        \"filter\": {\n",
    "            \"query_string\" : { \"query\" : \"ServiceB\" }\n",
    "        }\n",
    "      }\n",
    "   }\n",
    "client.searchDF('fluentbit', query)\\\n",
    "    .show(truncate=False)"
   ]
  },
  {
   "cell_type": "code",
   "execution_count": 8,
   "metadata": {},
   "outputs": [
    {
     "name": "stdout",
     "output_type": "stream",
     "text": [
      "+------------------------+------------+\n",
      "|@timestamp              |frtu.request|\n",
      "+------------------------+------------+\n",
      "|2020-12-12T14:43:41.000Z|ServiceB    |\n",
      "+------------------------+------------+\n",
      "\n"
     ]
    }
   ],
   "source": [
    "df = client.searchRangeQueryDF('fluentbit', 'frtu.response_code', 'gte', '300')\n",
    "df.select('_source.@timestamp', '_source.`frtu.request`').show(truncate=False)"
   ]
  },
  {
   "cell_type": "code",
   "execution_count": null,
   "metadata": {},
   "outputs": [],
   "source": []
  }
 ],
 "metadata": {
  "kernelspec": {
   "display_name": "Python 3",
   "language": "python",
   "name": "python3"
  },
  "language_info": {
   "codemirror_mode": {
    "name": "ipython",
    "version": 3
   },
   "file_extension": ".py",
   "mimetype": "text/x-python",
   "name": "python",
   "nbconvert_exporter": "python",
   "pygments_lexer": "ipython3",
   "version": "3.8.6"
  }
 },
 "nbformat": 4,
 "nbformat_minor": 2
}
