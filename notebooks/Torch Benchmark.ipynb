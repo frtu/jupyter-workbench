{
 "cells": [
  {
   "cell_type": "code",
   "execution_count": 1,
   "id": "eb6f526c-1ac0-4b5d-a19d-2c2af70579dd",
   "metadata": {},
   "outputs": [
    {
     "data": {
      "text/plain": [
       "0.018089125000017248"
      ]
     },
     "execution_count": 1,
     "metadata": {},
     "output_type": "execute_result"
    }
   ],
   "source": [
    "import timeit\n",
    "import torch\n",
    "import random\n",
    "\n",
    "x = torch.ones(50000000, device='mps')\n",
    "timeit.timeit(lambda: x * random.randint(0,100), number=1)"
   ]
  },
  {
   "cell_type": "code",
   "execution_count": 2,
   "id": "a99f8600-0cd2-421e-8a62-aec076fd919d",
   "metadata": {},
   "outputs": [
    {
     "data": {
      "text/plain": [
       "0.055619124999992664"
      ]
     },
     "execution_count": 2,
     "metadata": {},
     "output_type": "execute_result"
    }
   ],
   "source": [
    "import timeit\n",
    "import torch\n",
    "import random\n",
    "\n",
    "x = torch.ones(50000000, device='cpu')\n",
    "timeit.timeit(lambda: x * random.randint(0,100), number=1)"
   ]
  },
  {
   "cell_type": "code",
   "execution_count": 3,
   "id": "7421f037-dca4-4231-8ad3-ed53e11918f7",
   "metadata": {},
   "outputs": [
    {
     "name": "stdout",
     "output_type": "stream",
     "text": [
      "Total time with cpu (10000): 0.0038329999999999753\n",
      "Total time with cpu (100000000): 0.9997750000000001\n",
      "Total time with gpu (10000): 0.01377600000000001\n",
      "Total time with gpu (100000000): 0.012073\n"
     ]
    }
   ],
   "source": [
    "from time import process_time\n",
    "import torch\n",
    "\n",
    "def testgpu():\n",
    "    if torch.backends.mps.is_available():\n",
    "        mps_device = torch.device(\"mps\")\n",
    "    t0 = process_time()\n",
    "    x = torch.ones(n1, device=mps_device)\n",
    "    y = x + torch.rand(n1, device=mps_device)\n",
    "    t1 = process_time()\n",
    "    print(f\"Total time with gpu ({n1}): {t1-t0}\")\n",
    "    t0 = process_time()\n",
    "    x = torch.ones(n2, device=mps_device)\n",
    "    y = x + torch.rand(n2, device=mps_device)\n",
    "    t1 = process_time()\n",
    "    print(f\"Total time with gpu ({n2}): {t1-t0}\")\n",
    "\n",
    "def testcpu():\n",
    "    t0 = process_time()\n",
    "    x = torch.ones(n1)\n",
    "    y = x + torch.rand(n1)\n",
    "    t1 = process_time()\n",
    "    print(f\"Total time with cpu ({n1}): {t1-t0}\")\n",
    "    t0 = process_time()\n",
    "    x = torch.ones(n2)\n",
    "    y = x + torch.rand(n2)\n",
    "    t1 = process_time()\n",
    "    print(f\"Total time with cpu ({n2}): {t1-t0}\")\n",
    "\n",
    "if __name__ == '__main__':\n",
    "    n1 = 10000\n",
    "    n2 = 100000000\n",
    "    testcpu()\n",
    "    testgpu()"
   ]
  },
  {
   "cell_type": "code",
   "execution_count": 4,
   "id": "3ce7906b-a365-43fe-96a3-974b01fd12fb",
   "metadata": {},
   "outputs": [
    {
     "name": "stdout",
     "output_type": "stream",
     "text": [
      "Pytorch 2.2.1\n",
      "Model 1: mps:0\n",
      "Model 2: cpu\n",
      "CPU 1.493 sec\n",
      "MPS 1.305 sec\n"
     ]
    }
   ],
   "source": [
    "import torch\n",
    "import transformers\n",
    "import time\n",
    "import huggingface_hub\n",
    "\n",
    "print(\"Pytorch\", torch.__version__)\n",
    "\n",
    "tokenizer = transformers.AutoTokenizer.from_pretrained(\"gpt2\")\n",
    "tokens = tokenizer(\"deep learning is\", return_tensors=\"pt\")\n",
    "mps_tokens = tokens.copy().to(\"mps\")\n",
    "\n",
    "mps_model = transformers.AutoModelForCausalLM.from_pretrained(\"gpt2\").to(\"mps\")\n",
    "mps_model.eval()\n",
    "print(\"Model 1:\", mps_model.device)\n",
    "\n",
    "cpu_model = transformers.AutoModelForCausalLM.from_pretrained(\"gpt2\")\n",
    "cpu_model.eval()\n",
    "print(\"Model 2:\", cpu_model.device)\n",
    "\n",
    "steps = 30\n",
    "ts = time.monotonic()\n",
    "for _ in range(steps):\n",
    "    out = cpu_model(**tokens)\n",
    "print(\"CPU %.3f sec\" % (time.monotonic() - ts))\n",
    "\n",
    "ts = time.monotonic()\n",
    "for _ in range(steps):\n",
    "    out = mps_model(**mps_tokens)\n",
    "print(\"MPS %.3f sec\" % (time.monotonic() - ts))"
   ]
  },
  {
   "cell_type": "code",
   "execution_count": null,
   "id": "68400088-d862-4194-9f99-ba67c50b5745",
   "metadata": {},
   "outputs": [],
   "source": []
  }
 ],
 "metadata": {
  "kernelspec": {
   "display_name": "Python 3 (ipykernel)",
   "language": "python",
   "name": "python3"
  },
  "language_info": {
   "codemirror_mode": {
    "name": "ipython",
    "version": 3
   },
   "file_extension": ".py",
   "mimetype": "text/x-python",
   "name": "python",
   "nbconvert_exporter": "python",
   "pygments_lexer": "ipython3",
   "version": "3.9.19"
  }
 },
 "nbformat": 4,
 "nbformat_minor": 5
}
