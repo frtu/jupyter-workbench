{
 "cells": [
  {
   "cell_type": "markdown",
   "metadata": {},
   "source": [
    "# Utils\n",
    "## Base functions"
   ]
  },
  {
   "cell_type": "code",
   "execution_count": null,
   "metadata": {},
   "outputs": [],
   "source": [
    "def identity(x):\n",
    "    \"\"\"\"\n",
    "    Identity method return parameter\n",
    "    \"\"\"\n",
    "    return x"
   ]
  },
  {
   "cell_type": "markdown",
   "metadata": {},
   "source": [
    "## Image utils\n",
    "\n",
    "Please install : py-opencv"
   ]
  },
  {
   "cell_type": "markdown",
   "metadata": {},
   "source": [
    "### Read & display images"
   ]
  },
  {
   "cell_type": "code",
   "execution_count": null,
   "metadata": {},
   "outputs": [],
   "source": [
    "def assert_img_path(img_path, debug=False):\n",
    "    if (debug):\n",
    "        print('Loading image at ' + img_path)\n",
    "    if img_path.endswith('.DS_Store'):\n",
    "        raise Exception('Attention, wrong image path=' + img_path)        "
   ]
  },
  {
   "cell_type": "code",
   "execution_count": null,
   "metadata": {},
   "outputs": [],
   "source": [
    "from imageio import imread\n",
    "\n",
    "def img_read(img_path, debug=False):\n",
    "    \"\"\"\"\n",
    "    Read an image in RGB using imageio library\n",
    "    \"\"\"\n",
    "    assert_img_path(img_path, debug)\n",
    "\n",
    "    return imread(img_path)"
   ]
  },
  {
   "cell_type": "code",
   "execution_count": null,
   "metadata": {},
   "outputs": [],
   "source": [
    "# https://opencv-python-tutroals.readthedocs.io/en/latest/py_tutorials/py_gui/py_image_display/py_image_display.html\n",
    "import numpy as np\n",
    "import cv2\n",
    "\n",
    "def img_read_cv(img_path, color_mode=cv2.IMREAD_COLOR, debug=False):\n",
    "    \"\"\"\n",
    "    Read an image in BGR using cv2\n",
    "    color_mode : cv2.IMREAD_UNCHANGED (-1) | cv2.IMREAD_GRAYSCALE (0) | cv2.IMREAD_COLOR (default : 1)\n",
    "    \"\"\"\n",
    "    assert_img_path(img_path, debug)\n",
    "    \n",
    "    img = cv2.imread(img_path, color_mode)\n",
    "    return img\n",
    "\n",
    "# https://www.ccoderun.ca/programming/doxygen/opencv/group__imgproc__color__conversions.html\n",
    "def img_convert_color(img, color_mode=cv2.COLOR_BGR2RGB):\n",
    "    \"\"\"\n",
    "    Convert an image from BGR to RGB\n",
    "    \"\"\"\n",
    "    img = cv2.cvtColor(img, color_mode)\n",
    "    return img"
   ]
  },
  {
   "cell_type": "code",
   "execution_count": null,
   "metadata": {},
   "outputs": [],
   "source": [
    "# https://matplotlib.org/tutorials/introductory/images.html\n",
    "# https://matplotlib.org/3.1.1/api/_as_gen/matplotlib.pyplot.imshow.html\n",
    "# https://matplotlib.org/api/pyplot_api.html#matplotlib.pyplot.imshow\n",
    "from matplotlib import pyplot as plt\n",
    "\n",
    "def img_show(img, func=identity):\n",
    "    \"\"\"\n",
    "    Display below cell an image using matplotlib\n",
    "    \"\"\"\n",
    "    plt.imshow(func(img))\n",
    "    plt.xticks([]), plt.yticks([])  # to hide tick values on X and Y axis\n",
    "    plt.show()\n",
    "\n",
    "# https://matplotlib.org/3.1.1/tutorials/colors/colormaps.html\n",
    "def img_show_using_color(img, color_map='gray'):\n",
    "    \"\"\"\n",
    "    Display an image using the color map using matplotlib\n",
    "    NOTE : IT DOESN'T CHANGE the color map, it INTERPRETS IT\n",
    "    \"\"\"\n",
    "    plt.imshow(img, cmap=color_map)\n",
    "    plt.xticks([]), plt.yticks([])  # to hide tick values on X and Y axis\n",
    "    plt.show()\n",
    "\n",
    "def img_show_axis(img, axis, title=None, func=identity):\n",
    "    axis.imshow(func(img))\n",
    "    axis.axis(\"off\")\n",
    "    if title is None:\n",
    "        axis.set_title(img)\n",
    "    else:\n",
    "        axis.set_title(title)\n",
    "\n",
    "def img_show_axis_values(img_path, values, figsize=(15, 5)):\n",
    "    fig, axs = plt.subplots(1, 2, figsize=figsize)\n",
    "\n",
    "    # Box 1 - Image\n",
    "    img = img_read_cv(img_path)\n",
    "    img = img_convert_color(img)\n",
    "    img_show_axis(img=img, title=img_path, axis=axs[0])\n",
    "    \n",
    "    # Box 2 - Values\n",
    "    values.plot(kind=\"barh\", figsize=figsize, ax=axs[1])\n",
    "    \n",
    "    plt.tight_layout()\n",
    "    plt.show()"
   ]
  },
  {
   "cell_type": "markdown",
   "metadata": {},
   "source": [
    "### Modify images"
   ]
  },
  {
   "cell_type": "code",
   "execution_count": null,
   "metadata": {},
   "outputs": [],
   "source": [
    "from skimage.transform import resize\n",
    "\n",
    "def resize_img(img, image_size=160):\n",
    "    \"\"\"\n",
    "    Resize an image based on a standard size\n",
    "    \"\"\"\n",
    "    return resize(img, (image_size, image_size), mode='reflect')"
   ]
  },
  {
   "cell_type": "markdown",
   "metadata": {},
   "source": [
    "## Object detection\n",
    "\n",
    "* More info for classifer at https://www.superdatascience.com/blogs/opencv-face-detection\n",
    "* More info for OpenCV modules at https://docs.opencv.org/3.4.1/modules.html"
   ]
  },
  {
   "cell_type": "code",
   "execution_count": null,
   "metadata": {},
   "outputs": [],
   "source": [
    "import cv2\n",
    "\n",
    "lbpcascade_dir = '../cascades/lbpcascades/'\n",
    "\n",
    "haarcascade_dir = '../cascades/haarcascades/'\n",
    "cascade_frontalface_alt2 = cv2.CascadeClassifier(haarcascade_dir + 'haarcascade_frontalface_alt2.xml')\n",
    "\n",
    "# https://stackoverflow.com/questions/36218385/parameters-of-detectmultiscale-in-opencv-using-python\n",
    "def detect_object(img, scale_factor=1.1, min_neighbors=5, coordinate_mapper=None, cascade=cascade_frontalface_alt2\n",
    "                 , debug=False):\n",
    "    \"\"\"\n",
    "    Detect object specified with cascade\n",
    "    \"\"\"\n",
    "    # https://docs.opencv.org/3.4.1/d1/de5/classcv_1_1CascadeClassifier.html#aaf8181cb63968136476ec4204ffca498\n",
    "    faces = cascade.detectMultiScale(img,\n",
    "                                     scaleFactor=scale_factor,\n",
    "                                     minNeighbors=min_neighbors)\n",
    "    if (debug):\n",
    "        print('Item found: ', len(faces))\n",
    "        \n",
    "    if (coordinate_mapper == None):\n",
    "        return faces\n",
    "    \n",
    "    face_collector = []\n",
    "    for (x, y, w, h) in faces:\n",
    "        face = coordinate_mapper(x, y, w, h)\n",
    "        face_collector.append(face)\n",
    "        \n",
    "    return face_collector"
   ]
  },
  {
   "cell_type": "code",
   "execution_count": null,
   "metadata": {},
   "outputs": [],
   "source": [
    "def extract_object_mapper_margin(img, margin=10, debug=False):\n",
    "    \"\"\"\n",
    "    Currying a object extractor from an input img and using (x, y, w, h)\n",
    "    \"\"\"\n",
    "    def extract_object_mapper(x, y, w, h):\n",
    "        if (debug):\n",
    "            print(x, y, w, h)\n",
    "        cropped = img[y-margin//2:y+h+margin//2,\n",
    "                      x-margin//2:x+w+margin//2, :]\n",
    "        return cropped\n",
    "    return extract_object_mapper\n",
    "\n",
    "def highlight_object_mapper_color(img, color=(0, 255, 0), debug=False):\n",
    "    \"\"\"\n",
    "    Currying a object highlighter from an input img and using (x, y, w, h)\n",
    "    \"\"\"\n",
    "    def highlight_object_mapper(x, y, w, h):\n",
    "        if (debug):\n",
    "            print(x, y, w, h)\n",
    "        cv2.rectangle(img, (x, y), (x+w, y+h), color, 3)\n",
    "    return highlight_object_mapper        "
   ]
  },
  {
   "cell_type": "code",
   "execution_count": null,
   "metadata": {},
   "outputs": [],
   "source": []
  }
 ],
 "metadata": {
  "kernelspec": {
   "display_name": "Python 3 (ipykernel)",
   "language": "python",
   "name": "python3"
  },
  "language_info": {
   "codemirror_mode": {
    "name": "ipython",
    "version": 3
   },
   "file_extension": ".py",
   "mimetype": "text/x-python",
   "name": "python",
   "nbconvert_exporter": "python",
   "pygments_lexer": "ipython3",
   "version": "3.10.10"
  }
 },
 "nbformat": 4,
 "nbformat_minor": 2
}
