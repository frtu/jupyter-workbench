{
 "cells": [
  {
   "cell_type": "code",
   "execution_count": 1,
   "metadata": {},
   "outputs": [],
   "source": [
    "%%capture\n",
    "import sys  \n",
    "!{sys.executable} -m pip install --user requests"
   ]
  },
  {
   "cell_type": "code",
   "execution_count": 2,
   "metadata": {},
   "outputs": [
    {
     "name": "stdout",
     "output_type": "stream",
     "text": [
      "3.10.10 | packaged by conda-forge | (main, Mar 24 2023, 19:56:21) [GCC 11.3.0]\n"
     ]
    }
   ],
   "source": [
    "import sys\n",
    "print(sys.version)"
   ]
  },
  {
   "cell_type": "code",
   "execution_count": 3,
   "metadata": {},
   "outputs": [],
   "source": [
    "# import Crawler : crawler for one full website\n",
    "# import Downloader: Remote download & storing to local storage\n",
    "%run /notebooks/python3-kernel/libs/crawler-class.ipynb"
   ]
  },
  {
   "cell_type": "markdown",
   "metadata": {},
   "source": [
    "# Initialization\n",
    "\n",
    "## Initialize crawler\n",
    "\n",
    "* Turn `debug=True` passing it as last parameter"
   ]
  },
  {
   "cell_type": "code",
   "execution_count": 4,
   "metadata": {},
   "outputs": [
    {
     "name": "stdout",
     "output_type": "stream",
     "text": [
      "<title>Free Download GIFs - Get the best GIF on GIPHY</title>\n"
     ]
    }
   ],
   "source": [
    "BASE_URL = \"https://giphy.com/explore/free-download\"\n",
    "\n",
    "crawler = Crawler(BASE_URL)\n",
    "soup = crawler.parseUrl(BASE_URL)\n",
    "\n",
    "print(soup.title)"
   ]
  },
  {
   "cell_type": "markdown",
   "metadata": {},
   "source": [
    "#### Filter HTML tag and normalize names"
   ]
  },
  {
   "cell_type": "code",
   "execution_count": 5,
   "metadata": {},
   "outputs": [
    {
     "data": {
      "text/plain": [
       "'Get-the-best-GIF-on-GIPHY'"
      ]
     },
     "execution_count": 5,
     "metadata": {},
     "output_type": "execute_result"
    }
   ],
   "source": [
    "def pagenameFromTag(tag):\n",
    "    return pagename(tag.text.strip())\n",
    "\n",
    "def pagename(fullname):\n",
    "    splitted_names = str(fullname).split(\"-\", 1)\n",
    "    name = splitted_names[1]\n",
    "    name = name.strip().replace(\" \", \"-\")\n",
    "    return name.strip()\n",
    "\n",
    "pagenameFromTag(soup.title)\n",
    "pagename(\"Free Download GIFs - Get the best GIF on GIPHY\")"
   ]
  },
  {
   "cell_type": "markdown",
   "metadata": {},
   "source": [
    "## Initialize Downloader\n",
    "\n",
    "Downloader help to :\n",
    "\n",
    "* retrieve content\n",
    "* organize & store them in local folder"
   ]
  },
  {
   "cell_type": "code",
   "execution_count": 6,
   "metadata": {},
   "outputs": [
    {
     "data": {
      "text/plain": [
       "'/data/crawler/Get-the-best-GIF-on-GIPHY/'"
      ]
     },
     "execution_count": 6,
     "metadata": {},
     "output_type": "execute_result"
    }
   ],
   "source": [
    "BASE_PATH=\"/data/crawler/\" + pagenameFromTag(soup.title)\n",
    "\n",
    "downloader = Downloader(BASE_PATH)\n",
    "downloader.getRootFolder()"
   ]
  },
  {
   "cell_type": "markdown",
   "metadata": {},
   "source": [
    "# Crawl & Download content"
   ]
  },
  {
   "cell_type": "code",
   "execution_count": 7,
   "metadata": {},
   "outputs": [
    {
     "data": {
      "text/plain": [
       "{'https://giphy.com/explore/free-download'}"
      ]
     },
     "execution_count": 7,
     "metadata": {},
     "output_type": "execute_result"
    }
   ],
   "source": [
    "# Load all URL found for 1 page\n",
    "page_url = BASE_URL\n",
    "\n",
    "crawler.loadUrls(page_url, \"a\", \"class\", \"^MenuLink-sc-1ftqwtj\")\n",
    "crawler.getUniqueUrls()"
   ]
  },
  {
   "cell_type": "code",
   "execution_count": null,
   "metadata": {},
   "outputs": [],
   "source": []
  }
 ],
 "metadata": {
  "kernelspec": {
   "display_name": "Python 3 (ipykernel)",
   "language": "python",
   "name": "python3"
  },
  "language_info": {
   "codemirror_mode": {
    "name": "ipython",
    "version": 3
   },
   "file_extension": ".py",
   "mimetype": "text/x-python",
   "name": "python",
   "nbconvert_exporter": "python",
   "pygments_lexer": "ipython3",
   "version": "3.10.10"
  }
 },
 "nbformat": 4,
 "nbformat_minor": 4
}
