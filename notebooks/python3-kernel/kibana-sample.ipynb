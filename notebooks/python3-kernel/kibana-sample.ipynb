{
 "cells": [
  {
   "cell_type": "markdown",
   "metadata": {},
   "source": [
    "# Kibana sample"
   ]
  },
  {
   "cell_type": "code",
   "execution_count": 1,
   "metadata": {},
   "outputs": [
    {
     "name": "stdout",
     "output_type": "stream",
     "text": [
      "Python Version :  3.8.6 | packaged by conda-forge | (default, Oct  7 2020, 19:08:05) \n",
      "[GCC 7.5.0]\n",
      "Pandas Version :  1.1.3\n"
     ]
    }
   ],
   "source": [
    "# run all code cells of the specified notebook\n",
    "%run /notebooks/python3-kernel/libs/kibana-class.ipynb"
   ]
  },
  {
   "cell_type": "code",
   "execution_count": 2,
   "metadata": {},
   "outputs": [
    {
     "data": {
      "text/plain": [
       "[{'health': 'yellow',\n",
       "  'status': 'open',\n",
       "  'index': 'fluentd-20201206',\n",
       "  'uuid': 'ZyhKFwvlT2aDw96oxXDjAg',\n",
       "  'pri': '5',\n",
       "  'rep': '1',\n",
       "  'docs.count': '1',\n",
       "  'docs.deleted': '0',\n",
       "  'store.size': '5.8kb',\n",
       "  'pri.store.size': '5.8kb'},\n",
       " {'health': 'green',\n",
       "  'status': 'open',\n",
       "  'index': '.kibana_1',\n",
       "  'uuid': '9zFlMSweRxCImsn3pbc1gw',\n",
       "  'pri': '1',\n",
       "  'rep': '0',\n",
       "  'docs.count': '4',\n",
       "  'docs.deleted': '0',\n",
       "  'store.size': '21.1kb',\n",
       "  'pri.store.size': '21.1kb'}]"
      ]
     },
     "execution_count": 2,
     "metadata": {},
     "output_type": "execute_result"
    }
   ],
   "source": [
    "hostname = \"10.0.0.11\"\n",
    "port = 5601\n",
    "\n",
    "client = KibanaClient(hostname, port)\n",
    "jsonObj = client.indices()\n",
    "jsonObj"
   ]
  },
  {
   "cell_type": "code",
   "execution_count": 3,
   "metadata": {},
   "outputs": [
    {
     "data": {
      "text/plain": [
       "{'took': 6,\n",
       " 'timed_out': False,\n",
       " '_shards': {'total': 5, 'successful': 5, 'skipped': 0, 'failed': 0},\n",
       " 'hits': {'total': 1,\n",
       "  'max_score': 0.2876821,\n",
       "  'hits': [{'_index': 'fluentd-20201206',\n",
       "    '_type': 'access_log',\n",
       "    '_id': 'ntzBN3YB7T9JKcGsJYPX',\n",
       "    '_score': 0.2876821,\n",
       "    '_source': {'worker': 0,\n",
       "     'message': 'fluentd worker is now running worker=0',\n",
       "     '@timestamp': '2020-12-06T11:12:51.081270700+00:00',\n",
       "     '@log_name': 'fluent.info'}}]}}"
      ]
     },
     "execution_count": 3,
     "metadata": {},
     "output_type": "execute_result"
    }
   ],
   "source": [
    "query = {\n",
    "      'message': 'fluentd'\n",
    "}\n",
    "jsonObj = client.searchTerms('flue*', query)\n",
    "jsonObj"
   ]
  },
  {
   "cell_type": "code",
   "execution_count": 4,
   "metadata": {},
   "outputs": [
    {
     "name": "stdout",
     "output_type": "stream",
     "text": [
      "Read url from : http://10.0.0.11:5601/api/kibana/dashboards/export?dashboard=c74072e0-37da-11eb-be73-330055ee17d8\n"
     ]
    },
    {
     "data": {
      "text/plain": [
       "{'statusCode': 404, 'error': 'Not Found', 'message': 'Not Found'}"
      ]
     },
     "execution_count": 4,
     "metadata": {},
     "output_type": "execute_result"
    }
   ],
   "source": [
    "jsonObj = client.dashboard('c74072e0-37da-11eb-be73-330055ee17d8', True)\n",
    "jsonObj"
   ]
  },
  {
   "cell_type": "code",
   "execution_count": null,
   "metadata": {
    "scrolled": true
   },
   "outputs": [],
   "source": []
  }
 ],
 "metadata": {
  "kernelspec": {
   "display_name": "Python 3",
   "language": "python",
   "name": "python3"
  },
  "language_info": {
   "codemirror_mode": {
    "name": "ipython",
    "version": 3
   },
   "file_extension": ".py",
   "mimetype": "text/x-python",
   "name": "python",
   "nbconvert_exporter": "python",
   "pygments_lexer": "ipython3",
   "version": "3.8.6"
  }
 },
 "nbformat": 4,
 "nbformat_minor": 2
}
