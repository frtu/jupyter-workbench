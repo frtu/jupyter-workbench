{
 "cells": [
  {
   "cell_type": "markdown",
   "metadata": {},
   "source": [
    "Print pandas version. IF Pandas Version > 1.0 then \n",
    "\n",
    "* from pandas.io.json import json_normalize -> from pandas import json_normalize"
   ]
  },
  {
   "cell_type": "code",
   "execution_count": 1,
   "metadata": {},
   "outputs": [
    {
     "name": "stdout",
     "output_type": "stream",
     "text": [
      "Python Version :  3.6.2 | packaged by conda-forge | (default, Jul 23 2017, 22:59:30) \n",
      "[GCC 4.8.2 20140120 (Red Hat 4.8.2-15)]\n",
      "Pandas Version :  0.23.4\n"
     ]
    }
   ],
   "source": [
    "import sys\n",
    "import pandas\n",
    "print(\"Python Version : \", sys.version)\n",
    "print(\"Pandas Version : \", pandas.__version__)"
   ]
  },
  {
   "cell_type": "code",
   "execution_count": null,
   "metadata": {
    "collapsed": true
   },
   "outputs": [],
   "source": [
    "import requests, json\n",
    "\n",
    "import pandas as pd\n",
    "from pandas.io.json import json_normalize\n",
    "\n",
    "class JaegerDataFrame:\n",
    "    '''This is the main crawler for one full website. Maintain session after login.'''\n",
    "    def __init__(self, localhost, port=16686):\n",
    "        self.base_url = \"http://{0}:{1}/api/traces/\".format(hostname, port)\n",
    "        \n",
    "    def loadTrace(self, trace_id, debug=False):\n",
    "        url = self.base_url + trace_id\n",
    "        jsonObj = self.readJsonURL(url, debug)\n",
    "        df = self.parseTraceDF(jsonObj, debug)\n",
    "        return df\n",
    "\n",
    "    def loadTraceFromFile(self, filepath, debug=False):\n",
    "        jsonObj = self.readJsonFile(filepath, debug)\n",
    "        df = self.parseTraceDF(jsonObj, debug)\n",
    "        return df\n",
    "\n",
    "    def parseTraceDF(self, jsonObj, debug=False):\n",
    "        firstData = jsonObj['data'][0]\n",
    "        if (debug):\n",
    "            print(\"Read traceID :\", firstData['traceID'])\n",
    "\n",
    "        data = firstData['spans']\n",
    "\n",
    "        if (debug):\n",
    "            print(\"Found Span numbers :\", len(data))\n",
    "\n",
    "        df = pd.DataFrame.from_dict(json_normalize(data), orient='columns')\n",
    "        return df\n",
    "    \n",
    "    def readJsonURL(self, url, debug=False):\n",
    "        '''Read JSON from URL'''\n",
    "        if (debug):\n",
    "            print(\"Read url from :\", url)\n",
    "        content = requests.get(url, allow_redirects=True)\n",
    "        jsonObj = json.loads(content.content)\n",
    "        return jsonObj\n",
    "\n",
    "    def readJsonFile(self, filepath, debug=False):\n",
    "        '''Read JSON from file'''\n",
    "        with open(filepath, 'r') as f:\n",
    "            if (debug):\n",
    "                print(\"Read file from :\", f.name)\n",
    "\n",
    "            jsonObj = json.load(f)\n",
    "            return jsonObj\n"
   ]
  }
 ],
 "metadata": {
  "kernelspec": {
   "display_name": "Python 3",
   "language": "python",
   "name": "python3"
  },
  "language_info": {
   "codemirror_mode": {
    "name": "ipython",
    "version": 3
   },
   "file_extension": ".py",
   "mimetype": "text/x-python",
   "name": "python",
   "nbconvert_exporter": "python",
   "pygments_lexer": "ipython3",
   "version": "3.6.2"
  }
 },
 "nbformat": 4,
 "nbformat_minor": 4
}
