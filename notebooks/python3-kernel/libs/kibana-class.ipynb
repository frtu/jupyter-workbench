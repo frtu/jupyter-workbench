{
 "cells": [
  {
   "cell_type": "markdown",
   "metadata": {},
   "source": [
    "Print pandas version. IF Pandas Version > 1.0 then \n",
    "\n",
    "* from pandas.io.json import json_normalize -> from pandas import json_normalize"
   ]
  },
  {
   "cell_type": "code",
   "execution_count": 1,
   "metadata": {},
   "outputs": [
    {
     "name": "stdout",
     "output_type": "stream",
     "text": [
      "Python Version :  3.6.2 | packaged by conda-forge | (default, Jul 23 2017, 22:59:30) \n",
      "[GCC 4.8.2 20140120 (Red Hat 4.8.2-15)]\n",
      "Pandas Version :  0.23.4\n"
     ]
    }
   ],
   "source": [
    "import sys\n",
    "import pandas\n",
    "print(\"Python Version : \", sys.version)\n",
    "print(\"Pandas Version : \", pandas.__version__)"
   ]
  },
  {
   "cell_type": "code",
   "execution_count": null,
   "metadata": {
    "collapsed": true
   },
   "outputs": [],
   "source": [
    "import requests, json\n",
    "\n",
    "import pandas as pd\n",
    "from pandas.io.json import json_normalize\n",
    "\n",
    "class KibanaProxyClient:\n",
    "    '''This is the Kibana Client.'''\n",
    "    def __init__(self, hostname, port=5601):\n",
    "        self.base_url = \"http://{0}:{1}/api/console/proxy\".format(hostname, port)\n",
    "        self.headers = {'kbn-xsrf': 'true'}\n",
    "\n",
    "    def loadIndices(self, debug=False):\n",
    "        jsonObj = self.readJsonURL(\"GET\", \"/_cat/indices?format=json\", debug)       \n",
    "        return jsonObj\n",
    "    \n",
    "    def readJsonURL(self, method, path, debug=False):\n",
    "        '''Read JSON from URL'''\n",
    "        url = self.base_url + \"?method={0}&path={1}\".format(method, path)\n",
    "        if (debug):\n",
    "            print(\"Read url from :\", url)\n",
    "        content = requests.post(url, headers=self.headers, allow_redirects=True)\n",
    "        jsonObj = json.loads(content.content)\n",
    "        return jsonObj\n"
   ]
  }
 ],
 "metadata": {
  "kernelspec": {
   "display_name": "Python 3",
   "language": "python",
   "name": "python3"
  },
  "language_info": {
   "codemirror_mode": {
    "name": "ipython",
    "version": 3
   },
   "file_extension": ".py",
   "mimetype": "text/x-python",
   "name": "python",
   "nbconvert_exporter": "python",
   "pygments_lexer": "ipython3",
   "version": "3.8.6"
  }
 },
 "nbformat": 4,
 "nbformat_minor": 4
}
