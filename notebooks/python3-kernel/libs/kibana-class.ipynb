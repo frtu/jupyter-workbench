{
 "cells": [
  {
   "cell_type": "markdown",
   "metadata": {},
   "source": [
    "Print pandas version. IF Pandas Version > 1.0 then \n",
    "\n",
    "* from pandas.io.json import json_normalize -> from pandas import json_normalize"
   ]
  },
  {
   "cell_type": "code",
   "execution_count": 1,
   "metadata": {},
   "outputs": [
    {
     "name": "stdout",
     "output_type": "stream",
     "text": [
      "Python Version :  3.8.6 | packaged by conda-forge | (default, Oct  7 2020, 19:08:05) \n",
      "[GCC 7.5.0]\n",
      "Pandas Version :  1.1.3\n"
     ]
    }
   ],
   "source": [
    "import sys\n",
    "import pandas\n",
    "print(\"Python Version : \", sys.version)\n",
    "print(\"Pandas Version : \", pandas.__version__)"
   ]
  },
  {
   "cell_type": "code",
   "execution_count": null,
   "metadata": {},
   "outputs": [],
   "source": [
    "import requests, json\n",
    "\n",
    "import pandas as pd\n",
    "from pandas.io.json import json_normalize\n",
    "\n",
    "class KibanaClient:\n",
    "    '''This is the Kibana Client.'''\n",
    "    def __init__(self, hostname, port=5601):\n",
    "        self.base_url = \"http://{0}:{1}\".format(hostname, port)\n",
    "        # https://www.elastic.co/guide/en/kibana/master/using-api.html#api-request-headers\n",
    "        self.headers = {'kbn-xsrf': 'true', 'Accept': 'application/json', 'Content-Type': 'application/json'}\n",
    "\n",
    "    def dashboard(self, dashboard, debug=False):\n",
    "        jsonObj = self.readJsonURL('/api/kibana/dashboards/export?dashboard={0}'.format(dashboard), \"\", debug)       \n",
    "        return jsonObj\n",
    "\n",
    "    def readJsonURL(self, path, body=\"\", debug=False):\n",
    "        '''Read JSON from URL'''\n",
    "        url = self.base_url + path\n",
    "        if (debug):\n",
    "            print(\"Read url from :\", url)\n",
    "        content = requests.post(url, headers=self.headers, data=body, allow_redirects=True)\n",
    "        jsonObj = json.loads(content.content)\n",
    "        return jsonObj\n",
    "    \n",
    "    def indices(self, debug=False):\n",
    "        jsonObj = self.readProxyURL(\"GET\", \"/_cat/indices?format=json\", debug)       \n",
    "        return jsonObj\n",
    "\n",
    "    def searchTerms(self, index, terms, debug=False):\n",
    "        query = {\n",
    "            'term': terms\n",
    "        }\n",
    "        return self.search(index, query, debug)\n",
    "    \n",
    "    def search(self, index, query, debug=False):\n",
    "        path = \"/{0}/_search\".format(index)\n",
    "        query_dict = {\n",
    "            'query': query\n",
    "        }\n",
    "        query_json = json.dumps(query_dict)\n",
    "        jsonObj = self.readProxyURL(\"POST\", path, query_json, debug)       \n",
    "        return jsonObj\n",
    "    \n",
    "\n",
    "    def readProxyURL(self, method, path, body=\"\", debug=False):\n",
    "        return self.readJsonURL('/api/console/proxy?method={0}&path={1}'.format(method, path), body, debug)\n"
   ]
  },
  {
   "cell_type": "code",
   "execution_count": null,
   "metadata": {},
   "outputs": [],
   "source": []
  }
 ],
 "metadata": {
  "kernelspec": {
   "display_name": "Python 3",
   "language": "python",
   "name": "python3"
  },
  "language_info": {
   "codemirror_mode": {
    "name": "ipython",
    "version": 3
   },
   "file_extension": ".py",
   "mimetype": "text/x-python",
   "name": "python",
   "nbconvert_exporter": "python",
   "pygments_lexer": "ipython3",
   "version": "3.8.6"
  }
 },
 "nbformat": 4,
 "nbformat_minor": 4
}
