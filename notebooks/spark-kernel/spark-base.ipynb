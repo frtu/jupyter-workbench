{
 "cells": [
  {
   "cell_type": "markdown",
   "metadata": {},
   "source": [
    "# SparkMagic"
   ]
  },
  {
   "cell_type": "code",
   "execution_count": 1,
   "metadata": {
    "collapsed": true
   },
   "outputs": [
    {
     "data": {
      "text/html": [
       "\n",
       "<table>\n",
       "  <tr>\n",
       "    <th>Magic</th>\n",
       "    <th>Example</th>\n",
       "    <th>Explanation</th>\n",
       "  </tr>\n",
       "  <tr>\n",
       "    <td>info</td>\n",
       "    <td>%%info</td>\n",
       "    <td>Outputs session information for the current Livy endpoint.</td>\n",
       "  </tr>\n",
       "  <tr>\n",
       "    <td>cleanup</td>\n",
       "    <td>%%cleanup -f</td>\n",
       "    <td>Deletes all sessions for the current Livy endpoint, including this notebook's session. The force flag is mandatory.</td>\n",
       "  </tr>\n",
       "  <tr>\n",
       "    <td>delete</td>\n",
       "    <td>%%delete -f -s 0</td>\n",
       "    <td>Deletes a session by number for the current Livy endpoint. Cannot delete this kernel's session.</td>\n",
       "  </tr>\n",
       "  <tr>\n",
       "    <td>logs</td>\n",
       "    <td>%%logs</td>\n",
       "    <td>Outputs the current session's Livy logs.</td>\n",
       "  </tr>\n",
       "  <tr>\n",
       "    <td>configure</td>\n",
       "    <td>%%configure -f<br/>{\"executorMemory\": \"1000M\", \"executorCores\": 4}</td>\n",
       "    <td>Configure the session creation parameters. The force flag is mandatory if a session has already been\n",
       "    created and the session will be dropped and recreated.<br/>Look at <a href=\"https://github.com/cloudera/livy#request-body\">\n",
       "    Livy's POST /sessions Request Body</a> for a list of valid parameters. Parameters must be passed in as a JSON string.</td>\n",
       "  </tr>\n",
       "  <tr>\n",
       "    <td>spark</td>\n",
       "    <td>%%spark -o df<br/>df = spark.read.parquet('...</td>\n",
       "    <td>Executes spark commands.\n",
       "    Parameters:\n",
       "      <ul>\n",
       "        <li>-o VAR_NAME: The Spark dataframe of name VAR_NAME will be available in the %%local Python context as a\n",
       "          <a href=\"http://pandas.pydata.org/\">Pandas</a> dataframe with the same name.</li>\n",
       "        <li>-m METHOD: Sample method, either <tt>take</tt> or <tt>sample</tt>.</li>\n",
       "        <li>-n MAXROWS: The maximum number of rows of a dataframe that will be pulled from Livy to Jupyter.\n",
       "            If this number is negative, then the number of rows will be unlimited.</li>\n",
       "        <li>-r FRACTION: Fraction used for sampling.</li>\n",
       "      </ul>\n",
       "    </td>\n",
       "  </tr>\n",
       "  <tr>\n",
       "    <td>sql</td>\n",
       "    <td>%%sql -o tables -q<br/>SHOW TABLES</td>\n",
       "    <td>Executes a SQL query against the variable sqlContext (Spark v1.x) or spark (Spark v2.x).\n",
       "    Parameters:\n",
       "      <ul>\n",
       "        <li>-o VAR_NAME: The result of the SQL query will be available in the %%local Python context as a\n",
       "          <a href=\"http://pandas.pydata.org/\">Pandas</a> dataframe.</li>\n",
       "        <li>-q: The magic will return None instead of the dataframe (no visualization).</li>\n",
       "        <li>-m, -n, -r are the same as the %%spark parameters above.</li>\n",
       "      </ul>\n",
       "    </td>\n",
       "  </tr>\n",
       "  <tr>\n",
       "    <td>local</td>\n",
       "    <td>%%local<br/>a = 1</td>\n",
       "    <td>All the code in subsequent lines will be executed locally. Code must be valid Python code.</td>\n",
       "  </tr>\n",
       "</table>\n"
      ],
      "text/plain": [
       "<IPython.core.display.HTML object>"
      ]
     },
     "metadata": {},
     "output_type": "display_data"
    }
   ],
   "source": [
    "%help"
   ]
  },
  {
   "cell_type": "code",
   "execution_count": 2,
   "metadata": {},
   "outputs": [
    {
     "data": {
      "text/html": [
       "Current session configs: <tt>{'name': 'sparkmagic-demo', 'kind': 'spark', 'executorMemory': '4G', 'executorCores': 4, 'driverMemory': '1000M', 'numExecutors': 2}</tt><br>"
      ],
      "text/plain": [
       "<IPython.core.display.HTML object>"
      ]
     },
     "metadata": {},
     "output_type": "display_data"
    },
    {
     "data": {
      "text/html": [
       "<table>\n",
       "<tr><th>ID</th><th>YARN Application ID</th><th>Kind</th><th>State</th><th>Spark UI</th><th>Driver log</th><th>Current session?</th></tr><tr><td>0</td><td>None</td><td>spark</td><td>idle</td><td></td><td></td><td></td></tr></table>"
      ],
      "text/plain": [
       "<IPython.core.display.HTML object>"
      ]
     },
     "metadata": {},
     "output_type": "display_data"
    }
   ],
   "source": [
    "%%configure -f \n",
    "{\n",
    "    \"name\":\"sparkmagic-demo\",\n",
    "    \"kind\": \"spark\",\n",
    "    \"executorMemory\": \"4G\", \n",
    "    \"executorCores\": 4,\n",
    "    \"driverMemory\": \"1000M\", \n",
    "    \"numExecutors\": 2\n",
    "}"
   ]
  },
  {
   "cell_type": "code",
   "execution_count": 3,
   "metadata": {},
   "outputs": [
    {
     "name": "stdout",
     "output_type": "stream",
     "text": [
      "Starting Spark application\n"
     ]
    },
    {
     "data": {
      "text/html": [
       "<table>\n",
       "<tr><th>ID</th><th>YARN Application ID</th><th>Kind</th><th>State</th><th>Spark UI</th><th>Driver log</th><th>Current session?</th></tr><tr><td>2</td><td>None</td><td>spark</td><td>idle</td><td></td><td></td><td>✔</td></tr></table>"
      ],
      "text/plain": [
       "<IPython.core.display.HTML object>"
      ]
     },
     "metadata": {},
     "output_type": "display_data"
    },
    {
     "name": "stdout",
     "output_type": "stream",
     "text": [
      "SparkSession available as 'spark'.\n",
      "res2: String = 2.1.0"
     ]
    }
   ],
   "source": [
    "%%spark\n",
    "\n",
    "// https://spark.apache.org/docs/2.1.0/sql-programming-guide.html\n",
    "sc.version"
   ]
  },
  {
   "cell_type": "code",
   "execution_count": 4,
   "metadata": {
    "collapsed": true
   },
   "outputs": [],
   "source": [
    "sc.setLogLevel(\"WARN\")"
   ]
  },
  {
   "cell_type": "code",
   "execution_count": 5,
   "metadata": {},
   "outputs": [
    {
     "name": "stdout",
     "output_type": "stream",
     "text": [
      "res4: String = in-memory"
     ]
    }
   ],
   "source": [
    "spark.conf.get(\"spark.sql.catalogImplementation\")"
   ]
  },
  {
   "cell_type": "code",
   "execution_count": 6,
   "metadata": {},
   "outputs": [
    {
     "name": "stdout",
     "output_type": "stream",
     "text": [
      "(spark.driver.host,172.26.0.2)\n",
      "(spark.livy.spark_major_version,2)\n",
      "(spark.driver.port,46323)\n",
      "(hive.metastore.warehouse.dir,file:/usr/spark-2.1.0/spark-warehouse/)\n",
      "(spark.repl.class.uri,spark://172.26.0.2:46323/classes)\n",
      "(spark.jars,file:/apps/livy-server-0.3.0/rsc-jars/spark-tags_2.10-2.1.0.jar,file:/apps/livy-server-0.3.0/rsc-jars/livy-api-0.3.0.jar,file:/apps/livy-server-0.3.0/rsc-jars/unused-1.0.0.jar,file:/apps/livy-server-0.3.0/rsc-jars/netty-all-4.0.29.Final.jar,file:/apps/livy-server-0.3.0/rsc-jars/livy-rsc-0.3.0.jar,file:/apps/livy-server-0.3.0/repl_2.11-jars/commons-codec-1.9.jar,file:/apps/livy-server-0.3.0/repl_2.11-jars/livy-core_2.11-0.3.0.jar,file:/apps/livy-server-0.3.0/repl_2.11-jars/livy-repl_2.11-0.3.0.jar)\n",
      "(spark.repl.class.outputDir,/tmp/spark4203135145124161345)\n",
      "(spark.app.name,sparkmagic-demo)\n",
      "(spark.driver.memory,1000M)\n",
      "(spark.executor.instances,2)\n",
      "(spark.executor.id,driver)\n",
      "(spark.submit.deployMode,client)\n",
      "(spark.yarn.maxAppAttempts,1)\n",
      "(spark.master,local)\n",
      "(spark.executor.memory,4G)\n",
      "(spark.yarn.submit.waitAppCompletion,false)\n",
      "(spark.sql.catalogImplementation,in-memory)\n",
      "(spark.executor.cores,4)\n",
      "(spark.app.id,local-1601618594774)"
     ]
    }
   ],
   "source": [
    "spark.conf.getAll.foreach(println)"
   ]
  },
  {
   "cell_type": "code",
   "execution_count": 7,
   "metadata": {},
   "outputs": [
    {
     "name": "stdout",
     "output_type": "stream",
     "text": [
      "(spark.master,local)\n",
      "(spark.sql.catalogImplementation,in-memory)\n",
      "(spark.driver.host,172.26.0.2)\n",
      "(spark.yarn.submit.waitAppCompletion,false)\n",
      "(spark.executor.id,driver)\n",
      "(spark.repl.class.uri,spark://172.26.0.2:46323/classes)\n",
      "(spark.executor.cores,4)\n",
      "(spark.jars,file:/apps/livy-server-0.3.0/rsc-jars/spark-tags_2.10-2.1.0.jar,file:/apps/livy-server-0.3.0/rsc-jars/livy-api-0.3.0.jar,file:/apps/livy-server-0.3.0/rsc-jars/unused-1.0.0.jar,file:/apps/livy-server-0.3.0/rsc-jars/netty-all-4.0.29.Final.jar,file:/apps/livy-server-0.3.0/rsc-jars/livy-rsc-0.3.0.jar,file:/apps/livy-server-0.3.0/repl_2.11-jars/commons-codec-1.9.jar,file:/apps/livy-server-0.3.0/repl_2.11-jars/livy-core_2.11-0.3.0.jar,file:/apps/livy-server-0.3.0/repl_2.11-jars/livy-repl_2.11-0.3.0.jar)\n",
      "(spark.driver.port,46323)\n",
      "(spark.yarn.maxAppAttempts,1)\n",
      "(spark.executor.instances,2)\n",
      "(spark.livy.spark_major_version,2)\n",
      "(spark.submit.deployMode,client)\n",
      "(hive.metastore.warehouse.dir,file:/usr/spark-2.1.0/spark-warehouse/)\n",
      "(spark.app.name,sparkmagic-demo)\n",
      "(spark.executor.memory,4G)\n",
      "(spark.app.id,local-1601618594774)\n",
      "(spark.repl.class.outputDir,/tmp/spark4203135145124161345)\n",
      "(spark.driver.memory,1000M)"
     ]
    }
   ],
   "source": [
    "println(sc.version)\n",
    "sc.getConf.getAll.\n",
    "    foreach(println)\n",
    "//     mkString(\"\\n\")"
   ]
  },
  {
   "cell_type": "markdown",
   "metadata": {},
   "source": [
    "# Examples"
   ]
  },
  {
   "cell_type": "code",
   "execution_count": null,
   "metadata": {
    "collapsed": true
   },
   "outputs": [],
   "source": [
    "import org.apache.spark.sql.Dataset\n",
    "import spark.sqlContext.implicits._\n",
    "\n",
    "val jsonInCSV: Dataset[String] = sc.parallelize(List(\n",
    "  \"\"\"\n",
    "    |\"a\",\"b\",\"c\",\"{\"\"x\"\":\"\"xx\"\",\"\"y\"\":\"\"yy\"\"}\"\n",
    "  \"\"\".stripMargin)).toDS()\n",
    "\n",
    "val df = spark.read.option(\"escape\", \"\\\"\").csv(jsonInCSV)\n",
    "df.show()"
   ]
  },
  {
   "cell_type": "code",
   "execution_count": 9,
   "metadata": {},
   "outputs": [
    {
     "name": "stdout",
     "output_type": "stream",
     "text": [
      "res12: String = 1978-08-19T19:08:08.788Z"
     ]
    }
   ],
   "source": [
    "val value = \"[\\\"1978-08-19T19:08:08.788Z\\\",\\\"2020-08-19T19:08:08.788Z\\\"]\"\n",
    "value.substring(2, value.indexOf(',')-1)"
   ]
  },
  {
   "cell_type": "code",
   "execution_count": 10,
   "metadata": {},
   "outputs": [
    {
     "name": "stdout",
     "output_type": "stream",
     "text": [
      "res15: Long = 1514764800000"
     ]
    }
   ],
   "source": [
    "import java.text.SimpleDateFormat\n",
    "\n",
    "val pattern = \"dd/MM/yyyy HH:mm\"\n",
    "\n",
    "val format = new SimpleDateFormat(pattern)\n",
    "format.parse(\"01/01/2018 00:00\").getTime()"
   ]
  },
  {
   "cell_type": "code",
   "execution_count": 11,
   "metadata": {},
   "outputs": [
    {
     "name": "stdout",
     "output_type": "stream",
     "text": [
      "root\n",
      " |-- stringTime: string (nullable = true)\n",
      " |-- timestamp: timestamp (nullable = true)"
     ]
    }
   ],
   "source": [
    "import java.text.SimpleDateFormat\n",
    "\n",
    "def parseDateUDF(p: String) = udf(\n",
    "  (value: String) => {\n",
    "    val dateFormat = new SimpleDateFormat(p)\n",
    "    val parsedDate = dateFormat.parse(value)\n",
    "    new java.sql.Timestamp(parsedDate.getTime())\n",
    "  }\n",
    ")\n",
    "\n",
    "val pattern = \"dd/MM/yyyy HH:mm\"\n",
    "\n",
    "// Example data\n",
    "val df = Seq(\n",
    "  Tuple1(\"01/01/2018 00:00\")\n",
    ").toDF(\"stringTime\")\n",
    "\n",
    "val newDF = df.withColumn(\"timestamp\", parseDateUDF(pattern)(df(\"stringTime\"))).orderBy(\"timestamp\")\n",
    "newDF.printSchema()"
   ]
  },
  {
   "cell_type": "markdown",
   "metadata": {},
   "source": [
    "# Data loading"
   ]
  },
  {
   "cell_type": "markdown",
   "metadata": {},
   "source": [
    "### Create DataFrame from CSV file"
   ]
  },
  {
   "cell_type": "code",
   "execution_count": 12,
   "metadata": {
    "scrolled": true
   },
   "outputs": [
    {
     "name": "stdout",
     "output_type": "stream",
     "text": [
      "df: org.apache.spark.sql.DataFrame = [date: string, pm2-5: string]"
     ]
    }
   ],
   "source": [
    "// http://spark.apache.org/docs/latest/api/python/pyspark.sql.html?highlight=dataframereader#pyspark.sql.DataFrameReader.csv\n",
    "\n",
    "val isoDatePattern = \"yyyy-MM-dd'T'HH:mm:ss.SSS'Z'\"\n",
    "val datePattern = \"dd/MM/yyyy HH:mm\"\n",
    "\n",
    "val df = spark.read.\n",
    "    option(\"header\", \"true\").\n",
    "    option(\"inferSchema\", \"true\").\n",
    "    option(\"delimiter\", \",\").\n",
    "//     option(\"timestampFormat\", datePattern).\n",
    "// Use this line if one row can have line break\n",
    "//     option(\"multiline\",true).\n",
    "// Use this line if one column has JSON confuse with delimiter \n",
    "//     option(\"escape\", \"\\\"\").\n",
    "    csv(\"file:///data/air-quality-station-2-particulate-matter-data-2018-19.csv\")"
   ]
  },
  {
   "cell_type": "code",
   "execution_count": 13,
   "metadata": {},
   "outputs": [
    {
     "name": "stdout",
     "output_type": "stream",
     "text": [
      "root\n",
      " |-- date: string (nullable = true)\n",
      " |-- pm2-5: string (nullable = true)"
     ]
    }
   ],
   "source": [
    "df.printSchema()"
   ]
  },
  {
   "cell_type": "code",
   "execution_count": 14,
   "metadata": {},
   "outputs": [
    {
     "name": "stdout",
     "output_type": "stream",
     "text": [
      "+----------------+-----+\n",
      "|            date|pm2-5|\n",
      "+----------------+-----+\n",
      "|01/01/2018 00:00|   10|\n",
      "|01/01/2018 01:00|   15|\n",
      "|01/01/2018 02:00|13.75|\n",
      "|01/01/2018 03:00|13.25|\n",
      "|01/01/2018 04:00|  5.5|\n",
      "+----------------+-----+\n",
      "only showing top 5 rows"
     ]
    }
   ],
   "source": [
    "df.show(5)"
   ]
  },
  {
   "cell_type": "code",
   "execution_count": 15,
   "metadata": {},
   "outputs": [
    {
     "name": "stdout",
     "output_type": "stream",
     "text": [
      "root\n",
      " |-- date: timestamp (nullable = true)\n",
      " |-- pm2-5: string (nullable = true)"
     ]
    }
   ],
   "source": [
    "val dfTime = df.\n",
    "    withColumn(\"date\", unix_timestamp($\"date\", datePattern).cast(\"timestamp\"))\n",
    "//     withColumn(\"timestamp\", unix_timestamp($\"date\", datePattern).cast(\"timestamp\")).\n",
    "//     drop(\"date\")\n",
    "\n",
    "dfTime.printSchema()"
   ]
  },
  {
   "cell_type": "markdown",
   "metadata": {},
   "source": [
    "### Save data into Table"
   ]
  },
  {
   "cell_type": "code",
   "execution_count": 16,
   "metadata": {
    "collapsed": true
   },
   "outputs": [],
   "source": [
    "import org.apache.spark.sql.{SQLContext, SaveMode}\n",
    "\n",
    "dfTime.write.mode(SaveMode.Overwrite).\n",
    "    saveAsTable(\"data\")"
   ]
  },
  {
   "cell_type": "markdown",
   "metadata": {},
   "source": [
    "# Tables"
   ]
  },
  {
   "cell_type": "code",
   "execution_count": 17,
   "metadata": {},
   "outputs": [
    {
     "name": "stdout",
     "output_type": "stream",
     "text": [
      "+------------+\n",
      "|databaseName|\n",
      "+------------+\n",
      "|     default|\n",
      "+------------+"
     ]
    }
   ],
   "source": [
    "val df = spark.sql(\"SHOW DATABASES\")\n",
    "df.show()"
   ]
  },
  {
   "cell_type": "code",
   "execution_count": 18,
   "metadata": {},
   "outputs": [
    {
     "name": "stdout",
     "output_type": "stream",
     "text": [
      "+----+--------+-----------+---------+-----------+\n",
      "|name|database|description|tableType|isTemporary|\n",
      "+----+--------+-----------+---------+-----------+\n",
      "|data| default|       null|  MANAGED|      false|\n",
      "+----+--------+-----------+---------+-----------+"
     ]
    }
   ],
   "source": [
    "spark.catalog.listTables(\"default\").show()"
   ]
  },
  {
   "cell_type": "markdown",
   "metadata": {},
   "source": [
    "### SparkSQL - Data query"
   ]
  },
  {
   "cell_type": "code",
   "execution_count": 19,
   "metadata": {},
   "outputs": [
    {
     "data": {
      "application/vnd.jupyter.widget-view+json": {
       "model_id": "9d0cd178b9264558b57da983a322a4ab",
       "version_major": 2,
       "version_minor": 0
      },
      "text/plain": [
       "VBox(children=(HBox(children=(HTML(value='Type:'), Button(description='Table', layout=Layout(width='70px'), st…"
      ]
     },
     "metadata": {},
     "output_type": "display_data"
    },
    {
     "data": {
      "application/vnd.jupyter.widget-view+json": {
       "model_id": "af7b30e1ae734bf0954cd80950cc999b",
       "version_major": 2,
       "version_minor": 0
      },
      "text/plain": [
       "Output()"
      ]
     },
     "metadata": {},
     "output_type": "display_data"
    }
   ],
   "source": [
    "%%sql -c sql -o pdf\n",
    "SELECT * FROM data LIMIT 2"
   ]
  },
  {
   "cell_type": "markdown",
   "metadata": {},
   "source": [
    "### Using local python"
   ]
  },
  {
   "cell_type": "markdown",
   "metadata": {},
   "source": [
    "Please make sure matplotlib & panda is install before executing following cells"
   ]
  },
  {
   "cell_type": "code",
   "execution_count": 20,
   "metadata": {
    "collapsed": true
   },
   "outputs": [],
   "source": [
    "// import sys  \n",
    "// !{sys.executable} -m pip install --user matplotlib"
   ]
  },
  {
   "cell_type": "code",
   "execution_count": 26,
   "metadata": {},
   "outputs": [
    {
     "name": "stdout",
     "output_type": "stream",
     "text": [
      "<class 'pandas.core.frame.DataFrame'>\n",
      "RangeIndex: 2 entries, 0 to 1\n",
      "Data columns (total 3 columns):\n",
      "date         2 non-null object\n",
      "pm2-5        2 non-null object\n",
      "timestamp    2 non-null datetime64[ns]\n",
      "dtypes: datetime64[ns](1), object(2)\n",
      "memory usage: 128.0+ bytes\n",
      "None\n",
      "                            date pm2-5            timestamp\n",
      "count                          2     2                    2\n",
      "unique                         2     2                    2\n",
      "top     2018-01-01T00:00:00.000Z    15  2018-01-01 00:00:00\n",
      "freq                           1     1                    1\n",
      "first                        NaN   NaN  2018-01-01 00:00:00\n",
      "last                         NaN   NaN  2018-01-01 01:00:00\n",
      "[['2018-01-01T00:00:00.000Z' '10' Timestamp('2018-01-01 00:00:00')]\n",
      " ['2018-01-01T01:00:00.000Z' '15' Timestamp('2018-01-01 01:00:00')]]\n",
      "RangeIndex(start=0, stop=2, step=1)\n"
     ]
    }
   ],
   "source": [
    "%%local\n",
    "print(pdf.info())\n",
    "print(pdf.describe())\n",
    "print(pdf.values)\n",
    "print(pdf.index)"
   ]
  },
  {
   "cell_type": "code",
   "execution_count": 21,
   "metadata": {
    "scrolled": true
   },
   "outputs": [
    {
     "data": {
      "application/vnd.jupyter.widget-view+json": {
       "model_id": "bb0cba3cab38425b9dd389a2130859d9",
       "version_major": 2,
       "version_minor": 0
      },
      "text/plain": [
       "VBox(children=(HBox(children=(HTML(value='Type:'), Button(description='Table', layout=Layout(width='70px'), st…"
      ]
     },
     "metadata": {},
     "output_type": "display_data"
    },
    {
     "data": {
      "application/vnd.jupyter.widget-view+json": {
       "model_id": "74dcec12e78b4318a1fd09eafe7433c2",
       "version_major": 2,
       "version_minor": 0
      },
      "text/plain": [
       "Output()"
      ]
     },
     "metadata": {},
     "output_type": "display_data"
    }
   ],
   "source": [
    "%%local\n",
    "import pandas as pd\n",
    "\n",
    "pdf['timestamp'] = pd.to_datetime(pdf['date'])\n",
    "pdf.head()"
   ]
  },
  {
   "cell_type": "code",
   "execution_count": 22,
   "metadata": {},
   "outputs": [
    {
     "name": "stdout",
     "output_type": "stream",
     "text": [
      "object -> object -> datetime64[ns]\n"
     ]
    }
   ],
   "source": [
    "%%local\n",
    "print(pdf['date'].dtypes, \"->\", pdf['pm2-5'].dtypes, \"->\", pdf['timestamp'].dtypes)"
   ]
  },
  {
   "cell_type": "code",
   "execution_count": 23,
   "metadata": {},
   "outputs": [
    {
     "data": {
      "image/png": "[encoded data removed]",
      "text/plain": [
       "<Figure size 432x288 with 1 Axes>"
      ]
     },
     "metadata": {},
     "output_type": "display_data"
    }
   ],
   "source": [
    "%%local\n",
    "%matplotlib inline\n",
    "\n",
    "import matplotlib.pyplot as plt\n",
    "import numpy as np\n",
    "\n",
    "plt.plot(pdf['date'], pdf['pm2-5'], color='red')\n",
    "plt.gcf().autofmt_xdate()\n",
    "plt.show()"
   ]
  },
  {
   "cell_type": "code",
   "execution_count": 25,
   "metadata": {},
   "outputs": [
    {
     "data": {
      "image/png": "[encoded data removed]",
      "text/plain": [
       "<Figure size 360x360 with 1 Axes>"
      ]
     },
     "metadata": {},
     "output_type": "display_data"
    }
   ],
   "source": [
    "%%local\n",
    "import matplotlib.pyplot as plt\n",
    "import seaborn as sns   \n",
    "\n",
    "sns.catplot(x ='date', y ='pm2-5', data = pdf, kind='strip')\n",
    "plt.show() "
   ]
  },
  {
   "cell_type": "code",
   "execution_count": null,
   "metadata": {
    "collapsed": true
   },
   "outputs": [],
   "source": []
  }
 ],
 "metadata": {
  "kernelspec": {
   "display_name": "Spark",
   "language": "",
   "name": "sparkkernel"
  },
  "language_info": {
   "codemirror_mode": "text/x-scala",
   "mimetype": "text/x-scala",
   "name": "scala",
   "pygments_lexer": "scala"
  }
 },
 "nbformat": 4,
 "nbformat_minor": 2
}
