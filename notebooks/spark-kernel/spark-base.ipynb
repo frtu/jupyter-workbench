{
 "cells": [
  {
   "cell_type": "markdown",
   "metadata": {},
   "source": [
    "# SparkMagic"
   ]
  },
  {
   "cell_type": "code",
   "execution_count": 1,
   "metadata": {
    "collapsed": true
   },
   "outputs": [
    {
     "data": {
      "text/html": [
       "\n",
       "<table>\n",
       "  <tr>\n",
       "    <th>Magic</th>\n",
       "    <th>Example</th>\n",
       "    <th>Explanation</th>\n",
       "  </tr>\n",
       "  <tr>\n",
       "    <td>info</td>\n",
       "    <td>%%info</td>\n",
       "    <td>Outputs session information for the current Livy endpoint.</td>\n",
       "  </tr>\n",
       "  <tr>\n",
       "    <td>cleanup</td>\n",
       "    <td>%%cleanup -f</td>\n",
       "    <td>Deletes all sessions for the current Livy endpoint, including this notebook's session. The force flag is mandatory.</td>\n",
       "  </tr>\n",
       "  <tr>\n",
       "    <td>delete</td>\n",
       "    <td>%%delete -f -s 0</td>\n",
       "    <td>Deletes a session by number for the current Livy endpoint. Cannot delete this kernel's session.</td>\n",
       "  </tr>\n",
       "  <tr>\n",
       "    <td>logs</td>\n",
       "    <td>%%logs</td>\n",
       "    <td>Outputs the current session's Livy logs.</td>\n",
       "  </tr>\n",
       "  <tr>\n",
       "    <td>configure</td>\n",
       "    <td>%%configure -f<br/>{\"executorMemory\": \"1000M\", \"executorCores\": 4}</td>\n",
       "    <td>Configure the session creation parameters. The force flag is mandatory if a session has already been\n",
       "    created and the session will be dropped and recreated.<br/>Look at <a href=\"https://github.com/cloudera/livy#request-body\">\n",
       "    Livy's POST /sessions Request Body</a> for a list of valid parameters. Parameters must be passed in as a JSON string.</td>\n",
       "  </tr>\n",
       "  <tr>\n",
       "    <td>spark</td>\n",
       "    <td>%%spark -o df<br/>df = spark.read.parquet('...</td>\n",
       "    <td>Executes spark commands.\n",
       "    Parameters:\n",
       "      <ul>\n",
       "        <li>-o VAR_NAME: The Spark dataframe of name VAR_NAME will be available in the %%local Python context as a\n",
       "          <a href=\"http://pandas.pydata.org/\">Pandas</a> dataframe with the same name.</li>\n",
       "        <li>-m METHOD: Sample method, either <tt>take</tt> or <tt>sample</tt>.</li>\n",
       "        <li>-n MAXROWS: The maximum number of rows of a dataframe that will be pulled from Livy to Jupyter.\n",
       "            If this number is negative, then the number of rows will be unlimited.</li>\n",
       "        <li>-r FRACTION: Fraction used for sampling.</li>\n",
       "      </ul>\n",
       "    </td>\n",
       "  </tr>\n",
       "  <tr>\n",
       "    <td>sql</td>\n",
       "    <td>%%sql -o tables -q<br/>SHOW TABLES</td>\n",
       "    <td>Executes a SQL query against the variable sqlContext (Spark v1.x) or spark (Spark v2.x).\n",
       "    Parameters:\n",
       "      <ul>\n",
       "        <li>-o VAR_NAME: The result of the SQL query will be available in the %%local Python context as a\n",
       "          <a href=\"http://pandas.pydata.org/\">Pandas</a> dataframe.</li>\n",
       "        <li>-q: The magic will return None instead of the dataframe (no visualization).</li>\n",
       "        <li>-m, -n, -r are the same as the %%spark parameters above.</li>\n",
       "      </ul>\n",
       "    </td>\n",
       "  </tr>\n",
       "  <tr>\n",
       "    <td>local</td>\n",
       "    <td>%%local<br/>a = 1</td>\n",
       "    <td>All the code in subsequent lines will be executed locally. Code must be valid Python code.</td>\n",
       "  </tr>\n",
       "</table>\n"
      ],
      "text/plain": [
       "<IPython.core.display.HTML object>"
      ]
     },
     "metadata": {},
     "output_type": "display_data"
    }
   ],
   "source": [
    "%help"
   ]
  },
  {
   "cell_type": "code",
   "execution_count": 2,
   "metadata": {},
   "outputs": [
    {
     "data": {
      "text/html": [
       "Current session configs: <tt>{'name': 'sparkmagic-demo', 'kind': 'spark', 'executorMemory': '4G', 'executorCores': 4, 'driverMemory': '1000M', 'numExecutors': 2}</tt><br>"
      ],
      "text/plain": [
       "<IPython.core.display.HTML object>"
      ]
     },
     "metadata": {},
     "output_type": "display_data"
    },
    {
     "data": {
      "text/html": [
       "<table>\n",
       "<tr><th>ID</th><th>YARN Application ID</th><th>Kind</th><th>State</th><th>Spark UI</th><th>Driver log</th><th>Current session?</th></tr><tr><td>0</td><td>None</td><td>spark</td><td>idle</td><td></td><td></td><td></td></tr></table>"
      ],
      "text/plain": [
       "<IPython.core.display.HTML object>"
      ]
     },
     "metadata": {},
     "output_type": "display_data"
    }
   ],
   "source": [
    "%%configure -f \n",
    "{\n",
    "    \"name\":\"sparkmagic-demo\",\n",
    "    \"kind\": \"spark\",\n",
    "    \"executorMemory\": \"4G\", \n",
    "    \"executorCores\": 4,\n",
    "    \"driverMemory\": \"1000M\", \n",
    "    \"numExecutors\": 2\n",
    "}"
   ]
  },
  {
   "cell_type": "code",
   "execution_count": 3,
   "metadata": {},
   "outputs": [
    {
     "name": "stdout",
     "output_type": "stream",
     "text": [
      "Starting Spark application\n"
     ]
    },
    {
     "data": {
      "text/html": [
       "<table>\n",
       "<tr><th>ID</th><th>YARN Application ID</th><th>Kind</th><th>State</th><th>Spark UI</th><th>Driver log</th><th>Current session?</th></tr><tr><td>4</td><td>None</td><td>spark</td><td>idle</td><td></td><td></td><td>✔</td></tr></table>"
      ],
      "text/plain": [
       "<IPython.core.display.HTML object>"
      ]
     },
     "metadata": {},
     "output_type": "display_data"
    },
    {
     "name": "stdout",
     "output_type": "stream",
     "text": [
      "SparkSession available as 'spark'.\n",
      "res2: String = 2.1.0"
     ]
    }
   ],
   "source": [
    "%%spark\n",
    "\n",
    "// https://spark.apache.org/docs/2.1.0/sql-programming-guide.html\n",
    "sc.version"
   ]
  },
  {
   "cell_type": "code",
   "execution_count": 4,
   "metadata": {
    "collapsed": true
   },
   "outputs": [],
   "source": [
    "sc.setLogLevel(\"WARN\")"
   ]
  },
  {
   "cell_type": "code",
   "execution_count": 5,
   "metadata": {},
   "outputs": [
    {
     "name": "stdout",
     "output_type": "stream",
     "text": [
      "res4: String = in-memory"
     ]
    }
   ],
   "source": [
    "spark.conf.get(\"spark.sql.catalogImplementation\")"
   ]
  },
  {
   "cell_type": "code",
   "execution_count": 6,
   "metadata": {},
   "outputs": [
    {
     "name": "stdout",
     "output_type": "stream",
     "text": [
      "(spark.driver.host,172.26.0.2)\n",
      "(spark.livy.spark_major_version,2)\n",
      "(spark.driver.port,44361)\n",
      "(hive.metastore.warehouse.dir,file:/usr/spark-2.1.0/spark-warehouse/)\n",
      "(spark.repl.class.uri,spark://172.26.0.2:44361/classes)\n",
      "(spark.jars,file:/apps/livy-server-0.3.0/rsc-jars/spark-tags_2.10-2.1.0.jar,file:/apps/livy-server-0.3.0/rsc-jars/livy-api-0.3.0.jar,file:/apps/livy-server-0.3.0/rsc-jars/unused-1.0.0.jar,file:/apps/livy-server-0.3.0/rsc-jars/netty-all-4.0.29.Final.jar,file:/apps/livy-server-0.3.0/rsc-jars/livy-rsc-0.3.0.jar,file:/apps/livy-server-0.3.0/repl_2.11-jars/commons-codec-1.9.jar,file:/apps/livy-server-0.3.0/repl_2.11-jars/livy-core_2.11-0.3.0.jar,file:/apps/livy-server-0.3.0/repl_2.11-jars/livy-repl_2.11-0.3.0.jar)\n",
      "(spark.repl.class.outputDir,/tmp/spark8946122617118081304)\n",
      "(spark.app.name,sparkmagic-demo)\n",
      "(spark.driver.memory,1000M)\n",
      "(spark.executor.instances,2)\n",
      "(spark.executor.id,driver)\n",
      "(spark.submit.deployMode,client)\n",
      "(spark.yarn.maxAppAttempts,1)\n",
      "(spark.master,local)\n",
      "(spark.executor.memory,4G)\n",
      "(spark.yarn.submit.waitAppCompletion,false)\n",
      "(spark.sql.catalogImplementation,in-memory)\n",
      "(spark.executor.cores,4)\n",
      "(spark.app.id,local-1601693000327)"
     ]
    }
   ],
   "source": [
    "spark.conf.getAll.foreach(println)"
   ]
  },
  {
   "cell_type": "code",
   "execution_count": 7,
   "metadata": {},
   "outputs": [
    {
     "name": "stdout",
     "output_type": "stream",
     "text": [
      "(spark.master,local)\n",
      "(spark.repl.class.outputDir,/tmp/spark8946122617118081304)\n",
      "(spark.sql.catalogImplementation,in-memory)\n",
      "(spark.driver.host,172.26.0.2)\n",
      "(spark.yarn.submit.waitAppCompletion,false)\n",
      "(spark.executor.id,driver)\n",
      "(spark.executor.cores,4)\n",
      "(spark.repl.class.uri,spark://172.26.0.2:44361/classes)\n",
      "(spark.jars,file:/apps/livy-server-0.3.0/rsc-jars/spark-tags_2.10-2.1.0.jar,file:/apps/livy-server-0.3.0/rsc-jars/livy-api-0.3.0.jar,file:/apps/livy-server-0.3.0/rsc-jars/unused-1.0.0.jar,file:/apps/livy-server-0.3.0/rsc-jars/netty-all-4.0.29.Final.jar,file:/apps/livy-server-0.3.0/rsc-jars/livy-rsc-0.3.0.jar,file:/apps/livy-server-0.3.0/repl_2.11-jars/commons-codec-1.9.jar,file:/apps/livy-server-0.3.0/repl_2.11-jars/livy-core_2.11-0.3.0.jar,file:/apps/livy-server-0.3.0/repl_2.11-jars/livy-repl_2.11-0.3.0.jar)\n",
      "(spark.yarn.maxAppAttempts,1)\n",
      "(spark.driver.port,44361)\n",
      "(spark.executor.instances,2)\n",
      "(spark.app.id,local-1601693000327)\n",
      "(spark.livy.spark_major_version,2)\n",
      "(spark.submit.deployMode,client)\n",
      "(hive.metastore.warehouse.dir,file:/usr/spark-2.1.0/spark-warehouse/)\n",
      "(spark.app.name,sparkmagic-demo)\n",
      "(spark.executor.memory,4G)\n",
      "(spark.driver.memory,1000M)"
     ]
    }
   ],
   "source": [
    "println(sc.version)\n",
    "sc.getConf.getAll.\n",
    "    foreach(println)\n",
    "//     mkString(\"\\n\")"
   ]
  },
  {
   "cell_type": "markdown",
   "metadata": {},
   "source": [
    "# Examples"
   ]
  },
  {
   "cell_type": "code",
   "execution_count": 8,
   "metadata": {},
   "outputs": [
    {
     "name": "stderr",
     "output_type": "stream",
     "text": [
      "<console>:32: error: overloaded method value csv with alternatives:\n",
      "  (paths: String*)org.apache.spark.sql.DataFrame <and>\n",
      "  (path: String)org.apache.spark.sql.DataFrame\n",
      " cannot be applied to (org.apache.spark.sql.Dataset[String])\n",
      "       val df = spark.read.option(\"escape\", \"\\\"\").csv(jsonInCSV)\n",
      "                                                  ^\n"
     ]
    }
   ],
   "source": [
    "import org.apache.spark.sql.Dataset\n",
    "import spark.sqlContext.implicits._\n",
    "\n",
    "val jsonInCSV: Dataset[String] = sc.parallelize(List(\n",
    "  \"\"\"\n",
    "    |\"a\",\"b\",\"c\",\"{\"\"x\"\":\"\"xx\"\",\"\"y\"\":\"\"yy\"\"}\"\n",
    "  \"\"\".stripMargin)).toDS()\n",
    "\n",
    "val df = spark.read.option(\"escape\", \"\\\"\").csv(jsonInCSV)\n",
    "df.show()"
   ]
  },
  {
   "cell_type": "code",
   "execution_count": 9,
   "metadata": {},
   "outputs": [
    {
     "name": "stdout",
     "output_type": "stream",
     "text": [
      "res12: String = 1978-08-19T19:08:08.788Z"
     ]
    }
   ],
   "source": [
    "val value = \"[\\\"1978-08-19T19:08:08.788Z\\\",\\\"2020-08-19T19:08:08.788Z\\\"]\"\n",
    "value.substring(2, value.indexOf(',')-1)"
   ]
  },
  {
   "cell_type": "code",
   "execution_count": 10,
   "metadata": {},
   "outputs": [
    {
     "name": "stdout",
     "output_type": "stream",
     "text": [
      "res15: Long = 1514764800000"
     ]
    }
   ],
   "source": [
    "import java.text.SimpleDateFormat\n",
    "\n",
    "val pattern = \"dd/MM/yyyy HH:mm\"\n",
    "\n",
    "val format = new SimpleDateFormat(pattern)\n",
    "format.parse(\"01/01/2018 00:00\").getTime()"
   ]
  },
  {
   "cell_type": "code",
   "execution_count": 11,
   "metadata": {},
   "outputs": [
    {
     "name": "stdout",
     "output_type": "stream",
     "text": [
      "root\n",
      " |-- stringTime: string (nullable = true)\n",
      " |-- timestamp: timestamp (nullable = true)"
     ]
    }
   ],
   "source": [
    "import java.text.SimpleDateFormat\n",
    "\n",
    "def parseDateUDF(p: String) = udf(\n",
    "  (value: String) => {\n",
    "    val dateFormat = new SimpleDateFormat(p)\n",
    "    val parsedDate = dateFormat.parse(value)\n",
    "    new java.sql.Timestamp(parsedDate.getTime())\n",
    "  }\n",
    ")\n",
    "\n",
    "val pattern = \"dd/MM/yyyy HH:mm\"\n",
    "\n",
    "// Example data\n",
    "val df = Seq(\n",
    "  Tuple1(\"01/01/2018 00:00\")\n",
    ").toDF(\"stringTime\")\n",
    "\n",
    "val newDF = df.withColumn(\"timestamp\", parseDateUDF(pattern)(df(\"stringTime\"))).orderBy(\"timestamp\")\n",
    "newDF.printSchema()"
   ]
  },
  {
   "cell_type": "markdown",
   "metadata": {},
   "source": [
    "# Data loading"
   ]
  },
  {
   "cell_type": "markdown",
   "metadata": {},
   "source": [
    "### Create DataFrame from CSV file"
   ]
  },
  {
   "cell_type": "code",
   "execution_count": 30,
   "metadata": {
    "scrolled": true
   },
   "outputs": [
    {
     "name": "stdout",
     "output_type": "stream",
     "text": [
      "df: org.apache.spark.sql.DataFrame = [Province/State: string, Country/Region: string ... 8 more fields]"
     ]
    }
   ],
   "source": [
    "// http://spark.apache.org/docs/latest/api/python/pyspark.sql.html?highlight=dataframereader#pyspark.sql.DataFrameReader.csv\n",
    "\n",
    "val isoDatePattern = \"yyyy-MM-dd'T'HH:mm:ss.SSS'Z'\"\n",
    "val datePattern = \"yyyy-MM-dd HH:mm:ss.SSS\"\n",
    "\n",
    "val df = spark.read.\n",
    "    option(\"header\", \"true\").\n",
    "    option(\"inferSchema\", \"true\").\n",
    "    option(\"delimiter\", \",\").\n",
    "// Use this line to allow detect Date type\n",
    "//     option(\"timestampFormat\", datePattern).\n",
    "// Use this line if one row can have line break\n",
    "//     option(\"multiline\",true).\n",
    "// Use this line if one column has JSON confuse with delimiter \n",
    "//     option(\"escape\", \"\\\"\").\n",
    "    csv(\"file:///data/time_series_covid19_deaths_global_narrow.csv\")"
   ]
  },
  {
   "cell_type": "code",
   "execution_count": 31,
   "metadata": {},
   "outputs": [
    {
     "name": "stdout",
     "output_type": "stream",
     "text": [
      "root\n",
      " |-- Province/State: string (nullable = true)\n",
      " |-- Country/Region: string (nullable = true)\n",
      " |-- Lat: double (nullable = true)\n",
      " |-- Long: double (nullable = true)\n",
      " |-- Date: timestamp (nullable = true)\n",
      " |-- Value: integer (nullable = true)\n",
      " |-- ISO 3166-1 Alpha 3-Codes: string (nullable = true)\n",
      " |-- Region Code: integer (nullable = true)\n",
      " |-- Sub-region Code: integer (nullable = true)\n",
      " |-- Intermediate Region Code: integer (nullable = true)"
     ]
    }
   ],
   "source": [
    "df.printSchema()"
   ]
  },
  {
   "cell_type": "code",
   "execution_count": 32,
   "metadata": {},
   "outputs": [
    {
     "name": "stdout",
     "output_type": "stream",
     "text": [
      "+--------------+--------------+--------+---------+---------------------+-----+------------------------+-----------+---------------+------------------------+\n",
      "|Province/State|Country/Region|Lat     |Long     |Date                 |Value|ISO 3166-1 Alpha 3-Codes|Region Code|Sub-region Code|Intermediate Region Code|\n",
      "+--------------+--------------+--------+---------+---------------------+-----+------------------------+-----------+---------------+------------------------+\n",
      "|null          |Afghanistan   |33.93911|67.709953|2020-10-01 00:00:00.0|1458 |AFG                     |142        |34             |null                    |\n",
      "+--------------+--------------+--------+---------+---------------------+-----+------------------------+-----------+---------------+------------------------+\n",
      "only showing top 1 row"
     ]
    }
   ],
   "source": [
    "df.show(1, false)"
   ]
  },
  {
   "cell_type": "markdown",
   "metadata": {},
   "source": [
    "### Type conversion"
   ]
  },
  {
   "cell_type": "code",
   "execution_count": 33,
   "metadata": {},
   "outputs": [
    {
     "name": "stdout",
     "output_type": "stream",
     "text": [
      "root\n",
      " |-- Province/State: string (nullable = true)\n",
      " |-- Country/Region: string (nullable = true)\n",
      " |-- Lat: double (nullable = true)\n",
      " |-- Long: double (nullable = true)\n",
      " |-- Date: timestamp (nullable = true)\n",
      " |-- Value: integer (nullable = true)\n",
      " |-- iso_country_code: string (nullable = true)\n",
      " |-- Region Code: integer (nullable = true)\n",
      " |-- Sub-region Code: integer (nullable = true)\n",
      " |-- Intermediate Region Code: integer (nullable = true)"
     ]
    }
   ],
   "source": [
    "val cleanDf = df.withColumnRenamed(\"ISO 3166-1 Alpha 3-Codes\", \"iso_country_code\")\n",
    "cleanDf.printSchema()"
   ]
  },
  {
   "cell_type": "code",
   "execution_count": 16,
   "metadata": {},
   "outputs": [
    {
     "name": "stdout",
     "output_type": "stream",
     "text": [
      "root\n",
      " |-- Province/State: string (nullable = true)\n",
      " |-- Country/Region: string (nullable = true)\n",
      " |-- Lat: double (nullable = true)\n",
      " |-- Long: double (nullable = true)\n",
      " |-- date: timestamp (nullable = true)\n",
      " |-- Value: integer (nullable = true)\n",
      " |-- ISO 3166-1 Alpha 3-Codes: string (nullable = true)\n",
      " |-- Region Code: integer (nullable = true)\n",
      " |-- Sub-region Code: integer (nullable = true)\n",
      " |-- Intermediate Region Code: integer (nullable = true)"
     ]
    }
   ],
   "source": [
    "val cleanDf = df.\n",
    "    withColumn(\"date\", unix_timestamp($\"date\", datePattern).cast(\"timestamp\"))\n",
    "//     withColumn(\"timestamp\", unix_timestamp($\"date\", datePattern).cast(\"timestamp\")).\n",
    "//     drop(\"date\")\n",
    "\n",
    "cleanDf.printSchema()"
   ]
  },
  {
   "cell_type": "markdown",
   "metadata": {},
   "source": [
    "### Data processing - By Time Window"
   ]
  },
  {
   "cell_type": "code",
   "execution_count": 34,
   "metadata": {},
   "outputs": [
    {
     "name": "stdout",
     "output_type": "stream",
     "text": [
      "res55: Long = 8246"
     ]
    }
   ],
   "source": [
    "// Assess the size first\n",
    "cleanDf.filter(cleanDf(\"Date\").gt(lit(\"2020-09-01\"))).count()"
   ]
  },
  {
   "cell_type": "code",
   "execution_count": 37,
   "metadata": {},
   "outputs": [
    {
     "name": "stdout",
     "output_type": "stream",
     "text": [
      "+----------------+---------------------------------------------+----------+\n",
      "|iso_country_code|window                                       |casualties|\n",
      "+----------------+---------------------------------------------+----------+\n",
      "|NGA             |[2020-10-01 00:00:00.0,2020-10-01 06:00:00.0]|1112      |\n",
      "|SLE             |[2020-10-01 00:00:00.0,2020-10-01 06:00:00.0]|72        |\n",
      "|ESP             |[2020-10-01 00:00:00.0,2020-10-01 06:00:00.0]|31973     |\n",
      "|ZWE             |[2020-10-01 00:00:00.0,2020-10-01 06:00:00.0]|228       |\n",
      "|HND             |[2020-10-01 00:00:00.0,2020-10-01 06:00:00.0]|2380      |\n",
      "|LVA             |[2020-10-01 00:00:00.0,2020-10-01 06:00:00.0]|37        |\n",
      "|BOL             |[2020-10-01 00:00:00.0,2020-10-01 06:00:00.0]|8001      |\n",
      "|MWI             |[2020-10-01 00:00:00.0,2020-10-01 06:00:00.0]|179       |\n",
      "|AGO             |[2020-10-01 00:00:00.0,2020-10-01 06:00:00.0]|185       |\n",
      "|LIE             |[2020-10-01 00:00:00.0,2020-10-01 06:00:00.0]|1         |\n",
      "|MRT             |[2020-10-01 00:00:00.0,2020-10-01 06:00:00.0]|161       |\n",
      "|TLS             |[2020-10-01 00:00:00.0,2020-10-01 06:00:00.0]|0         |\n",
      "|MOZ             |[2020-10-01 00:00:00.0,2020-10-01 06:00:00.0]|62        |\n",
      "|GAB             |[2020-10-01 00:00:00.0,2020-10-01 06:00:00.0]|54        |\n",
      "|SSD             |[2020-10-01 00:00:00.0,2020-10-01 06:00:00.0]|49        |\n",
      "|PYF             |[2020-10-01 00:00:00.0,2020-10-01 06:00:00.0]|7         |\n",
      "|STP             |[2020-10-01 00:00:00.0,2020-10-01 06:00:00.0]|15        |\n",
      "|COD             |[2020-10-01 00:00:00.0,2020-10-01 06:00:00.0]|272       |\n",
      "|LUX             |[2020-10-01 00:00:00.0,2020-10-01 06:00:00.0]|125       |\n",
      "|ITA             |[2020-10-01 00:00:00.0,2020-10-01 06:00:00.0]|35918     |\n",
      "+----------------+---------------------------------------------+----------+\n",
      "only showing top 20 rows"
     ]
    }
   ],
   "source": [
    "// filter data where the date is greater than 2020-09-01\n",
    "val tsDF = cleanDf.filter(cleanDf(\"Date\").gt(lit(\"2020-09-01\"))).\n",
    "    groupBy($\"iso_country_code\", window($\"Date\", \"6 hours\")).\n",
    "    agg(sum('Value) as \"casualties\").\n",
    "    orderBy(desc(\"window.start\"))\n",
    "\n",
    "tsDF.\n",
    "    show(false)"
   ]
  },
  {
   "cell_type": "markdown",
   "metadata": {},
   "source": [
    "### Save data into Table"
   ]
  },
  {
   "cell_type": "code",
   "execution_count": 38,
   "metadata": {},
   "outputs": [],
   "source": [
    "import org.apache.spark.sql.{SQLContext, SaveMode}\n",
    "\n",
    "tsDF.write.mode(SaveMode.Overwrite).\n",
    "    saveAsTable(\"data\")"
   ]
  },
  {
   "cell_type": "markdown",
   "metadata": {},
   "source": [
    "# Tables"
   ]
  },
  {
   "cell_type": "code",
   "execution_count": 20,
   "metadata": {},
   "outputs": [
    {
     "name": "stdout",
     "output_type": "stream",
     "text": [
      "+------------+\n",
      "|databaseName|\n",
      "+------------+\n",
      "|     default|\n",
      "+------------+"
     ]
    }
   ],
   "source": [
    "spark.sql(\"SHOW DATABASES\").show()"
   ]
  },
  {
   "cell_type": "code",
   "execution_count": 21,
   "metadata": {},
   "outputs": [
    {
     "name": "stdout",
     "output_type": "stream",
     "text": [
      "+----+--------+-----------+---------+-----------+\n",
      "|name|database|description|tableType|isTemporary|\n",
      "+----+--------+-----------+---------+-----------+\n",
      "+----+--------+-----------+---------+-----------+"
     ]
    }
   ],
   "source": [
    "spark.catalog.listTables(\"default\").show()"
   ]
  },
  {
   "cell_type": "markdown",
   "metadata": {},
   "source": [
    "### SparkSQL - Data query"
   ]
  },
  {
   "cell_type": "code",
   "execution_count": 39,
   "metadata": {},
   "outputs": [
    {
     "data": {
      "application/vnd.jupyter.widget-view+json": {
       "model_id": "0f520a793ec845dd8439f1b71c3a5917",
       "version_major": 2,
       "version_minor": 0
      },
      "text/plain": [
       "VBox(children=(HBox(children=(HTML(value='Type:'), Button(description='Table', layout=Layout(width='70px'), st…"
      ]
     },
     "metadata": {},
     "output_type": "display_data"
    },
    {
     "data": {
      "application/vnd.jupyter.widget-view+json": {
       "model_id": "5826e0080efd4b0bb6b480036c60966c",
       "version_major": 2,
       "version_minor": 0
      },
      "text/plain": [
       "Output()"
      ]
     },
     "metadata": {},
     "output_type": "display_data"
    }
   ],
   "source": [
    "%%sql -c sql -o pdf\n",
    "SELECT window.start as time, iso_country_code, casualties \n",
    "FROM data\n",
    "WHERE iso_country_code = 'FRA'\n",
    "ORDER BY time"
   ]
  },
  {
   "cell_type": "code",
   "execution_count": 40,
   "metadata": {},
   "outputs": [
    {
     "data": {
      "application/vnd.jupyter.widget-view+json": {
       "model_id": "70b82b3fca7e468f9932d658c56d7f94",
       "version_major": 2,
       "version_minor": 0
      },
      "text/plain": [
       "VBox(children=(HBox(children=(HTML(value='Type:'), Button(description='Table', layout=Layout(width='70px'), st…"
      ]
     },
     "metadata": {},
     "output_type": "display_data"
    },
    {
     "data": {
      "application/vnd.jupyter.widget-view+json": {
       "model_id": "22ca4248ec2e4c3b86c4c23c17d1946d",
       "version_major": 2,
       "version_minor": 0
      },
      "text/plain": [
       "Output()"
      ]
     },
     "metadata": {},
     "output_type": "display_data"
    }
   ],
   "source": [
    "%%sql\n",
    "SELECT DAY(window.start) as day, SUM(casualties) as daily_casualties\n",
    "FROM data\n",
    "WHERE iso_country_code = 'FRA'\n",
    "GROUP BY DAY(window.start)\n",
    "ORDER BY day"
   ]
  },
  {
   "cell_type": "markdown",
   "metadata": {},
   "source": [
    "### Using local python"
   ]
  },
  {
   "cell_type": "markdown",
   "metadata": {},
   "source": [
    "Please make sure matplotlib & panda is install before executing following cells"
   ]
  },
  {
   "cell_type": "code",
   "execution_count": 24,
   "metadata": {
    "collapsed": true
   },
   "outputs": [],
   "source": [
    "// import sys  \n",
    "// !{sys.executable} -m pip install --user matplotlib"
   ]
  },
  {
   "cell_type": "code",
   "execution_count": 41,
   "metadata": {},
   "outputs": [
    {
     "name": "stdout",
     "output_type": "stream",
     "text": [
      "<class 'pandas.core.frame.DataFrame'>\n",
      "RangeIndex: 31 entries, 0 to 30\n",
      "Data columns (total 3 columns):\n",
      "time                31 non-null object\n",
      "iso_country_code    31 non-null object\n",
      "casualties          31 non-null int64\n",
      "dtypes: int64(1), object(2)\n",
      "memory usage: 824.0+ bytes\n",
      "None\n",
      "         casualties\n",
      "count     31.000000\n",
      "mean   31001.129032\n",
      "std      412.766499\n",
      "min    30518.000000\n",
      "25%    30628.000000\n",
      "50%    30884.000000\n",
      "75%    31292.500000\n",
      "max    31816.000000\n",
      "[['2020-09-01T00:00:00.000Z' 'FRA' 30518]\n",
      " ['2020-09-02T00:00:00.000Z' 'FRA' 30539]\n",
      " ['2020-09-03T00:00:00.000Z' 'FRA' 30559]\n",
      " ['2020-09-04T00:00:00.000Z' 'FRA' 30576]\n",
      " ['2020-09-05T00:00:00.000Z' 'FRA' 30575]\n",
      " ['2020-09-06T00:00:00.000Z' 'FRA' 30573]\n",
      " ['2020-09-07T00:00:00.000Z' 'FRA' 30575]\n",
      " ['2020-09-08T00:00:00.000Z' 'FRA' 30613]\n",
      " ['2020-09-09T00:00:00.000Z' 'FRA' 30643]\n",
      " ['2020-09-10T00:00:00.000Z' 'FRA' 30656]\n",
      " ['2020-09-11T00:00:00.000Z' 'FRA' 30735]\n",
      " ['2020-09-12T00:00:00.000Z' 'FRA' 30735]\n",
      " ['2020-09-13T00:00:00.000Z' 'FRA' 30735]\n",
      " ['2020-09-14T00:00:00.000Z' 'FRA' 30790]\n",
      " ['2020-09-15T00:00:00.000Z' 'FRA' 30838]\n",
      " ['2020-09-16T00:00:00.000Z' 'FRA' 30884]\n",
      " ['2020-09-17T00:00:00.000Z' 'FRA' 30931]\n",
      " ['2020-09-18T00:00:00.000Z' 'FRA' 31085]\n",
      " ['2020-09-19T00:00:00.000Z' 'FRA' 31085]\n",
      " ['2020-09-20T00:00:00.000Z' 'FRA' 31085]\n",
      " ['2020-09-21T00:00:00.000Z' 'FRA' 31174]\n",
      " ['2020-09-22T00:00:00.000Z' 'FRA' 31252]\n",
      " ['2020-09-23T00:00:00.000Z' 'FRA' 31252]\n",
      " ['2020-09-24T00:00:00.000Z' 'FRA' 31333]\n",
      " ['2020-09-25T00:00:00.000Z' 'FRA' 31483]\n",
      " ['2020-09-26T00:00:00.000Z' 'FRA' 31483]\n",
      " ['2020-09-27T00:00:00.000Z' 'FRA' 31483]\n",
      " ['2020-09-28T00:00:00.000Z' 'FRA' 31549]\n",
      " ['2020-09-29T00:00:00.000Z' 'FRA' 31711]\n",
      " ['2020-09-30T00:00:00.000Z' 'FRA' 31769]\n",
      " ['2020-10-01T00:00:00.000Z' 'FRA' 31816]]\n",
      "RangeIndex(start=0, stop=31, step=1)\n"
     ]
    }
   ],
   "source": [
    "%%local\n",
    "print(pdf.info())\n",
    "print(pdf.describe())\n",
    "print(pdf.values)\n",
    "print(pdf.index)"
   ]
  },
  {
   "cell_type": "code",
   "execution_count": 42,
   "metadata": {
    "scrolled": true
   },
   "outputs": [
    {
     "data": {
      "application/vnd.jupyter.widget-view+json": {
       "model_id": "360008c8e3a04981b138f8539f7df0fa",
       "version_major": 2,
       "version_minor": 0
      },
      "text/plain": [
       "VBox(children=(HBox(children=(HTML(value='Type:'), Button(description='Table', layout=Layout(width='70px'), st…"
      ]
     },
     "metadata": {},
     "output_type": "display_data"
    },
    {
     "data": {
      "application/vnd.jupyter.widget-view+json": {
       "model_id": "a562426ecc534c56bc797fc6fc34767c",
       "version_major": 2,
       "version_minor": 0
      },
      "text/plain": [
       "Output()"
      ]
     },
     "metadata": {},
     "output_type": "display_data"
    }
   ],
   "source": [
    "%%local\n",
    "import pandas as pd\n",
    "\n",
    "pdf['timestamp'] = pd.to_datetime(pdf[\"time\"])\n",
    "pdf.head()"
   ]
  },
  {
   "cell_type": "code",
   "execution_count": 43,
   "metadata": {},
   "outputs": [
    {
     "name": "stdout",
     "output_type": "stream",
     "text": [
      "time                        object\n",
      "iso_country_code            object\n",
      "casualties                   int64\n",
      "timestamp           datetime64[ns]\n",
      "dtype: object\n"
     ]
    }
   ],
   "source": [
    "%%local\n",
    "print(pdf.dtypes)"
   ]
  },
  {
   "cell_type": "code",
   "execution_count": 44,
   "metadata": {},
   "outputs": [
    {
     "data": {
      "image/png": "[encoded data removed]",
      "text/plain": [
       "<Figure size 432x288 with 1 Axes>"
      ]
     },
     "metadata": {},
     "output_type": "display_data"
    }
   ],
   "source": [
    "%%local\n",
    "%matplotlib inline\n",
    "\n",
    "import matplotlib.pyplot as plt\n",
    "import numpy as np\n",
    "\n",
    "plt.plot(pdf['time'], pdf['casualties'], color='red')\n",
    "plt.gcf().autofmt_xdate()\n",
    "plt.show()"
   ]
  },
  {
   "cell_type": "code",
   "execution_count": 45,
   "metadata": {},
   "outputs": [
    {
     "data": {
      "image/png": "[encoded data removed]",
      "text/plain": [
       "<Figure size 360x360 with 1 Axes>"
      ]
     },
     "metadata": {},
     "output_type": "display_data"
    }
   ],
   "source": [
    "%%local\n",
    "import matplotlib.pyplot as plt\n",
    "import seaborn as sns   \n",
    "\n",
    "sns.catplot(x ='time', y ='casualties', data = pdf)\n",
    "plt.title('COVID-19 Casualities')\n",
    "plt.show() "
   ]
  },
  {
   "cell_type": "code",
   "execution_count": null,
   "metadata": {
    "collapsed": true
   },
   "outputs": [],
   "source": []
  }
 ],
 "metadata": {
  "kernelspec": {
   "display_name": "Spark",
   "language": "",
   "name": "sparkkernel"
  },
  "language_info": {
   "codemirror_mode": "text/x-scala",
   "mimetype": "text/x-scala",
   "name": "scala",
   "pygments_lexer": "scala"
  }
 },
 "nbformat": 4,
 "nbformat_minor": 2
}
