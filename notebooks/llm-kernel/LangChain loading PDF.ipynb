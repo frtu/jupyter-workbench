{
 "cells": [
  {
   "cell_type": "markdown",
   "id": "e1e8abcd",
   "metadata": {},
   "source": [
    "# Prepare environment\n",
    "\n",
    "## Configure jupyter\n",
    "\n",
    "* Install libs"
   ]
  },
  {
   "cell_type": "code",
   "execution_count": 1,
   "id": "fe7ef272",
   "metadata": {},
   "outputs": [],
   "source": [
    "%%capture\n",
    "# Prepare graphing capabilities\n",
    "!pip install plotly matplotlib\n",
    "# Enable functions that contain % and %%\n",
    "!pip install ipython-sql\n",
    "# Enable easy UI\n",
    "!pip install gradio"
   ]
  },
  {
   "cell_type": "markdown",
   "id": "733371b2",
   "metadata": {},
   "source": [
    "# Create embeddings\n",
    "\n",
    "* Install libs\n",
    "* Read env from https://github.com/frtu/jupyter-workbench/blob/master/docker/jupyter-llm/docker-compose.yml#L22"
   ]
  },
  {
   "cell_type": "code",
   "execution_count": 2,
   "id": "71823cdf",
   "metadata": {},
   "outputs": [],
   "source": [
    "%%capture\n",
    "\n",
    "!pip install --upgrade tiktoken\n",
    "!pip install --upgrade langchain"
   ]
  },
  {
   "cell_type": "code",
   "execution_count": 3,
   "id": "43be37f5",
   "metadata": {},
   "outputs": [
    {
     "name": "stdout",
     "output_type": "stream",
     "text": [
      "\u001b[33mWARNING: The directory '/home/jovyan/.cache/pip' or its parent directory is not owned or is not writable by the current user. The cache has been disabled. Check the permissions and owner of that directory. If executing pip with sudo, you should use sudo's -H flag.\u001b[0m\u001b[33m\n",
      "\u001b[0mName: langchain\n",
      "Version: 0.0.181\n",
      "Summary: Building applications with LLMs through composability\n",
      "Home-page: https://www.github.com/hwchase17/langchain\n",
      "Author: \n",
      "Author-email: \n",
      "License: MIT\n",
      "Location: /opt/conda/lib/python3.10/site-packages\n",
      "Requires: aiohttp, async-timeout, dataclasses-json, numexpr, numpy, openapi-schema-pydantic, pydantic, PyYAML, requests, SQLAlchemy, tenacity\n",
      "Required-by: \n"
     ]
    }
   ],
   "source": [
    "!pip show langchain"
   ]
  },
  {
   "cell_type": "markdown",
   "id": "826bfbcf",
   "metadata": {},
   "source": [
    "## Prepare data processing"
   ]
  },
  {
   "cell_type": "code",
   "execution_count": 4,
   "id": "99bd577d",
   "metadata": {},
   "outputs": [
    {
     "data": {
      "text/plain": [
       "'Apple is a corporate structure that is famous'"
      ]
     },
     "execution_count": 4,
     "metadata": {},
     "output_type": "execute_result"
    }
   ],
   "source": [
    "def normalize_text(text):\n",
    "    return \" \".join(text.split())\n",
    "\n",
    "normalize_text(\"\"\"\n",
    "Apple is a corporate structure\n",
    " that\n",
    " \n",
    " is famous\n",
    "\"\"\")"
   ]
  },
  {
   "cell_type": "code",
   "execution_count": 5,
   "id": "c1c71773",
   "metadata": {},
   "outputs": [
    {
     "data": {
      "text/plain": [
       "8"
      ]
     },
     "execution_count": 5,
     "metadata": {},
     "output_type": "execute_result"
    }
   ],
   "source": [
    "import tiktoken\n",
    "\n",
    "# embedding model parameters\n",
    "embedding_model = \"text-embedding-ada-002\"\n",
    "embedding_encoding = \"cl100k_base\"  # this the encoding for text-embedding-ada-002\n",
    "max_tokens = 8000  # the maximum for text-embedding-ada-002 is 8191\n",
    "\n",
    "encoding = tiktoken.get_encoding(embedding_encoding)\n",
    "\n",
    "def get_token(text):\n",
    "    filtered_text = normalize_text(text)\n",
    "    return encoding.encode(filtered_text)\n",
    "\n",
    "token = get_token(\"\"\"\n",
    "Apple is a corporate structure\n",
    " that\n",
    " \n",
    " is famous\n",
    "\"\"\")\n",
    "\n",
    "len(token)"
   ]
  },
  {
   "cell_type": "markdown",
   "id": "c425a0f8",
   "metadata": {},
   "source": [
    "# Document manipulation\n",
    "\n",
    "## Loading PDF"
   ]
  },
  {
   "cell_type": "code",
   "execution_count": 6,
   "id": "a46b9e98",
   "metadata": {},
   "outputs": [],
   "source": [
    "%%capture\n",
    "\n",
    "!pip install unstructured # The unstructured library provides open-source components for pre-processing text documents such as PDFs, HTML and Word Documents. \n",
    "!pip install unstructured[local-inference]\n",
    "!pip install pdf2image # for PDF\n",
    "\n",
    "!pip install chromadb # the AI-native open-source embedding database\n",
    "!pip install azure-core # Needed for imports"
   ]
  },
  {
   "cell_type": "code",
   "execution_count": 7,
   "id": "8ddd168f",
   "metadata": {},
   "outputs": [],
   "source": [
    "from langchain.document_loaders import UnstructuredPDFLoader\n",
    "from langchain.indexes import VectorstoreIndexCreator"
   ]
  },
  {
   "cell_type": "code",
   "execution_count": 8,
   "id": "58a26dc2",
   "metadata": {
    "scrolled": true
   },
   "outputs": [
    {
     "name": "stdout",
     "output_type": "stream",
     "text": [
      "--2023-05-28 15:50:04--  https://s21.q4cdn.com/399680738/files/doc_financials/2022/q4/Meta-12.31.2022-Exhibit-99.1-FINAL.pdf\n",
      "Resolving s21.q4cdn.com (s21.q4cdn.com)... 139.99.62.128, 2402:1f00:8001:580::\n",
      "Connecting to s21.q4cdn.com (s21.q4cdn.com)|139.99.62.128|:443... connected.\n",
      "HTTP request sent, awaiting response... 200 OK\n",
      "Length: 185815 (181K) [application/pdf]\n",
      "Saving to: ‘Meta-12.31.2022-Exhibit-99.1-FINAL.pdf’\n",
      "\n",
      "Meta-12.31.2022-Exh 100%[===================>] 181.46K  --.-KB/s    in 0.1s    \n",
      "\n",
      "2023-05-28 15:50:05 (1.45 MB/s) - ‘Meta-12.31.2022-Exhibit-99.1-FINAL.pdf’ saved [185815/185815]\n",
      "\n"
     ]
    }
   ],
   "source": [
    "!wget https://s21.q4cdn.com/399680738/files/doc_financials/2022/q4/Meta-12.31.2022-Exhibit-99.1-FINAL.pdf #meta earnings; replace with any pdf\n",
    "!mkdir -p docs\n",
    "!mv Meta-12.31.2022-Exhibit-99.1-FINAL.pdf docs    "
   ]
  },
  {
   "cell_type": "code",
   "execution_count": 10,
   "id": "f45d15cd",
   "metadata": {},
   "outputs": [],
   "source": [
    "import os\n",
    "\n",
    "text_folder = 'docs'\n",
    "loaders = [UnstructuredPDFLoader(os.path.join(text_folder, fn)) for fn in os.listdir(text_folder)]"
   ]
  },
  {
   "cell_type": "code",
   "execution_count": null,
   "id": "ab64529a",
   "metadata": {},
   "outputs": [],
   "source": [
    "index = VectorstoreIndexCreator().from_loaders(loaders)"
   ]
  },
  {
   "cell_type": "code",
   "execution_count": null,
   "id": "37bcb197",
   "metadata": {},
   "outputs": [],
   "source": [
    "query = \"How much revenue did Meta make in 2022?\"\n",
    "index.query(query)"
   ]
  },
  {
   "cell_type": "code",
   "execution_count": null,
   "id": "d3ca8e46",
   "metadata": {},
   "outputs": [],
   "source": [
    "query = \"What are meta's biggest risks?\"\n",
    "index.query(query)"
   ]
  },
  {
   "cell_type": "code",
   "execution_count": null,
   "id": "3620503d",
   "metadata": {},
   "outputs": [],
   "source": []
  }
 ],
 "metadata": {
  "kernelspec": {
   "display_name": "Python 3 (ipykernel)",
   "language": "python",
   "name": "python3"
  },
  "language_info": {
   "codemirror_mode": {
    "name": "ipython",
    "version": 3
   },
   "file_extension": ".py",
   "mimetype": "text/x-python",
   "name": "python",
   "nbconvert_exporter": "python",
   "pygments_lexer": "ipython3",
   "version": "3.10.10"
  }
 },
 "nbformat": 4,
 "nbformat_minor": 5
}
