{
 "cells": [
  {
   "cell_type": "markdown",
   "id": "e1e8abcd",
   "metadata": {},
   "source": [
    "# Prepare environment\n",
    "\n",
    "## Configure jupyter\n",
    "\n",
    "* Install libs"
   ]
  },
  {
   "cell_type": "code",
   "execution_count": 1,
   "id": "fe7ef272",
   "metadata": {},
   "outputs": [],
   "source": [
    "%%capture\n",
    "# Prepare graphing capabilities\n",
    "!pip install plotly matplotlib\n",
    "# Enable functions that contain % and %%\n",
    "!pip install ipython-sql\n",
    "# Enable easy UI\n",
    "!pip install gradio"
   ]
  },
  {
   "cell_type": "markdown",
   "id": "733371b2",
   "metadata": {},
   "source": [
    "# Create embeddings\n",
    "\n",
    "* Install libs\n",
    "* Read env from https://github.com/frtu/jupyter-workbench/blob/master/docker/jupyter-llm/docker-compose.yml#L22"
   ]
  },
  {
   "cell_type": "code",
   "execution_count": 2,
   "id": "71823cdf",
   "metadata": {},
   "outputs": [],
   "source": [
    "%%capture\n",
    "\n",
    "!pip install --upgrade tiktoken\n",
    "!pip install --upgrade langchain"
   ]
  },
  {
   "cell_type": "code",
   "execution_count": 3,
   "id": "43be37f5",
   "metadata": {},
   "outputs": [
    {
     "name": "stdout",
     "output_type": "stream",
     "text": [
      "\u001b[33mWARNING: The directory '/home/jovyan/.cache/pip' or its parent directory is not owned or is not writable by the current user. The cache has been disabled. Check the permissions and owner of that directory. If executing pip with sudo, you should use sudo's -H flag.\u001b[0m\u001b[33m\n",
      "\u001b[0mName: langchain\n",
      "Version: 0.0.202\n",
      "Summary: Building applications with LLMs through composability\n",
      "Home-page: https://www.github.com/hwchase17/langchain\n",
      "Author: \n",
      "Author-email: \n",
      "License: MIT\n",
      "Location: /opt/conda/lib/python3.10/site-packages\n",
      "Requires: aiohttp, async-timeout, dataclasses-json, langchainplus-sdk, numexpr, numpy, openapi-schema-pydantic, pydantic, PyYAML, requests, SQLAlchemy, tenacity\n",
      "Required-by: \n"
     ]
    }
   ],
   "source": [
    "!pip show langchain"
   ]
  },
  {
   "cell_type": "markdown",
   "id": "826bfbcf",
   "metadata": {},
   "source": [
    "## Prepare data processing"
   ]
  },
  {
   "cell_type": "code",
   "execution_count": 4,
   "id": "99bd577d",
   "metadata": {},
   "outputs": [
    {
     "data": {
      "text/plain": [
       "'Apple is a corporate structure that is famous'"
      ]
     },
     "execution_count": 4,
     "metadata": {},
     "output_type": "execute_result"
    }
   ],
   "source": [
    "def normalize_text(text):\n",
    "    return \" \".join(text.split())\n",
    "\n",
    "normalize_text(\"\"\"\n",
    "Apple is a corporate structure\n",
    " that\n",
    " \n",
    " is famous\n",
    "\"\"\")"
   ]
  },
  {
   "cell_type": "code",
   "execution_count": null,
   "id": "939f5c86",
   "metadata": {},
   "outputs": [],
   "source": [
    "import tiktoken\n",
    "\n",
    "# embedding model parameters\n",
    "embedding_model = \"text-embedding-ada-002\"\n",
    "embedding_encoding = \"cl100k_base\"  # this the encoding for text-embedding-ada-002\n",
    "max_tokens = 8000  # the maximum for text-embedding-ada-002 is 8191\n",
    "\n",
    "encoding = tiktoken.get_encoding(embedding_encoding)\n",
    "\n",
    "def get_token(text):\n",
    "    filtered_text = normalize_text(text)\n",
    "    return encoding.encode(filtered_text)\n",
    "\n",
    "token = get_token(\"\"\"\n",
    "Apple is a corporate structure\n",
    " that\n",
    " \n",
    " is famous\n",
    "\"\"\")\n",
    "\n",
    "len(token)"
   ]
  },
  {
   "cell_type": "markdown",
   "id": "d3047e29",
   "metadata": {},
   "source": [
    "## Init openai & data processing"
   ]
  },
  {
   "cell_type": "code",
   "execution_count": 22,
   "id": "c1cd3e30",
   "metadata": {},
   "outputs": [],
   "source": [
    "%%capture\n",
    "# https://platform.openai.com/docs/libraries\n",
    "!pip install --upgrade openai"
   ]
  },
  {
   "cell_type": "code",
   "execution_count": 23,
   "id": "07493542",
   "metadata": {},
   "outputs": [],
   "source": [
    "import openai  # for calling the OpenAI API\n",
    "\n",
    "# Load your API key from an environment variable or secret management service\n",
    "openai.api_key = os.getenv(\"OPENAI_API_KEY\")"
   ]
  },
  {
   "cell_type": "code",
   "execution_count": 25,
   "id": "c1c71773",
   "metadata": {},
   "outputs": [],
   "source": [
    "from langchain.embeddings.openai import OpenAIEmbeddings\n",
    "\n",
    "texts = [\n",
    "    'this is the first chunk of text',\n",
    "    'then another second chunk of text is here'\n",
    "]\n",
    "\n",
    "embed = OpenAIEmbeddings(\n",
    "    openai_api_key=openai.api_key\n",
    ")\n",
    "# Using openai.Embedding syntax\n",
    "def get_embedding(text, model=\"text-embedding-ada-002\"):\n",
    "    filtered_text = normalize_text(text)\n",
    "    return embed.embed_documents(filtered_text)\n",
    "\n",
    "# Using openai.Embedding syntax\n",
    "def get_embed_query(text, model=\"text-embedding-ada-002\"):\n",
    "    filtered_text = normalize_text(text)\n",
    "    return embed.embed_query(filtered_text)\n",
    "\n",
    "# embeddings = get_embed_query('this is the first chunk of text', model='text-embedding-ada-002')\n",
    "# len(embeddings)"
   ]
  },
  {
   "cell_type": "markdown",
   "id": "c425a0f8",
   "metadata": {},
   "source": [
    "# Document manipulation\n",
    "\n",
    "## Loading PDF"
   ]
  },
  {
   "cell_type": "code",
   "execution_count": 13,
   "id": "a46b9e98",
   "metadata": {},
   "outputs": [],
   "source": [
    "%%capture\n",
    "!pip install PGVector # PostgreSQL Vectors"
   ]
  },
  {
   "cell_type": "code",
   "execution_count": 36,
   "id": "3620503d",
   "metadata": {},
   "outputs": [],
   "source": [
    "from langchain.vectorstores.pgvector import PGVector, DistanceStrategy\n",
    "\n",
    "connection_string = PGVector.connection_string_from_db_params(\n",
    "    driver=os.getenv('DRIVER', 'psycopg2'),\n",
    "    host=os.getenv('DB_HOST', 'database'),\n",
    "    port=os.getenv('DB_PORT', '5432'),\n",
    "    database=os.getenv('DB_DATABASE', 'db'),\n",
    "    user=os.getenv('DB_USER', 'admin'),\n",
    "    password=os.getenv('DB_PASSWORD', 'admin')\n",
    ")"
   ]
  },
  {
   "cell_type": "code",
   "execution_count": 37,
   "id": "ebf5e68c",
   "metadata": {},
   "outputs": [
    {
     "name": "stdout",
     "output_type": "stream",
     "text": [
      "1\n",
      "45\n"
     ]
    }
   ],
   "source": [
    "from langchain.document_loaders import TextLoader\n",
    "from langchain.text_splitter import CharacterTextSplitter\n",
    "\n",
    "loader = TextLoader('/data/data/state_of_the_union.txt')\n",
    "documents = loader.load()\n",
    "\n",
    "text_splitter = CharacterTextSplitter(chunk_size=1000, chunk_overlap=0)\n",
    "docs = text_splitter.split_documents(documents)\n",
    "print(len(documents))\n",
    "print(len(docs))"
   ]
  },
  {
   "cell_type": "code",
   "execution_count": 38,
   "id": "008a60cb",
   "metadata": {},
   "outputs": [],
   "source": [
    "from typing import List, Tuple\n",
    "from langchain.embeddings.openai import OpenAIEmbeddings\n",
    "\n",
    "collection_name = 'state_of_the_union'\n",
    "\n",
    "# The PGVector Module will try to create a table with the name of the collection. \n",
    "# So, make sure that the collection name is unique and the user has the permission to create a table.\n",
    "db = PGVector.from_documents(\n",
    "    embedding=embed,\n",
    "    documents=docs,\n",
    "    collection_name=collection_name,\n",
    "    connection_string=connection_string,\n",
    ")"
   ]
  },
  {
   "cell_type": "code",
   "execution_count": 41,
   "id": "f07d602d",
   "metadata": {},
   "outputs": [],
   "source": [
    "from langchain.docstore.document import Document\n",
    "\n",
    "query = \"What did the president say about federal deficit?\"\n",
    "docs_with_score: List[Tuple[Document, float]] = db.similarity_search_with_score(query)"
   ]
  },
  {
   "cell_type": "code",
   "execution_count": 40,
   "id": "08a4c1f0",
   "metadata": {},
   "outputs": [
    {
     "name": "stdout",
     "output_type": "stream",
     "text": [
      "--------------------------------------------------------------------------------\n",
      "Score:  0.5294667538679643\n",
      "In the last two years, my administration cut the deficit by more than $1.7 trillion – the largest deficit reduction in American history.\n",
      "\n",
      "Under the previous administration, America’s deficit went up four years in a row.\n",
      "\n",
      "Because of those record deficits, no president added more to the national debt in any four years than my predecessor.\n",
      "\n",
      "Nearly 25% of the entire national debt, a debt that took 200 years to accumulate, was added by that administration alone.\n",
      "\n",
      "How did Congress respond to all that debt?\n",
      "\n",
      "They lifted the debt ceiling three times without preconditions or crisis.\n",
      "\n",
      "They paid America’s bills to prevent economic disaster for our country.\n",
      "\n",
      "Tonight, I’m asking this Congress to follow suit.\n",
      "\n",
      "Let us commit here tonight that the full faith and credit of the United States of America will never, ever be questioned.\n",
      "\n",
      "Some of my Republican friends want to take the economy hostage unless I agree to their economic plans. All of you at home should know what their plans are.\n",
      "{'source': '/data/data/state_of_the_union.txt'}\n",
      "--------------------------------------------------------------------------------\n",
      "--------------------------------------------------------------------------------\n",
      "Score:  0.5294667538679643\n",
      "In the last two years, my administration cut the deficit by more than $1.7 trillion – the largest deficit reduction in American history.\n",
      "\n",
      "Under the previous administration, America’s deficit went up four years in a row.\n",
      "\n",
      "Because of those record deficits, no president added more to the national debt in any four years than my predecessor.\n",
      "\n",
      "Nearly 25% of the entire national debt, a debt that took 200 years to accumulate, was added by that administration alone.\n",
      "\n",
      "How did Congress respond to all that debt?\n",
      "\n",
      "They lifted the debt ceiling three times without preconditions or crisis.\n",
      "\n",
      "They paid America’s bills to prevent economic disaster for our country.\n",
      "\n",
      "Tonight, I’m asking this Congress to follow suit.\n",
      "\n",
      "Let us commit here tonight that the full faith and credit of the United States of America will never, ever be questioned.\n",
      "\n",
      "Some of my Republican friends want to take the economy hostage unless I agree to their economic plans. All of you at home should know what their plans are.\n",
      "{'source': '/data/data/state_of_the_union.txt'}\n",
      "--------------------------------------------------------------------------------\n",
      "--------------------------------------------------------------------------------\n",
      "Score:  0.5841270760087383\n",
      "Next month when I offer my fiscal plan, I ask my Republican friends to offer their plan.\n",
      "\n",
      "We can sit down together and discuss both plans together.\n",
      "\n",
      "My plan will lower the deficit by $2 trillion.\n",
      "\n",
      "I won’t cut a single Social Security or Medicare benefit.\n",
      "\n",
      "In fact, I will extend the Medicare Trust Fund by at least two decades.\n",
      "\n",
      "I will not raise taxes on anyone making under $400,000 a year. And I will pay for the ideas I’ve talked about tonight by making the wealthy and big corporations begin to pay their fair share.\n",
      "\n",
      "Look, here’s the deal. Big corporations aren’t just taking advantage of the tax code. They’re taking advantage of you, the American consumer.\n",
      "\n",
      "Here’s my message to all of you out there: I have your back. We’re already preventing insurance companies from sending surprise medical bills, stopping 1 million surprise bills a month.\n",
      "{'source': '/data/data/state_of_the_union.txt'}\n",
      "--------------------------------------------------------------------------------\n",
      "--------------------------------------------------------------------------------\n",
      "Score:  0.5841270760087383\n",
      "Next month when I offer my fiscal plan, I ask my Republican friends to offer their plan.\n",
      "\n",
      "We can sit down together and discuss both plans together.\n",
      "\n",
      "My plan will lower the deficit by $2 trillion.\n",
      "\n",
      "I won’t cut a single Social Security or Medicare benefit.\n",
      "\n",
      "In fact, I will extend the Medicare Trust Fund by at least two decades.\n",
      "\n",
      "I will not raise taxes on anyone making under $400,000 a year. And I will pay for the ideas I’ve talked about tonight by making the wealthy and big corporations begin to pay their fair share.\n",
      "\n",
      "Look, here’s the deal. Big corporations aren’t just taking advantage of the tax code. They’re taking advantage of you, the American consumer.\n",
      "\n",
      "Here’s my message to all of you out there: I have your back. We’re already preventing insurance companies from sending surprise medical bills, stopping 1 million surprise bills a month.\n",
      "{'source': '/data/data/state_of_the_union.txt'}\n",
      "--------------------------------------------------------------------------------\n"
     ]
    }
   ],
   "source": [
    "for doc, score in docs_with_score:\n",
    "    print(\"-\" * 80)\n",
    "    print(\"Score: \", score)\n",
    "    print(doc.page_content)\n",
    "    print(doc.metadata)\n",
    "    print(\"-\" * 80)"
   ]
  },
  {
   "cell_type": "code",
   "execution_count": 42,
   "id": "7b9c3a98",
   "metadata": {},
   "outputs": [],
   "source": [
    "store = PGVector(\n",
    "    connection_string=connection_string, \n",
    "    embedding_function=embeddings, \n",
    "    collection_name='state_of_the_union',\n",
    "    distance_strategy=DistanceStrategy.COSINE\n",
    ")\n",
    "\n",
    "retriever = store.as_retriever(search_kwargs={\"k\": 1})"
   ]
  },
  {
   "cell_type": "code",
   "execution_count": null,
   "id": "8e345df4",
   "metadata": {},
   "outputs": [],
   "source": [
    "retriever.get_relevant_documents('What did the president say about federal deficit?')"
   ]
  }
 ],
 "metadata": {
  "kernelspec": {
   "display_name": "Python 3 (ipykernel)",
   "language": "python",
   "name": "python3"
  },
  "language_info": {
   "codemirror_mode": {
    "name": "ipython",
    "version": 3
   },
   "file_extension": ".py",
   "mimetype": "text/x-python",
   "name": "python",
   "nbconvert_exporter": "python",
   "pygments_lexer": "ipython3",
   "version": "3.10.10"
  }
 },
 "nbformat": 4,
 "nbformat_minor": 5
}
