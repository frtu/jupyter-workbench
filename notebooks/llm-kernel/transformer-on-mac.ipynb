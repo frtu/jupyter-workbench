{
 "cells": [
  {
   "cell_type": "markdown",
   "id": "92970b6d-25e5-4975-9ed4-22879a0e740a",
   "metadata": {},
   "source": [
    "# Import and init libs\n",
    "\n",
    "TBD : Quantization with https://medium.com/@rakeshrajpurohit/model-quantization-with-hugging-face-transformers-and-bitsandbytes-integration-b4c9983e8996"
   ]
  },
  {
   "cell_type": "code",
   "execution_count": 1,
   "id": "16115b1b-c63e-4a1c-a08b-a89d611e1c9c",
   "metadata": {
    "scrolled": true
   },
   "outputs": [
    {
     "name": "stdout",
     "output_type": "stream",
     "text": [
      "Requirement already satisfied: torch in /Users/fred/miniforge3/envs/m1/lib/python3.9/site-packages (2.2.1)\n",
      "Requirement already satisfied: filelock in /Users/fred/miniforge3/envs/m1/lib/python3.9/site-packages (from torch) (3.13.1)\n",
      "Requirement already satisfied: typing-extensions>=4.8.0 in /Users/fred/miniforge3/envs/m1/lib/python3.9/site-packages (from torch) (4.10.0)\n",
      "Requirement already satisfied: sympy in /Users/fred/miniforge3/envs/m1/lib/python3.9/site-packages (from torch) (1.12)\n",
      "Requirement already satisfied: networkx in /Users/fred/miniforge3/envs/m1/lib/python3.9/site-packages (from torch) (3.2.1)\n",
      "Requirement already satisfied: jinja2 in /Users/fred/miniforge3/envs/m1/lib/python3.9/site-packages (from torch) (3.1.3)\n",
      "Requirement already satisfied: fsspec in /Users/fred/miniforge3/envs/m1/lib/python3.9/site-packages (from torch) (2024.2.0)\n",
      "Requirement already satisfied: MarkupSafe>=2.0 in /Users/fred/miniforge3/envs/m1/lib/python3.9/site-packages (from jinja2->torch) (2.1.5)\n",
      "Requirement already satisfied: mpmath>=0.19 in /Users/fred/miniforge3/envs/m1/lib/python3.9/site-packages (from sympy->torch) (1.3.0)\n",
      "Requirement already satisfied: bitsandbytes in /Users/fred/miniforge3/envs/m1/lib/python3.9/site-packages (0.42.0)\n",
      "Requirement already satisfied: scipy in /Users/fred/miniforge3/envs/m1/lib/python3.9/site-packages (from bitsandbytes) (1.12.0)\n",
      "Requirement already satisfied: numpy<1.29.0,>=1.22.4 in /Users/fred/miniforge3/envs/m1/lib/python3.9/site-packages (from scipy->bitsandbytes) (1.26.4)\n",
      "Requirement already satisfied: accelerate in /Users/fred/miniforge3/envs/m1/lib/python3.9/site-packages (0.29.0.dev0)\n",
      "Requirement already satisfied: numpy>=1.17 in /Users/fred/miniforge3/envs/m1/lib/python3.9/site-packages (from accelerate) (1.26.4)\n",
      "Requirement already satisfied: packaging>=20.0 in /Users/fred/miniforge3/envs/m1/lib/python3.9/site-packages (from accelerate) (24.0)\n",
      "Requirement already satisfied: psutil in /Users/fred/miniforge3/envs/m1/lib/python3.9/site-packages (from accelerate) (5.9.8)\n",
      "Requirement already satisfied: pyyaml in /Users/fred/miniforge3/envs/m1/lib/python3.9/site-packages (from accelerate) (6.0.1)\n",
      "Requirement already satisfied: torch>=1.10.0 in /Users/fred/miniforge3/envs/m1/lib/python3.9/site-packages (from accelerate) (2.2.1)\n",
      "Requirement already satisfied: huggingface-hub in /Users/fred/miniforge3/envs/m1/lib/python3.9/site-packages/huggingface_hub-0.22.0rc0-py3.8.egg (from accelerate) (0.22.0rc0)\n",
      "Requirement already satisfied: safetensors>=0.3.1 in /Users/fred/miniforge3/envs/m1/lib/python3.9/site-packages (from accelerate) (0.4.2)\n",
      "Requirement already satisfied: filelock in /Users/fred/miniforge3/envs/m1/lib/python3.9/site-packages (from torch>=1.10.0->accelerate) (3.13.1)\n",
      "Requirement already satisfied: typing-extensions>=4.8.0 in /Users/fred/miniforge3/envs/m1/lib/python3.9/site-packages (from torch>=1.10.0->accelerate) (4.10.0)\n",
      "Requirement already satisfied: sympy in /Users/fred/miniforge3/envs/m1/lib/python3.9/site-packages (from torch>=1.10.0->accelerate) (1.12)\n",
      "Requirement already satisfied: networkx in /Users/fred/miniforge3/envs/m1/lib/python3.9/site-packages (from torch>=1.10.0->accelerate) (3.2.1)\n",
      "Requirement already satisfied: jinja2 in /Users/fred/miniforge3/envs/m1/lib/python3.9/site-packages (from torch>=1.10.0->accelerate) (3.1.3)\n",
      "Requirement already satisfied: fsspec in /Users/fred/miniforge3/envs/m1/lib/python3.9/site-packages (from torch>=1.10.0->accelerate) (2024.2.0)\n",
      "Requirement already satisfied: requests in /Users/fred/miniforge3/envs/m1/lib/python3.9/site-packages (from huggingface-hub->accelerate) (2.31.0)\n",
      "Requirement already satisfied: tqdm>=4.42.1 in /Users/fred/miniforge3/envs/m1/lib/python3.9/site-packages (from huggingface-hub->accelerate) (4.66.2)\n",
      "Requirement already satisfied: MarkupSafe>=2.0 in /Users/fred/miniforge3/envs/m1/lib/python3.9/site-packages (from jinja2->torch>=1.10.0->accelerate) (2.1.5)\n",
      "Requirement already satisfied: charset-normalizer<4,>=2 in /Users/fred/miniforge3/envs/m1/lib/python3.9/site-packages (from requests->huggingface-hub->accelerate) (3.3.2)\n",
      "Requirement already satisfied: idna<4,>=2.5 in /Users/fred/miniforge3/envs/m1/lib/python3.9/site-packages (from requests->huggingface-hub->accelerate) (3.6)\n",
      "Requirement already satisfied: urllib3<3,>=1.21.1 in /Users/fred/miniforge3/envs/m1/lib/python3.9/site-packages (from requests->huggingface-hub->accelerate) (2.2.1)\n",
      "Requirement already satisfied: certifi>=2017.4.17 in /Users/fred/miniforge3/envs/m1/lib/python3.9/site-packages (from requests->huggingface-hub->accelerate) (2024.2.2)\n",
      "Requirement already satisfied: mpmath>=0.19 in /Users/fred/miniforge3/envs/m1/lib/python3.9/site-packages (from sympy->torch>=1.10.0->accelerate) (1.3.0)\n",
      "Requirement already satisfied: transformers in /Users/fred/miniforge3/envs/m1/lib/python3.9/site-packages (4.40.0.dev0)\n",
      "Requirement already satisfied: filelock in /Users/fred/miniforge3/envs/m1/lib/python3.9/site-packages (from transformers) (3.13.1)\n",
      "Requirement already satisfied: huggingface-hub<1.0,>=0.19.3 in /Users/fred/miniforge3/envs/m1/lib/python3.9/site-packages/huggingface_hub-0.22.0rc0-py3.8.egg (from transformers) (0.22.0rc0)\n",
      "Requirement already satisfied: numpy>=1.17 in /Users/fred/miniforge3/envs/m1/lib/python3.9/site-packages (from transformers) (1.26.4)\n",
      "Requirement already satisfied: packaging>=20.0 in /Users/fred/miniforge3/envs/m1/lib/python3.9/site-packages (from transformers) (24.0)\n",
      "Requirement already satisfied: pyyaml>=5.1 in /Users/fred/miniforge3/envs/m1/lib/python3.9/site-packages (from transformers) (6.0.1)\n",
      "Requirement already satisfied: regex!=2019.12.17 in /Users/fred/miniforge3/envs/m1/lib/python3.9/site-packages (from transformers) (2023.12.25)\n",
      "Requirement already satisfied: requests in /Users/fred/miniforge3/envs/m1/lib/python3.9/site-packages (from transformers) (2.31.0)\n",
      "Requirement already satisfied: tokenizers<0.19,>=0.14 in /Users/fred/miniforge3/envs/m1/lib/python3.9/site-packages (from transformers) (0.15.2)\n",
      "Requirement already satisfied: safetensors>=0.4.1 in /Users/fred/miniforge3/envs/m1/lib/python3.9/site-packages (from transformers) (0.4.2)\n",
      "Requirement already satisfied: tqdm>=4.27 in /Users/fred/miniforge3/envs/m1/lib/python3.9/site-packages (from transformers) (4.66.2)\n",
      "Requirement already satisfied: fsspec>=2023.5.0 in /Users/fred/miniforge3/envs/m1/lib/python3.9/site-packages (from huggingface-hub<1.0,>=0.19.3->transformers) (2024.2.0)\n",
      "Requirement already satisfied: typing-extensions>=3.7.4.3 in /Users/fred/miniforge3/envs/m1/lib/python3.9/site-packages (from huggingface-hub<1.0,>=0.19.3->transformers) (4.10.0)\n",
      "Requirement already satisfied: charset-normalizer<4,>=2 in /Users/fred/miniforge3/envs/m1/lib/python3.9/site-packages (from requests->transformers) (3.3.2)\n",
      "Requirement already satisfied: idna<4,>=2.5 in /Users/fred/miniforge3/envs/m1/lib/python3.9/site-packages (from requests->transformers) (3.6)\n",
      "Requirement already satisfied: urllib3<3,>=1.21.1 in /Users/fred/miniforge3/envs/m1/lib/python3.9/site-packages (from requests->transformers) (2.2.1)\n",
      "Requirement already satisfied: certifi>=2017.4.17 in /Users/fred/miniforge3/envs/m1/lib/python3.9/site-packages (from requests->transformers) (2024.2.2)\n"
     ]
    }
   ],
   "source": [
    "!pip install torch\n",
    "# !pip install -i https://pypi.org/simple/ bitsandbytes\n",
    "!pip install bitsandbytes\n",
    "# !pip install git+https://github.com/huggingface/accelerate.git\n",
    "!pip install accelerate\n",
    "# !pip install git+https://github.com/huggingface/transformers.git\n",
    "!pip install transformers"
   ]
  },
  {
   "cell_type": "code",
   "execution_count": 2,
   "id": "fe50160d-c920-42e4-b823-5a32d152f23b",
   "metadata": {},
   "outputs": [],
   "source": [
    "import os\n",
    "\n",
    "os.environ[\"HF_ENDPOINT\"] = \"https://huggingface.co\"\n",
    "os.environ[\"PYTORCH_ENABLE_MPS_FALLBACK\"] = \"1\"\n",
    "os.environ[\"ACCELERATE_USE_MPS_DEVICE\"] = \"True\""
   ]
  },
  {
   "cell_type": "code",
   "execution_count": 3,
   "id": "0564d5cd-371b-45b0-ad43-586f86f9429a",
   "metadata": {},
   "outputs": [
    {
     "name": "stdout",
     "output_type": "stream",
     "text": [
      "PyTorch Version: 2.2.1\n",
      "PyTorch Active Device: mps\n"
     ]
    }
   ],
   "source": [
    "import torch\n",
    "\n",
    "print(f'PyTorch Version: {torch.__version__}')\n",
    "if torch.backends.mps.is_available():\n",
    "    active_device = torch.device('mps')\n",
    "elif torch.cuda.is_available():\n",
    "    active_device = torch.device('cuda', 0)\n",
    "else:\n",
    "    active_device = torch.device('cpu')\n",
    "\n",
    "# torch.set_default_device(\"mps\")  # Set to MPS if needed\n",
    "\n",
    "print(f'PyTorch Active Device: {active_device}')"
   ]
  },
  {
   "cell_type": "code",
   "execution_count": 4,
   "id": "3c46b3a0-47b8-4609-a46b-d4892b94e5bd",
   "metadata": {},
   "outputs": [
    {
     "name": "stdout",
     "output_type": "stream",
     "text": [
      "Accelerator device: mps\n"
     ]
    }
   ],
   "source": [
    "from accelerate import Accelerator\n",
    "\n",
    "accelerator = Accelerator()\n",
    "print(f'Accelerator device: {accelerator.device}')"
   ]
  },
  {
   "cell_type": "code",
   "execution_count": 5,
   "id": "f338d260-98c3-48c9-ad8f-6cf35bc306db",
   "metadata": {},
   "outputs": [
    {
     "name": "stdout",
     "output_type": "stream",
     "text": [
      "Model [gpt2] Loaded in 1.5370634169998993 seconds. Memory footprint [510342192]\n"
     ]
    }
   ],
   "source": [
    "from transformers import AutoModelForCausalLM, AutoTokenizer\n",
    "import time\n",
    "\n",
    "model_id = \"gpt2\"\n",
    "# model_id = \"bert-base-cased\"\n",
    "device_map={\"\":active_device}\n",
    "\n",
    "tm_start = time.monotonic()\n",
    "tokenizer = AutoTokenizer.from_pretrained(model_id)\n",
    "\n",
    "model = AutoModelForCausalLM.from_pretrained(\n",
    "    model_id,\n",
    "    device_map=device_map,\n",
    "    torch_dtype=\"auto\",\n",
    "    offload_folder=\"offload\",\n",
    "    offload_state_dict=True,\n",
    ")\n",
    "print(f'Model [{model_id}] Loaded in {time.monotonic() - tm_start} seconds. Memory footprint [{model.get_memory_footprint()}]')"
   ]
  },
  {
   "cell_type": "markdown",
   "id": "f65b034d-ca36-4247-a3ff-bb631c976597",
   "metadata": {},
   "source": [
    "# Runtime\n",
    "\n",
    "Tokenizer playground : https://tiktokenizer.vercel.app/"
   ]
  },
  {
   "cell_type": "code",
   "execution_count": 7,
   "id": "3ac74ab1-3860-4ab8-ae55-a64ac0f7941c",
   "metadata": {},
   "outputs": [
    {
     "name": "stdin",
     "output_type": "stream",
     "text": [
      "Request to [bert-base-cased]:  Tell me a joke\n"
     ]
    }
   ],
   "source": [
    "import textwrap\n",
    "\n",
    "prompt = input(f'Request to [{model_id}]: ')\n",
    "\n",
    "# prompt = '''def print_prime(n):\n",
    "#    \"\"\"\n",
    "#    Print all primes between 1 and n\n",
    "#    \"\"\"'''"
   ]
  },
  {
   "cell_type": "code",
   "execution_count": null,
   "id": "3ac74ab1-3860-4ab8-ae55-a64ac0f7941c",
   "metadata": {},
   "outputs": [
    {
     "name": "stdout",
     "output_type": "stream",
     "text": [
      "Encoded in 0.008685917000093468 seconds.\n"
     ]
    }
   ],
   "source": [
    "tm_start = time.monotonic()\n",
    "inputs = tokenizer.encode(\n",
    "    prompt, \n",
    "    return_tensors=\"pt\",\n",
    "    return_attention_mask=False,\n",
    ").to(active_device)\n",
    "print(f'Encoded in {time.monotonic() - tm_start} seconds.')\n",
    "\n",
    "tm_start = time.monotonic()\n",
    "outputs = model.generate(\n",
    "    inputs, max_new_tokens=2048, \n",
    "    pad_token_id=tokenizer.eos_token_id,\n",
    "    repetition_penalty=1.2)\n",
    "print(f'Generated in {time.monotonic() - tm_start} seconds.')\n",
    "\n",
    "tm_start = time.monotonic()\n",
    "response = tokenizer.decode(outputs[0])\n",
    "print(f'Decoded in {time.monotonic() - tm_start} seconds.')\n",
    "\n",
    "print(\"\\n\".join(textwrap.wrap(response, width=120)))"
   ]
  },
  {
   "cell_type": "code",
   "execution_count": null,
   "id": "aa4db4cd-b18b-4837-9ca0-73f173d7f104",
   "metadata": {},
   "outputs": [],
   "source": []
  }
 ],
 "metadata": {
  "kernelspec": {
   "display_name": "Python 3 (ipykernel)",
   "language": "python",
   "name": "python3"
  },
  "language_info": {
   "codemirror_mode": {
    "name": "ipython",
    "version": 3
   },
   "file_extension": ".py",
   "mimetype": "text/x-python",
   "name": "python",
   "nbconvert_exporter": "python",
   "pygments_lexer": "ipython3",
   "version": "3.9.19"
  }
 },
 "nbformat": 4,
 "nbformat_minor": 5
}
