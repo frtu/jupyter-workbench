{
 "cells": [
  {
   "cell_type": "markdown",
   "id": "e1e8abcd",
   "metadata": {},
   "source": [
    "# Prepare environment\n",
    "\n",
    "## Configure jupyter\n",
    "\n",
    "* Install libs"
   ]
  },
  {
   "cell_type": "code",
   "execution_count": null,
   "id": "fe7ef272",
   "metadata": {},
   "outputs": [],
   "source": [
    "%%capture\n",
    "!pip install openllm"
   ]
  },
  {
   "cell_type": "markdown",
   "id": "eed4dc35",
   "metadata": {},
   "source": [
    "## Prepare OpenLLM\n",
    "\n",
    "* Start Server\n",
    "* Create a Client"
   ]
  },
  {
   "cell_type": "code",
   "execution_count": null,
   "id": "49ebfa5a",
   "metadata": {},
   "outputs": [],
   "source": [
    "!openllm start opt"
   ]
  },
  {
   "cell_type": "code",
   "execution_count": null,
   "id": "479a17d5",
   "metadata": {},
   "outputs": [],
   "source": [
    "import openllm\n",
    "\n",
    "client = openllm.client.HTTPClient(\"http://localhost:3000\")"
   ]
  },
  {
   "cell_type": "code",
   "execution_count": null,
   "id": "5bf50800",
   "metadata": {},
   "outputs": [],
   "source": [
    "response = client.query(\"Explain me the difference between 'further' and 'farther'\")\n",
    "response"
   ]
  },
  {
   "cell_type": "code",
   "execution_count": null,
   "id": "3620503d",
   "metadata": {},
   "outputs": [],
   "source": []
  }
 ],
 "metadata": {
  "kernelspec": {
   "display_name": "Python 3 (ipykernel)",
   "language": "python",
   "name": "python3"
  },
  "language_info": {
   "codemirror_mode": {
    "name": "ipython",
    "version": 3
   },
   "file_extension": ".py",
   "mimetype": "text/x-python",
   "name": "python",
   "nbconvert_exporter": "python",
   "pygments_lexer": "ipython3",
   "version": "3.10.10"
  }
 },
 "nbformat": 4,
 "nbformat_minor": 5
}
