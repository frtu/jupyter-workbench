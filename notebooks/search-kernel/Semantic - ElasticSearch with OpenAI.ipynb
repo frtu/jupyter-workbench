{
 "cells": [
  {
   "cell_type": "markdown",
   "id": "ede3d13b-18d5-4c62-9aa2-94523f4e6ab2",
   "metadata": {},
   "source": [
    "# Prepare environment\n",
    "\n",
    "* https://cookbook.openai.com/examples/vector_databases/elasticsearch/readme"
   ]
  },
  {
   "cell_type": "code",
   "execution_count": null,
   "id": "a8709abf-a479-4bb8-a142-214af34fe4f3",
   "metadata": {},
   "outputs": [],
   "source": [
    "%load_ext autoreload\n",
    "%autoreload 2"
   ]
  },
  {
   "cell_type": "markdown",
   "id": "54d6ddca-4acb-4b1f-8291-d352901e700c",
   "metadata": {},
   "source": [
    "## Init base libs\n",
    "\n",
    "* Install libs"
   ]
  },
  {
   "cell_type": "code",
   "execution_count": null,
   "id": "1c03cfae-e3f7-4450-9677-ecfa5074c60f",
   "metadata": {},
   "outputs": [],
   "source": [
    "%%capture\n",
    "%pip install \\\n",
    "    python-dotenv \\\n",
    "    pyyaml"
   ]
  },
  {
   "cell_type": "code",
   "execution_count": null,
   "id": "a1c22f5a-bdb2-4b9f-a3f8-fa7ae6f62c16",
   "metadata": {},
   "outputs": [],
   "source": [
    "from libs.os import OsUtil\n",
    "\n",
    "os_util = OsUtil()\n",
    "result = os_util.get_env(\"PATH\")\n",
    "print(result)"
   ]
  },
  {
   "cell_type": "markdown",
   "id": "40166136-ff0e-49b2-a1d6-cdc3c4592199",
   "metadata": {},
   "source": [
    "## Init ElasticSearch"
   ]
  },
  {
   "cell_type": "code",
   "execution_count": null,
   "id": "3a016a10-b423-44f2-acbf-dab7417c57e9",
   "metadata": {},
   "outputs": [],
   "source": [
    "%%capture\n",
    "%pip install \\\n",
    "    elasticsearch==8.15.1"
   ]
  },
  {
   "cell_type": "code",
   "execution_count": null,
   "id": "7bc11ffa-0923-4f9f-9e76-e686381807d4",
   "metadata": {},
   "outputs": [],
   "source": [
    "from libs.elasticsearch import ElasticsearchClient\n",
    "\n",
    "es_client = ElasticsearchClient(hosts=\"http://elasticsearch:9200\", username=\"elastic\", password=\"elastic\")\n",
    "print(\"Ping:\", es_client.ping())\n",
    "print(\"ES Info:\", es_client.info()) # should return cluster info"
   ]
  },
  {
   "cell_type": "markdown",
   "id": "91585eec-02f1-4d73-a755-c2fcb04e29eb",
   "metadata": {},
   "source": [
    "## Init openai"
   ]
  },
  {
   "cell_type": "code",
   "execution_count": null,
   "id": "88ca6dc9-ab17-42ab-9749-5b6c16160b4a",
   "metadata": {},
   "outputs": [],
   "source": [
    "%%capture\n",
    "# https://platform.openai.com/docs/libraries\n",
    "%pip install \\\n",
    "    openai"
   ]
  },
  {
   "cell_type": "code",
   "execution_count": null,
   "id": "7e9b5dcc-74f4-46ce-b442-3e225080af15",
   "metadata": {},
   "outputs": [],
   "source": [
    "import openai\n",
    "\n",
    "from openai import OpenAI\n",
    "\n",
    "client = OpenAI(\n",
    "  # Load your API key from an environment variable or secret management service\n",
    "  api_key = os_util.get_env(\"OPENAI_API_KEY\")\n",
    ")"
   ]
  },
  {
   "cell_type": "markdown",
   "id": "46227ffa-7f56-45c1-9f7d-9a7b53664837",
   "metadata": {},
   "source": [
    "### OpenAI\n",
    "\n",
    "#### Embedding"
   ]
  },
  {
   "cell_type": "code",
   "execution_count": null,
   "id": "dd4ebb77-fe94-4811-b5c7-31bddf76195c",
   "metadata": {},
   "outputs": [],
   "source": [
    "def normalize_text(text):\n",
    "    return \" \".join(text.split())\n",
    "\n",
    "normalize_text(\"\"\"\n",
    "Apple is a corporate structure\n",
    " that\n",
    " \n",
    " is famous\n",
    "\"\"\")"
   ]
  },
  {
   "cell_type": "code",
   "execution_count": null,
   "id": "16067727-4a7f-4109-9b0f-fd066aefcdc9",
   "metadata": {},
   "outputs": [],
   "source": [
    "# Using openai.Embedding syntax\n",
    "def get_embedding(text, model=\"text-embedding-3-small\"):\n",
    "    filtered_text = normalize_text(text)\n",
    "    return client.embeddings.create(input = [filtered_text], model=model).data[0].embedding\n",
    "\n",
    "embeddings = get_embedding(\"Is the Atlantic the biggest ocean in the world?\", model='text-embedding-3-small')\n",
    "len(embeddings)"
   ]
  },
  {
   "cell_type": "markdown",
   "id": "86350c71-8665-4f54-ae75-9b5d761c90b0",
   "metadata": {
    "jp-MarkdownHeadingCollapsed": true
   },
   "source": [
    "## Loading dataset from Kaggle"
   ]
  },
  {
   "cell_type": "markdown",
   "id": "6c9dfd02-0037-4986-bda4-98b203c2d3b2",
   "metadata": {},
   "source": [
    "## Loading dataset from OpenAI Cookbook"
   ]
  },
  {
   "cell_type": "code",
   "execution_count": null,
   "id": "83d3b033-7c35-435c-9fc0-ce3a6eae8bdc",
   "metadata": {},
   "outputs": [],
   "source": [
    "%%capture\n",
    "%pip install \\\n",
    "    wget"
   ]
  },
  {
   "cell_type": "code",
   "execution_count": null,
   "id": "dd15074d-6bcb-4e70-9532-6aeaa5d3193c",
   "metadata": {},
   "outputs": [],
   "source": [
    "import wget\n",
    "import zipfile\n",
    "\n",
    "folder = \"/data/wikipedia/\"\n",
    "\n",
    "embeddings_url = 'https://cdn.openai.com/API/examples/data/vector_database_wikipedia_articles_embedded.zip'\n",
    "wget.download(embeddings_url)\n",
    "\n",
    "with zipfile.ZipFile(\"vector_database_wikipedia_articles_embedded.zip\",\n",
    "\"r\") as zip_ref:\n",
    "    zip_ref.extractall(folder)"
   ]
  },
  {
   "cell_type": "code",
   "execution_count": null,
   "id": "fa8fe25d-c905-4405-89cc-0dc5d796976a",
   "metadata": {},
   "outputs": [],
   "source": [
    "import pandas as pd\n",
    "\n",
    "folder = \"/data/wikipedia/\"\n",
    "\n",
    "dataset_file = folder + \"vector_database_wikipedia_articles_embedded.csv\"\n",
    "df = pd.read_csv(dataset_file)\n",
    "df.head(1)"
   ]
  },
  {
   "cell_type": "code",
   "execution_count": null,
   "id": "a73a878b-edf5-4142-a332-d0e0150bfc25",
   "metadata": {
    "scrolled": true
   },
   "outputs": [],
   "source": [
    "# https://www.elastic.co/guide/en/elasticsearch/reference/current/knn-search-api.html\n",
    "\n",
    "index_name = \"wikipedia_vector_index\"\n",
    "mapping = {\n",
    "  \"mappings\": {\n",
    "    \"properties\": {\n",
    "      \"title_vector\": {\n",
    "          \"type\": \"dense_vector\",\n",
    "          \"dims\": 1536,\n",
    "          \"index\": \"true\",\n",
    "          \"similarity\": \"cosine\"\n",
    "      },\n",
    "      \"content_vector\": {\n",
    "          \"type\": \"dense_vector\",\n",
    "          \"dims\": 1536,\n",
    "          \"index\": \"true\",\n",
    "          \"similarity\": \"cosine\"\n",
    "      },\n",
    "      \"text\": {\"type\": \"text\"},\n",
    "      \"title\": {\"type\": \"text\"},\n",
    "      \"url\": { \"type\": \"keyword\"},\n",
    "      \"vector_id\": {\"type\": \"long\"}\n",
    "    }\n",
    "  }\n",
    "}\n",
    "es_client.create_index(index_name, mapping)"
   ]
  },
  {
   "cell_type": "code",
   "execution_count": null,
   "id": "12d36ff3-d514-4acc-8767-371970ae0b75",
   "metadata": {},
   "outputs": [],
   "source": [
    "es_client.count_index(index_name)"
   ]
  },
  {
   "cell_type": "code",
   "execution_count": null,
   "id": "4afd1b4a-8188-4ec0-980d-3ef325ba5e80",
   "metadata": {},
   "outputs": [],
   "source": [
    "# es_client.delete_index(index_name)"
   ]
  },
  {
   "cell_type": "code",
   "execution_count": null,
   "id": "094994d2-1dac-4cad-b207-29ea7c11e355",
   "metadata": {},
   "outputs": [],
   "source": [
    "import json\n",
    "\n",
    "def dataframe_to_bulk_actions(df):\n",
    "    for index, row in df.iterrows():\n",
    "        yield {\n",
    "            \"_index\": index_name,\n",
    "            \"_id\": row['id'],\n",
    "            \"_source\": {\n",
    "                'url' : row[\"url\"],\n",
    "                'title' : row[\"title\"],\n",
    "                'text' : row[\"text\"],\n",
    "                'title_vector' : json.loads(row[\"title_vector\"]),\n",
    "                'content_vector' : json.loads(row[\"content_vector\"]),\n",
    "                'vector_id' : row[\"vector_id\"]\n",
    "            }\n",
    "        }"
   ]
  },
  {
   "cell_type": "code",
   "execution_count": null,
   "id": "0fb23d57-40a2-441e-9149-bee408b24a1d",
   "metadata": {
    "scrolled": true
   },
   "outputs": [],
   "source": [
    "start = 0\n",
    "end = len(df)\n",
    "batch_size = 100\n",
    "\n",
    "for batch_start in range(start, end, batch_size):\n",
    "    batch_end = min(batch_start + batch_size, end)\n",
    "    batch_dataframe = df.iloc[batch_start:batch_end]\n",
    "    actions = dataframe_to_bulk_actions(batch_dataframe)\n",
    "    \n",
    "    helpers.bulk(es, actions)"
   ]
  },
  {
   "cell_type": "code",
   "execution_count": null,
   "id": "5fc2b3d1-bb21-4f1f-9db7-31251da63c72",
   "metadata": {},
   "outputs": [],
   "source": [
    "print(es_client.search_index(index_name=index_name, body={\n",
    "    \"_source\": {\n",
    "        \"excludes\": [\"title_vector\", \"content_vector\"]\n",
    "    },\n",
    "    \"query\": {\n",
    "        \"match\": {\n",
    "            \"text\": {\n",
    "                \"query\": \"Hummingbird\"\n",
    "            }\n",
    "        }\n",
    "    }\n",
    "}))"
   ]
  },
  {
   "cell_type": "code",
   "execution_count": null,
   "id": "01dd1ac7-2c3e-4cfb-bdee-e7249a0fabd4",
   "metadata": {},
   "outputs": [],
   "source": [
    "# Function to pretty print Elasticsearch results\n",
    "\n",
    "def pretty_response(response):\n",
    "    for hit in response['hits']['hits']:\n",
    "        id = hit['_id']\n",
    "        score = hit['_score']\n",
    "        title = hit['_source']['title']\n",
    "        text = hit['_source']['text']\n",
    "        pretty_output = (f\"\\nID: {id}\\nTitle: {title}\\nSummary: {text}\\nScore: {score}\")\n",
    "        print(pretty_output)"
   ]
  },
  {
   "cell_type": "code",
   "execution_count": null,
   "id": "863b1769-ea98-4f9e-8039-5a15d6cedaf6",
   "metadata": {},
   "outputs": [],
   "source": [
    "question_embedding = get_embedding('Is the Atlantic the biggest ocean in the world?')\n",
    "\n",
    "response = es_client.search_index(\n",
    "  index_name = \"wikipedia_vector_index\",\n",
    "  body=dict(knn={\n",
    "      \"field\": \"content_vector\",\n",
    "      \"query_vector\": question_embedding,\n",
    "      \"k\": 10,\n",
    "      \"num_candidates\": 100\n",
    "    })\n",
    ")\n",
    "pretty_response(response)"
   ]
  },
  {
   "cell_type": "markdown",
   "id": "1e010892-e241-4619-9b2f-d949e5d01bd6",
   "metadata": {},
   "source": [
    "### Unstructured IO\n",
    "\n",
    "https://github.com/Unstructured-IO/unstructured"
   ]
  },
  {
   "cell_type": "code",
   "execution_count": null,
   "id": "eb8cdeb9-bbe9-443b-99be-8df273f83926",
   "metadata": {},
   "outputs": [],
   "source": [
    "%%capture\n",
    "%pip install \\\n",
    "    unstructured-ingest[chroma, confluence, elasticsearch, gcs, github, gitlab, google-drive, jira, kafka, notion, onedrive, openai, postgres, qdrant, reddit, slack, wikipedia] \\\n",
    "    unstructured[pdf,embed-huggingface]<0.16.0"
   ]
  },
  {
   "cell_type": "code",
   "execution_count": null,
   "id": "53282d0a-3ef9-4f5e-82ab-333c850bcede",
   "metadata": {},
   "outputs": [],
   "source": [
    "from typing import List\n",
    "from unstructured.embed.huggingface import (\n",
    "    HuggingFaceEmbeddingConfig,\n",
    "    HuggingFaceEmbeddingEncoder,\n",
    ")\n",
    "\n",
    "def embeddings_for_text(text: str) -> List[float]:\n",
    "    embedding_encoder = HuggingFaceEmbeddingEncoder(config=HuggingFaceEmbeddingConfig())\n",
    "    return embedding_encoder.embed_query(text)\n",
    "\n",
    "def get_embeddings_len(index_name: str):\n",
    "    es = es_client.get_client()\n",
    "    res = es.search(index=index_name, size=1, query={\"match_all\": {}})\n",
    "    return len(res[\"hits\"][\"hits\"][0][\"_source\"][\"embeddings\"])\n",
    "\n",
    "def query(index_name: str, search_text: str):\n",
    "    # Query the index using the appropriate embedding vector for given query text\n",
    "    search_vector = embeddings_for_text(search_text)\n",
    "    # Constructing the search query\n",
    "    return search_index(index_name=index_name, body={\n",
    "        \"query\": {\n",
    "            \"script_score\": {\n",
    "                \"query\": {\"match_all\": {}},\n",
    "                \"script\": {\n",
    "                    \"source\": \"cosineSimilarity(params.query_vector, 'embeddings') + 1.0\",\n",
    "                    \"params\": {\"query_vector\": search_vector},\n",
    "                },\n",
    "            }\n",
    "        }\n",
    "    })\n",
    "\n",
    "embeddings_for_text(\"\")"
   ]
  },
  {
   "cell_type": "markdown",
   "id": "5f1b8a4e-f53d-40e8-ac80-a05653f47869",
   "metadata": {},
   "source": [
    "# Create tables\n",
    "\n",
    "### Unstructured\n",
    "\n",
    "Ex : https://github.com/Unstructured-IO/unstructured/blob/main/scripts/elasticsearch-test-helpers/destination_connector/test-ingest-elasticsearch-output.py"
   ]
  },
  {
   "cell_type": "code",
   "execution_count": null,
   "id": "33d7dbce-5a7e-4f15-890b-04cf054fee1f",
   "metadata": {},
   "outputs": [],
   "source": [
    "index_name = \"unstructured-ingest-test\"\n",
    "mappings = os_util.read_json(\"/data/search/\" + index_name + \"/_index_mappings.json\")\n",
    "\n",
    "print(\"== Creating an Elasticsearch index for testing ingest elasticsearch destination connector ==\")\n",
    "response = es_client.create_index(index_name=index_name, mappings=mappings)\n",
    "\n",
    "# es.indices.refresh(index=index_name)\n",
    "# response = es.cat.count(index=index_name, format=\"json\")\n",
    "response"
   ]
  },
  {
   "cell_type": "code",
   "execution_count": null,
   "id": "b8c4bb95-8a38-4dcc-99d2-270b7943f987",
   "metadata": {},
   "outputs": [],
   "source": [
    "es_client.count_index(index_name)"
   ]
  },
  {
   "cell_type": "markdown",
   "id": "28cd73f8-e757-4d74-a837-b05ce7590e7e",
   "metadata": {},
   "source": [
    "### ES Product catalog\n",
    "\n",
    " Example : https://github.com/elastic/elasticsearch-labs/tree/main/supporting-blog-content/hybrid-search-for-an-e-commerce-product-catalogue/product-store-search"
   ]
  },
  {
   "cell_type": "code",
   "execution_count": null,
   "id": "8f12ad1d-530f-4da3-bf3a-f4b4d62138c5",
   "metadata": {},
   "outputs": [],
   "source": [
    "index_name = \"products-catalog\"\n",
    "mapping = {\n",
    "    \"settings\": {\n",
    "        \"index\": {\n",
    "            \"number_of_replicas\": 0,\n",
    "            \"number_of_shards\": 1,\n",
    "        }\n",
    "    },\n",
    "    \"mappings\": {\n",
    "        \"properties\": {\n",
    "            \"id\": {\"type\": \"keyword\"},\n",
    "            \"brand\": {\n",
    "                \"type\": \"text\",\n",
    "                \"fields\": {\"keyword\": {\"type\": \"keyword\"}},\n",
    "            },\n",
    "            \"name\": {\"type\": \"text\"},\n",
    "            \"price\": {\"type\": \"float\"},\n",
    "            \"price_sign\": {\"type\": \"keyword\"},\n",
    "            \"currency\": {\"type\": \"keyword\"},\n",
    "            \"image_link\": {\"type\": \"keyword\"},\n",
    "            \"description\": {\"type\": \"text\"},\n",
    "            \"description_embeddings\": {\"type\": \"dense_vector\", \"dims\": 384},\n",
    "            \"rating\": {\"type\": \"keyword\"},\n",
    "            \"category\": {\"type\": \"keyword\"},\n",
    "            \"product_type\": {\"type\": \"keyword\"},\n",
    "            \"tag_list\": {\"type\": \"keyword\"},\n",
    "        }\n",
    "    },\n",
    "}\n",
    "es_client.create_index(index_name, mapping)"
   ]
  },
  {
   "cell_type": "code",
   "execution_count": null,
   "id": "21ce5ec7-d5a7-426b-a9e6-8e2ef50961fe",
   "metadata": {},
   "outputs": [],
   "source": [
    "def build_query(term=None, categories=None, product_types=None, brands=None):\n",
    "    must_query = (\n",
    "        [{\"match_all\": {}}]\n",
    "        if not term\n",
    "        else [\n",
    "            {\n",
    "                \"multi_match\": {\n",
    "                    \"query\": term,\n",
    "                    \"fields\": [\"name\", \"category\", \"description\"],\n",
    "                }\n",
    "            }\n",
    "        ]\n",
    "    )\n",
    "    filters = []\n",
    "    if categories:\n",
    "        filters.append({\"terms\": {\"category\": categories}})\n",
    "    if product_types:\n",
    "        filters.append({\"terms\": {\"product_type\": product_types}})\n",
    "    if brands:\n",
    "        filters.append({\"terms\": {\"brand.keyword\": brands}})\n",
    "    return {\n",
    "        \"_source\": [\n",
    "            \"id\",\n",
    "            \"brand\",\n",
    "            \"name\",\n",
    "            \"price\",\n",
    "            \"currency\",\n",
    "            \"image_link\",\n",
    "            \"category\",\n",
    "            \"tag_list\",\n",
    "        ],\n",
    "        \"query\": {\"bool\": {\"must\": must_query, \"filter\": filters}},\n",
    "    }\n",
    "\n",
    "\n",
    "def build_hybrid_query(term=None, categories=None, product_types=None, brands=None, hybrid=False):\n",
    "    # Standard query\n",
    "    organic_query = build_query(term, categories, product_types, brands)\n",
    "\n",
    "    if hybrid is True and term:\n",
    "        vector = get_text_vector([term])[0]\n",
    "        # Hybrid query with RRF (Reciprocal Rank Fusion)\n",
    "        query = {\n",
    "            \"retriever\": {\n",
    "                \"rrf\": {\n",
    "                    \"retrievers\": [\n",
    "                        {\"standard\": {\"query\": organic_query[\"query\"]}},\n",
    "                        {\n",
    "                            \"knn\": {\n",
    "                                \"field\": \"description_embeddings\",\n",
    "                                \"query_vector\": vector,\n",
    "                                \"k\": 5,\n",
    "                                \"num_candidates\": 20,\n",
    "                                \"filter\": {\"bool\": {\"filter\": []}},\n",
    "                            }\n",
    "                        },\n",
    "                    ],\n",
    "                    \"rank_window_size\": 20,\n",
    "                    \"rank_constant\": 5,\n",
    "                }\n",
    "            },\n",
    "            \"_source\": organic_query[\"_source\"],\n",
    "        }\n",
    "        if categories:\n",
    "            query[\"retriever\"][\"rrf\"][\"retrievers\"][1][\"knn\"][\"filter\"][\"bool\"][\n",
    "                \"filter\"\n",
    "            ].append({\"terms\": {\"category\": categories}})\n",
    "        if product_types:\n",
    "            query[\"retriever\"][\"rrf\"][\"retrievers\"][1][\"knn\"][\"filter\"][\"bool\"][\n",
    "                \"filter\"\n",
    "            ].append({\"terms\": {\"product_type\": product_types}})\n",
    "        if brands:\n",
    "            query[\"retriever\"][\"rrf\"][\"retrievers\"][1][\"knn\"][\"filter\"][\"bool\"][\n",
    "                \"filter\"\n",
    "            ].append({\"terms\": {\"brand.keyword\": brands}})\n",
    "    else:\n",
    "        query = organic_query\n",
    "\n",
    "    return query\n",
    "\n",
    "def search_products(\n",
    "    term,\n",
    "    categories=None,\n",
    "    product_types=None,\n",
    "    brands=None,\n",
    "    promote_products=[],\n",
    "    hybrid=False,\n",
    "):\n",
    "    query = build_hybrid_query(term, categories, product_types, brands, hybrid)\n",
    "\n",
    "    if promote_products and not hybrid:\n",
    "        query = {\n",
    "            \"query\": {\"pinned\": {\"ids\": promote_products, \"organic\": query[\"query\"]}},\n",
    "            \"_source\": query[\"_source\"],\n",
    "        }\n",
    "\n",
    "    print(query)\n",
    "    response = es_client.get_client().search(index=\"products-catalog\", body=query, size=20)\n",
    "\n",
    "    results = []\n",
    "    for hit in response[\"hits\"][\"hits\"]:\n",
    "        print(f\"Product Name: {hit['_source']['name']}, Score: {hit['_score']}\")\n",
    "\n",
    "        results.append(\n",
    "            {\n",
    "                \"id\": hit[\"_source\"][\"id\"],\n",
    "                \"brand\": hit[\"_source\"][\"brand\"],\n",
    "                \"name\": hit[\"_source\"][\"name\"],\n",
    "                \"price\": hit[\"_source\"][\"price\"],\n",
    "                \"currency\": (\n",
    "                    hit[\"_source\"][\"currency\"] if hit[\"_source\"][\"currency\"] else \"USD\"\n",
    "                ),\n",
    "                \"image_link\": hit[\"_source\"][\"image_link\"],\n",
    "                \"category\": hit[\"_source\"][\"category\"],\n",
    "                \"tags\": hit[\"_source\"].get(\"tag_list\", []),\n",
    "            }\n",
    "        )\n",
    "\n",
    "    return results\n",
    "\n",
    "\n",
    "def get_facets_data(term, categories=None, product_types=None, brands=None):\n",
    "    query = build_query(term, categories, product_types, brands)\n",
    "    query[\"aggs\"] = {\n",
    "        \"product_types\": {\"terms\": {\"field\": \"product_type\"}},\n",
    "        \"categories\": {\"terms\": {\"field\": \"category\"}},\n",
    "        \"brands\": {\"terms\": {\"field\": \"brand.keyword\"}},\n",
    "    }\n",
    "    response = es_client.get_client().search(index=\"products-catalog\", body=query, size=0)\n",
    "\n",
    "    return {\n",
    "        \"product_types\": [\n",
    "            {\"product_type\": bucket[\"key\"], \"count\": bucket[\"doc_count\"]}\n",
    "            for bucket in response[\"aggregations\"][\"product_types\"][\"buckets\"]\n",
    "        ],\n",
    "        \"categories\": [\n",
    "            {\"category\": bucket[\"key\"], \"count\": bucket[\"doc_count\"]}\n",
    "            for bucket in response[\"aggregations\"][\"categories\"][\"buckets\"]\n",
    "        ],\n",
    "        \"brands\": [\n",
    "            {\"brand\": bucket[\"key\"], \"count\": bucket[\"doc_count\"]}\n",
    "            for bucket in response[\"aggregations\"][\"brands\"][\"buckets\"]\n",
    "        ],\n",
    "    }"
   ]
  },
  {
   "cell_type": "markdown",
   "id": "39822073-0777-4545-bdc7-e8cfdad19130",
   "metadata": {},
   "source": [
    "## Chunk data for batch processing"
   ]
  },
  {
   "cell_type": "code",
   "execution_count": null,
   "id": "9ab5bdd3-6f21-4c72-8493-1df8591174af",
   "metadata": {},
   "outputs": [],
   "source": [
    "def chunk_data(data, batch_size):\n",
    "    \"\"\"\n",
    "    Yields chunks of data in batch sizes for bulk indexing in Elasticsearch.\n",
    "    \"\"\"\n",
    "    for i in range(0, len(data), batch_size):\n",
    "        yield data[i : i + batch_size]"
   ]
  },
  {
   "cell_type": "markdown",
   "id": "876bc922-c5e5-49f7-8f82-3cd14bb5f650",
   "metadata": {},
   "source": [
    "## Generate bulk actions for Elasticsearch indexing"
   ]
  },
  {
   "cell_type": "code",
   "execution_count": null,
   "id": "ae032cc6-3728-4c12-8520-0fce8ea3a9ab",
   "metadata": {},
   "outputs": [],
   "source": [
    "def generate_bulk_actions(index_name, data_batch):\n",
    "    \"\"\"\n",
    "    Generates bulk actions for Elasticsearch from data batches.\n",
    "    Adds 'description_embeddings' by encoding the 'description' field.\n",
    "    \"\"\"\n",
    "    for item in data_batch:\n",
    "        document_id = item[\"id\"]\n",
    "        item[\"description_embeddings\"] = get_text_vector(item[\"description\"])\n",
    "        yield {\"_index\": index_name, \"_id\": document_id, \"_source\": item}"
   ]
  },
  {
   "cell_type": "markdown",
   "id": "1b11b0e6-bace-4761-9fbe-003b3ac4c013",
   "metadata": {},
   "source": [
    "## Indexing data in batches to Elasticsearch"
   ]
  },
  {
   "cell_type": "code",
   "execution_count": null,
   "id": "fffd2fbf-e3e8-405d-8c02-e47895b0e94a",
   "metadata": {},
   "outputs": [],
   "source": [
    "from elasticsearch import helpers\n",
    "\n",
    "def index_data_in_batches(file_path, index_name, batch_size=100):\n",
    "    \"\"\"\n",
    "    Indexes data from the JSON file in batches using Elasticsearch helpers.bulk.\n",
    "    \"\"\"\n",
    "    data = os_util.read_json(file_path)\n",
    "\n",
    "    for batch in chunk_data(data, batch_size):\n",
    "        actions = generate_bulk_actions(index_name, batch)\n",
    "        success, failed = helpers.bulk(es_client.get_client(), actions)\n",
    "        print(f\"Batch indexed: {success} successful, {failed} failed\")\n",
    "\n",
    "\n",
    "# main execution block\n",
    "# if __name__ == '__main__':\n",
    "#     index_data_in_batches(\"../files/dataset/products.json\", \"products-catalog\", batch_size=100)"
   ]
  },
  {
   "cell_type": "code",
   "execution_count": null,
   "id": "a1961f12-0535-4647-a4c1-344961baa092",
   "metadata": {},
   "outputs": [],
   "source": [
    "index_data_in_batches(\n",
    "    \"/data/search/products-catalog/products.json\", \"products-catalog\", batch_size=100\n",
    ")"
   ]
  },
  {
   "cell_type": "markdown",
   "id": "043a3c6b-90b1-4e7f-8f44-4a73bf54da8c",
   "metadata": {},
   "source": [
    "# Semantic Search\n",
    "\n",
    "## Sentence transformer\n",
    "\n",
    "https://sbert.net/docs/quickstart.html\n",
    "\n",
    "* max_seq_length : max # of tokens encoded into a single vector embedding. Beyond is truncated\n",
    "* word_embedding_dimension : # of dimensionality of vector\n",
    "* Normalize : final step is normalization"
   ]
  },
  {
   "cell_type": "code",
   "execution_count": null,
   "id": "e59bcf63-22bd-4d3f-8e8e-50ca61fd65ee",
   "metadata": {},
   "outputs": [],
   "source": [
    "# The sentences to encode\n",
    "sentences = [\n",
    "    \"The weather is lovely today.\",\n",
    "    \"It's so sunny outside!\",\n",
    "    \"He drove to the stadium.\",\n",
    "]\n",
    "embeddings = get_text_vector(sentences)\n",
    "print(embeddings.shape)\n",
    "# [3, 384]\n",
    "\n",
    "# => Calculate the embedding similarities\n",
    "# similarities = model.similarity(embeddings, embeddings)\n",
    "# print(similarities)\n",
    "# tensor([[1.0000, 0.6660, 0.1046],\n",
    "#         [0.6660, 1.0000, 0.1411],\n",
    "#         [0.1046, 0.1411, 1.0000]])"
   ]
  },
  {
   "cell_type": "code",
   "execution_count": null,
   "id": "52fea98d-4a35-49f1-94b9-35b745bfc2da",
   "metadata": {},
   "outputs": [],
   "source": [
    "query = 'which city is the most populated in the world'\n",
    "\n",
    "embeddings = model.encode(query)\n",
    "print(embeddings.shape)\n",
    "# [3, 384]"
   ]
  },
  {
   "cell_type": "code",
   "execution_count": null,
   "id": "7d5f207e-bd92-4e33-8e51-ea1820507886",
   "metadata": {},
   "outputs": [],
   "source": [
    "import torch\n",
    "\n",
    "_id = '0'\n",
    "metadata = {'text': query}\n",
    "vectors = [{_id, embeddings, metadata}]"
   ]
  },
  {
   "cell_type": "code",
   "execution_count": null,
   "id": "fecf2bb7-e874-4fba-b6ee-214fc504e904",
   "metadata": {},
   "outputs": [],
   "source": []
  }
 ],
 "metadata": {
  "kernelspec": {
   "display_name": "Python 3 (ipykernel)",
   "language": "python",
   "name": "python3"
  },
  "language_info": {
   "codemirror_mode": {
    "name": "ipython",
    "version": 3
   },
   "file_extension": ".py",
   "mimetype": "text/x-python",
   "name": "python",
   "nbconvert_exporter": "python",
   "pygments_lexer": "ipython3",
   "version": "3.11.6"
  }
 },
 "nbformat": 4,
 "nbformat_minor": 5
}
